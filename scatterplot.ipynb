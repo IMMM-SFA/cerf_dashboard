{
 "cells": [
  {
   "cell_type": "code",
   "execution_count": 1,
   "id": "d3eb137a",
   "metadata": {},
   "outputs": [],
   "source": [
    "import cerf\n",
    "import pandas as pd\n",
    "import plotly.express as px"
   ]
  },
  {
   "cell_type": "code",
   "execution_count": 7,
   "id": "ae2890e8",
   "metadata": {},
   "outputs": [
    {
     "name": "stdout",
     "output_type": "stream",
     "text": [
      "     region_name  tech_id             tech_name  unit_size_mw        xcoord  \\\n",
      "0        alabama        4  coal_conv_pul_wo_ccs         600.0  7.449472e+05   \n",
      "1        alabama        4  coal_conv_pul_wo_ccs         600.0  7.909472e+05   \n",
      "2        alabama        4  coal_conv_pul_wo_ccs         600.0  8.549472e+05   \n",
      "3        alabama        4  coal_conv_pul_wo_ccs         600.0  9.579472e+05   \n",
      "4        alabama        4  coal_conv_pul_wo_ccs         600.0  7.749472e+05   \n",
      "...          ...      ...                   ...           ...           ...   \n",
      "8364     wyoming       18          wind_onshore         251.0 -7.290528e+05   \n",
      "8365     wyoming       18          wind_onshore         251.0 -7.220528e+05   \n",
      "8366     wyoming       18          wind_onshore         251.0 -8.190528e+05   \n",
      "8367     wyoming       18          wind_onshore         251.0 -8.930528e+05   \n",
      "8368     wyoming       18          wind_onshore         251.0 -1.223053e+06   \n",
      "\n",
      "           ycoord    index  buffer_in_km  sited_year  retirement_year  ...  \\\n",
      "0    -364565.2005  9267132             5        2010             2070  ...   \n",
      "1    -386565.2005  9370424             5        2010             2070  ...   \n",
      "2    -470565.2005  9764700             5        2010             2070  ...   \n",
      "3    -376565.2005  9323661             5        2010             2070  ...   \n",
      "4    -473565.2005  9778699             5        2010             2070  ...   \n",
      "...           ...      ...           ...         ...              ...  ...   \n",
      "8364  550434.7995  4971563             5        2050             2080  ...   \n",
      "8365  501434.7995  5201527             5        2050             2080  ...   \n",
      "8366  479434.7995  5304676             5        2050             2080  ...   \n",
      "8367  572434.7995  4868153             5        2050             2080  ...   \n",
      "8368  538434.7995  5027385             5        2050             2080  ...   \n",
      "\n",
      "      carbon_capture_rate_fraction  fuel_co2_content_tons_per_btu  \\\n",
      "0                              0.0                        0.36036   \n",
      "1                              0.0                        0.36036   \n",
      "2                              0.0                        0.36036   \n",
      "3                              0.0                        0.36036   \n",
      "4                              0.0                        0.36036   \n",
      "...                            ...                            ...   \n",
      "8364                           0.0                        0.00000   \n",
      "8365                           0.0                        0.00000   \n",
      "8366                           0.0                        0.00000   \n",
      "8367                           0.0                        0.00000   \n",
      "8368                           0.0                        0.00000   \n",
      "\n",
      "      fuel_price_usd_per_mmbtu  fuel_price_esc_rate_fraction  \\\n",
      "0                      2.39413                       0.09122   \n",
      "1                      2.39413                       0.09122   \n",
      "2                      2.39413                       0.09122   \n",
      "3                      2.39413                       0.09122   \n",
      "4                      2.39413                       0.09122   \n",
      "...                        ...                           ...   \n",
      "8364                   0.00000                       0.00000   \n",
      "8365                   0.00000                       0.00000   \n",
      "8366                   0.00000                       0.00000   \n",
      "8367                   0.00000                       0.00000   \n",
      "8368                   0.00000                       0.00000   \n",
      "\n",
      "      heat_rate_btu_per_kWh  lifetime_yrs  variable_om_usd_per_mwh  \\\n",
      "0                    8594.5          60.0                 4.002582   \n",
      "1                    8594.5          60.0                 4.002582   \n",
      "2                    8594.5          60.0                 4.002582   \n",
      "3                    8594.5          60.0                 4.002582   \n",
      "4                    8594.5          60.0                 4.002582   \n",
      "...                     ...           ...                      ...   \n",
      "8364                 3412.0          30.0                 0.000000   \n",
      "8365                 3412.0          30.0                 0.000000   \n",
      "8366                 3412.0          30.0                 0.000000   \n",
      "8367                 3412.0          30.0                 0.000000   \n",
      "8368                 3412.0          30.0                 0.000000   \n",
      "\n",
      "      variable_om_esc_rate_fraction  carbon_tax_usd_per_ton  \\\n",
      "0                         -0.003990                     0.0   \n",
      "1                         -0.003990                     0.0   \n",
      "2                         -0.003990                     0.0   \n",
      "3                         -0.003990                     0.0   \n",
      "4                         -0.003990                     0.0   \n",
      "...                             ...                     ...   \n",
      "8364                      -0.002496                     0.0   \n",
      "8365                      -0.002496                     0.0   \n",
      "8366                      -0.002496                     0.0   \n",
      "8367                      -0.002496                     0.0   \n",
      "8368                      -0.002496                     0.0   \n",
      "\n",
      "      carbon_tax_esc_rate_fraction  \n",
      "0                              0.0  \n",
      "1                              0.0  \n",
      "2                              0.0  \n",
      "3                              0.0  \n",
      "4                              0.0  \n",
      "...                            ...  \n",
      "8364                           0.0  \n",
      "8365                           0.0  \n",
      "8366                           0.0  \n",
      "8367                           0.0  \n",
      "8368                           0.0  \n",
      "\n",
      "[8369 rows x 28 columns]\n"
     ]
    }
   ],
   "source": [
    "df = pd.read_csv('example_cerf_output.csv')\n",
    "print(df)"
   ]
  },
  {
   "cell_type": "code",
   "execution_count": 6,
   "id": "860c0746",
   "metadata": {},
   "outputs": [
    {
     "name": "stdout",
     "output_type": "stream",
     "text": [
      "<class 'pandas.core.frame.DataFrame'>\n",
      "RangeIndex: 8369 entries, 0 to 8368\n",
      "Data columns (total 28 columns):\n",
      " #   Column                                 Non-Null Count  Dtype  \n",
      "---  ------                                 --------------  -----  \n",
      " 0   region_name                            8369 non-null   object \n",
      " 1   tech_id                                8369 non-null   int64  \n",
      " 2   tech_name                              8369 non-null   object \n",
      " 3   unit_size_mw                           8369 non-null   float64\n",
      " 4   xcoord                                 8369 non-null   float64\n",
      " 5   ycoord                                 8369 non-null   float64\n",
      " 6   index                                  8369 non-null   int64  \n",
      " 7   buffer_in_km                           8369 non-null   int64  \n",
      " 8   sited_year                             8369 non-null   int64  \n",
      " 9   retirement_year                        8369 non-null   int64  \n",
      " 10  lmp_zone                               8369 non-null   int64  \n",
      " 11  locational_marginal_price_usd_per_mwh  8367 non-null   float64\n",
      " 12  generation_mwh_per_year                8369 non-null   float64\n",
      " 13  operating_cost_usd_per_year            8367 non-null   float64\n",
      " 14  net_operational_value_usd_per_year     8367 non-null   float64\n",
      " 15  interconnection_cost_usd_per_year      8369 non-null   float64\n",
      " 16  net_locational_cost_usd_per_year       8369 non-null   float64\n",
      " 17  capacity_factor_fraction               8369 non-null   float64\n",
      " 18  carbon_capture_rate_fraction           8369 non-null   float64\n",
      " 19  fuel_co2_content_tons_per_btu          8369 non-null   float64\n",
      " 20  fuel_price_usd_per_mmbtu               8369 non-null   float64\n",
      " 21  fuel_price_esc_rate_fraction           8369 non-null   float64\n",
      " 22  heat_rate_btu_per_kWh                  8369 non-null   float64\n",
      " 23  lifetime_yrs                           8369 non-null   float64\n",
      " 24  variable_om_usd_per_mwh                8369 non-null   float64\n",
      " 25  variable_om_esc_rate_fraction          8369 non-null   float64\n",
      " 26  carbon_tax_usd_per_ton                 8369 non-null   float64\n",
      " 27  carbon_tax_esc_rate_fraction           8369 non-null   float64\n",
      "dtypes: float64(20), int64(6), object(2)\n",
      "memory usage: 1.8+ MB\n",
      "None\n"
     ]
    }
   ],
   "source": [
    "#print the titles/info\n",
    "print(df.info())"
   ]
  },
  {
   "cell_type": "code",
   "execution_count": 17,
   "id": "bd9e5d05",
   "metadata": {},
   "outputs": [
    {
     "data": {
      "text/html": [
       "<div>\n",
       "<style scoped>\n",
       "    .dataframe tbody tr th:only-of-type {\n",
       "        vertical-align: middle;\n",
       "    }\n",
       "\n",
       "    .dataframe tbody tr th {\n",
       "        vertical-align: top;\n",
       "    }\n",
       "\n",
       "    .dataframe thead th {\n",
       "        text-align: right;\n",
       "    }\n",
       "</style>\n",
       "<table border=\"1\" class=\"dataframe\">\n",
       "  <thead>\n",
       "    <tr style=\"text-align: right;\">\n",
       "      <th></th>\n",
       "      <th>region_name</th>\n",
       "      <th>tech_id</th>\n",
       "      <th>tech_name</th>\n",
       "      <th>unit_size_mw</th>\n",
       "      <th>xcoord</th>\n",
       "      <th>ycoord</th>\n",
       "      <th>index</th>\n",
       "      <th>buffer_in_km</th>\n",
       "      <th>sited_year</th>\n",
       "      <th>retirement_year</th>\n",
       "      <th>...</th>\n",
       "      <th>carbon_capture_rate_fraction</th>\n",
       "      <th>fuel_co2_content_tons_per_btu</th>\n",
       "      <th>fuel_price_usd_per_mmbtu</th>\n",
       "      <th>fuel_price_esc_rate_fraction</th>\n",
       "      <th>heat_rate_btu_per_kWh</th>\n",
       "      <th>lifetime_yrs</th>\n",
       "      <th>variable_om_usd_per_mwh</th>\n",
       "      <th>variable_om_esc_rate_fraction</th>\n",
       "      <th>carbon_tax_usd_per_ton</th>\n",
       "      <th>carbon_tax_esc_rate_fraction</th>\n",
       "    </tr>\n",
       "  </thead>\n",
       "  <tbody>\n",
       "    <tr>\n",
       "      <th>1553</th>\n",
       "      <td>alabama</td>\n",
       "      <td>4</td>\n",
       "      <td>coal_conv_pul_wo_ccs</td>\n",
       "      <td>600.0</td>\n",
       "      <td>8.569472e+05</td>\n",
       "      <td>-638565.2005</td>\n",
       "      <td>10553126</td>\n",
       "      <td>5</td>\n",
       "      <td>2030</td>\n",
       "      <td>2090</td>\n",
       "      <td>...</td>\n",
       "      <td>0.0</td>\n",
       "      <td>0.36036</td>\n",
       "      <td>2.45646</td>\n",
       "      <td>0.00804</td>\n",
       "      <td>7861.8</td>\n",
       "      <td>60.0</td>\n",
       "      <td>3.873467</td>\n",
       "      <td>-0.003990</td>\n",
       "      <td>0.0</td>\n",
       "      <td>0.0</td>\n",
       "    </tr>\n",
       "    <tr>\n",
       "      <th>1554</th>\n",
       "      <td>alabama</td>\n",
       "      <td>4</td>\n",
       "      <td>coal_conv_pul_wo_ccs</td>\n",
       "      <td>600.0</td>\n",
       "      <td>8.159472e+05</td>\n",
       "      <td>-360565.2005</td>\n",
       "      <td>9248431</td>\n",
       "      <td>5</td>\n",
       "      <td>2030</td>\n",
       "      <td>2090</td>\n",
       "      <td>...</td>\n",
       "      <td>0.0</td>\n",
       "      <td>0.36036</td>\n",
       "      <td>2.45646</td>\n",
       "      <td>0.00804</td>\n",
       "      <td>7861.8</td>\n",
       "      <td>60.0</td>\n",
       "      <td>3.873467</td>\n",
       "      <td>-0.003990</td>\n",
       "      <td>0.0</td>\n",
       "      <td>0.0</td>\n",
       "    </tr>\n",
       "    <tr>\n",
       "      <th>1555</th>\n",
       "      <td>alabama</td>\n",
       "      <td>4</td>\n",
       "      <td>coal_conv_pul_wo_ccs</td>\n",
       "      <td>600.0</td>\n",
       "      <td>9.789472e+05</td>\n",
       "      <td>-492565.2005</td>\n",
       "      <td>9868070</td>\n",
       "      <td>5</td>\n",
       "      <td>2030</td>\n",
       "      <td>2090</td>\n",
       "      <td>...</td>\n",
       "      <td>0.0</td>\n",
       "      <td>0.36036</td>\n",
       "      <td>2.45646</td>\n",
       "      <td>0.00804</td>\n",
       "      <td>7861.8</td>\n",
       "      <td>60.0</td>\n",
       "      <td>3.873467</td>\n",
       "      <td>-0.003990</td>\n",
       "      <td>0.0</td>\n",
       "      <td>0.0</td>\n",
       "    </tr>\n",
       "    <tr>\n",
       "      <th>1556</th>\n",
       "      <td>alabama</td>\n",
       "      <td>4</td>\n",
       "      <td>coal_conv_pul_wo_ccs</td>\n",
       "      <td>600.0</td>\n",
       "      <td>8.479472e+05</td>\n",
       "      <td>-674565.2005</td>\n",
       "      <td>10722065</td>\n",
       "      <td>5</td>\n",
       "      <td>2030</td>\n",
       "      <td>2090</td>\n",
       "      <td>...</td>\n",
       "      <td>0.0</td>\n",
       "      <td>0.36036</td>\n",
       "      <td>2.45646</td>\n",
       "      <td>0.00804</td>\n",
       "      <td>7861.8</td>\n",
       "      <td>60.0</td>\n",
       "      <td>3.873467</td>\n",
       "      <td>-0.003990</td>\n",
       "      <td>0.0</td>\n",
       "      <td>0.0</td>\n",
       "    </tr>\n",
       "    <tr>\n",
       "      <th>1557</th>\n",
       "      <td>alabama</td>\n",
       "      <td>4</td>\n",
       "      <td>coal_conv_pul_wo_ccs</td>\n",
       "      <td>600.0</td>\n",
       "      <td>7.929472e+05</td>\n",
       "      <td>-462565.2005</td>\n",
       "      <td>9727094</td>\n",
       "      <td>5</td>\n",
       "      <td>2030</td>\n",
       "      <td>2090</td>\n",
       "      <td>...</td>\n",
       "      <td>0.0</td>\n",
       "      <td>0.36036</td>\n",
       "      <td>2.45646</td>\n",
       "      <td>0.00804</td>\n",
       "      <td>7861.8</td>\n",
       "      <td>60.0</td>\n",
       "      <td>3.873467</td>\n",
       "      <td>-0.003990</td>\n",
       "      <td>0.0</td>\n",
       "      <td>0.0</td>\n",
       "    </tr>\n",
       "    <tr>\n",
       "      <th>...</th>\n",
       "      <td>...</td>\n",
       "      <td>...</td>\n",
       "      <td>...</td>\n",
       "      <td>...</td>\n",
       "      <td>...</td>\n",
       "      <td>...</td>\n",
       "      <td>...</td>\n",
       "      <td>...</td>\n",
       "      <td>...</td>\n",
       "      <td>...</td>\n",
       "      <td>...</td>\n",
       "      <td>...</td>\n",
       "      <td>...</td>\n",
       "      <td>...</td>\n",
       "      <td>...</td>\n",
       "      <td>...</td>\n",
       "      <td>...</td>\n",
       "      <td>...</td>\n",
       "      <td>...</td>\n",
       "      <td>...</td>\n",
       "      <td>...</td>\n",
       "    </tr>\n",
       "    <tr>\n",
       "      <th>3911</th>\n",
       "      <td>wyoming</td>\n",
       "      <td>17</td>\n",
       "      <td>solar_pv_non_dist</td>\n",
       "      <td>80.0</td>\n",
       "      <td>-1.123053e+06</td>\n",
       "      <td>662434.7995</td>\n",
       "      <td>4445553</td>\n",
       "      <td>5</td>\n",
       "      <td>2030</td>\n",
       "      <td>2060</td>\n",
       "      <td>...</td>\n",
       "      <td>0.0</td>\n",
       "      <td>0.00000</td>\n",
       "      <td>0.00000</td>\n",
       "      <td>0.00000</td>\n",
       "      <td>3412.0</td>\n",
       "      <td>30.0</td>\n",
       "      <td>0.000000</td>\n",
       "      <td>1.000000</td>\n",
       "      <td>0.0</td>\n",
       "      <td>0.0</td>\n",
       "    </tr>\n",
       "    <tr>\n",
       "      <th>3912</th>\n",
       "      <td>wyoming</td>\n",
       "      <td>18</td>\n",
       "      <td>wind_onshore</td>\n",
       "      <td>251.0</td>\n",
       "      <td>-7.150528e+05</td>\n",
       "      <td>568434.7995</td>\n",
       "      <td>4887103</td>\n",
       "      <td>5</td>\n",
       "      <td>2030</td>\n",
       "      <td>2060</td>\n",
       "      <td>...</td>\n",
       "      <td>0.0</td>\n",
       "      <td>0.00000</td>\n",
       "      <td>0.00000</td>\n",
       "      <td>0.00000</td>\n",
       "      <td>3412.0</td>\n",
       "      <td>30.0</td>\n",
       "      <td>0.000000</td>\n",
       "      <td>-0.002496</td>\n",
       "      <td>0.0</td>\n",
       "      <td>0.0</td>\n",
       "    </tr>\n",
       "    <tr>\n",
       "      <th>3913</th>\n",
       "      <td>wyoming</td>\n",
       "      <td>18</td>\n",
       "      <td>wind_onshore</td>\n",
       "      <td>251.0</td>\n",
       "      <td>-7.540528e+05</td>\n",
       "      <td>818434.7995</td>\n",
       "      <td>3713814</td>\n",
       "      <td>5</td>\n",
       "      <td>2030</td>\n",
       "      <td>2060</td>\n",
       "      <td>...</td>\n",
       "      <td>0.0</td>\n",
       "      <td>0.00000</td>\n",
       "      <td>0.00000</td>\n",
       "      <td>0.00000</td>\n",
       "      <td>3412.0</td>\n",
       "      <td>30.0</td>\n",
       "      <td>0.000000</td>\n",
       "      <td>-0.002496</td>\n",
       "      <td>0.0</td>\n",
       "      <td>0.0</td>\n",
       "    </tr>\n",
       "    <tr>\n",
       "      <th>3914</th>\n",
       "      <td>wyoming</td>\n",
       "      <td>18</td>\n",
       "      <td>wind_onshore</td>\n",
       "      <td>251.0</td>\n",
       "      <td>-1.240053e+06</td>\n",
       "      <td>523434.7995</td>\n",
       "      <td>5097763</td>\n",
       "      <td>5</td>\n",
       "      <td>2030</td>\n",
       "      <td>2060</td>\n",
       "      <td>...</td>\n",
       "      <td>0.0</td>\n",
       "      <td>0.00000</td>\n",
       "      <td>0.00000</td>\n",
       "      <td>0.00000</td>\n",
       "      <td>3412.0</td>\n",
       "      <td>30.0</td>\n",
       "      <td>0.000000</td>\n",
       "      <td>-0.002496</td>\n",
       "      <td>0.0</td>\n",
       "      <td>0.0</td>\n",
       "    </tr>\n",
       "    <tr>\n",
       "      <th>3915</th>\n",
       "      <td>wyoming</td>\n",
       "      <td>18</td>\n",
       "      <td>wind_onshore</td>\n",
       "      <td>251.0</td>\n",
       "      <td>-1.196053e+06</td>\n",
       "      <td>572434.7995</td>\n",
       "      <td>4867850</td>\n",
       "      <td>5</td>\n",
       "      <td>2030</td>\n",
       "      <td>2060</td>\n",
       "      <td>...</td>\n",
       "      <td>0.0</td>\n",
       "      <td>0.00000</td>\n",
       "      <td>0.00000</td>\n",
       "      <td>0.00000</td>\n",
       "      <td>3412.0</td>\n",
       "      <td>30.0</td>\n",
       "      <td>0.000000</td>\n",
       "      <td>-0.002496</td>\n",
       "      <td>0.0</td>\n",
       "      <td>0.0</td>\n",
       "    </tr>\n",
       "  </tbody>\n",
       "</table>\n",
       "<p>2363 rows × 28 columns</p>\n",
       "</div>"
      ],
      "text/plain": [
       "     region_name  tech_id             tech_name  unit_size_mw        xcoord  \\\n",
       "1553     alabama        4  coal_conv_pul_wo_ccs         600.0  8.569472e+05   \n",
       "1554     alabama        4  coal_conv_pul_wo_ccs         600.0  8.159472e+05   \n",
       "1555     alabama        4  coal_conv_pul_wo_ccs         600.0  9.789472e+05   \n",
       "1556     alabama        4  coal_conv_pul_wo_ccs         600.0  8.479472e+05   \n",
       "1557     alabama        4  coal_conv_pul_wo_ccs         600.0  7.929472e+05   \n",
       "...          ...      ...                   ...           ...           ...   \n",
       "3911     wyoming       17     solar_pv_non_dist          80.0 -1.123053e+06   \n",
       "3912     wyoming       18          wind_onshore         251.0 -7.150528e+05   \n",
       "3913     wyoming       18          wind_onshore         251.0 -7.540528e+05   \n",
       "3914     wyoming       18          wind_onshore         251.0 -1.240053e+06   \n",
       "3915     wyoming       18          wind_onshore         251.0 -1.196053e+06   \n",
       "\n",
       "           ycoord     index  buffer_in_km  sited_year  retirement_year  ...  \\\n",
       "1553 -638565.2005  10553126             5        2030             2090  ...   \n",
       "1554 -360565.2005   9248431             5        2030             2090  ...   \n",
       "1555 -492565.2005   9868070             5        2030             2090  ...   \n",
       "1556 -674565.2005  10722065             5        2030             2090  ...   \n",
       "1557 -462565.2005   9727094             5        2030             2090  ...   \n",
       "...           ...       ...           ...         ...              ...  ...   \n",
       "3911  662434.7995   4445553             5        2030             2060  ...   \n",
       "3912  568434.7995   4887103             5        2030             2060  ...   \n",
       "3913  818434.7995   3713814             5        2030             2060  ...   \n",
       "3914  523434.7995   5097763             5        2030             2060  ...   \n",
       "3915  572434.7995   4867850             5        2030             2060  ...   \n",
       "\n",
       "      carbon_capture_rate_fraction  fuel_co2_content_tons_per_btu  \\\n",
       "1553                           0.0                        0.36036   \n",
       "1554                           0.0                        0.36036   \n",
       "1555                           0.0                        0.36036   \n",
       "1556                           0.0                        0.36036   \n",
       "1557                           0.0                        0.36036   \n",
       "...                            ...                            ...   \n",
       "3911                           0.0                        0.00000   \n",
       "3912                           0.0                        0.00000   \n",
       "3913                           0.0                        0.00000   \n",
       "3914                           0.0                        0.00000   \n",
       "3915                           0.0                        0.00000   \n",
       "\n",
       "      fuel_price_usd_per_mmbtu  fuel_price_esc_rate_fraction  \\\n",
       "1553                   2.45646                       0.00804   \n",
       "1554                   2.45646                       0.00804   \n",
       "1555                   2.45646                       0.00804   \n",
       "1556                   2.45646                       0.00804   \n",
       "1557                   2.45646                       0.00804   \n",
       "...                        ...                           ...   \n",
       "3911                   0.00000                       0.00000   \n",
       "3912                   0.00000                       0.00000   \n",
       "3913                   0.00000                       0.00000   \n",
       "3914                   0.00000                       0.00000   \n",
       "3915                   0.00000                       0.00000   \n",
       "\n",
       "      heat_rate_btu_per_kWh  lifetime_yrs  variable_om_usd_per_mwh  \\\n",
       "1553                 7861.8          60.0                 3.873467   \n",
       "1554                 7861.8          60.0                 3.873467   \n",
       "1555                 7861.8          60.0                 3.873467   \n",
       "1556                 7861.8          60.0                 3.873467   \n",
       "1557                 7861.8          60.0                 3.873467   \n",
       "...                     ...           ...                      ...   \n",
       "3911                 3412.0          30.0                 0.000000   \n",
       "3912                 3412.0          30.0                 0.000000   \n",
       "3913                 3412.0          30.0                 0.000000   \n",
       "3914                 3412.0          30.0                 0.000000   \n",
       "3915                 3412.0          30.0                 0.000000   \n",
       "\n",
       "      variable_om_esc_rate_fraction  carbon_tax_usd_per_ton  \\\n",
       "1553                      -0.003990                     0.0   \n",
       "1554                      -0.003990                     0.0   \n",
       "1555                      -0.003990                     0.0   \n",
       "1556                      -0.003990                     0.0   \n",
       "1557                      -0.003990                     0.0   \n",
       "...                             ...                     ...   \n",
       "3911                       1.000000                     0.0   \n",
       "3912                      -0.002496                     0.0   \n",
       "3913                      -0.002496                     0.0   \n",
       "3914                      -0.002496                     0.0   \n",
       "3915                      -0.002496                     0.0   \n",
       "\n",
       "      carbon_tax_esc_rate_fraction  \n",
       "1553                           0.0  \n",
       "1554                           0.0  \n",
       "1555                           0.0  \n",
       "1556                           0.0  \n",
       "1557                           0.0  \n",
       "...                            ...  \n",
       "3911                           0.0  \n",
       "3912                           0.0  \n",
       "3913                           0.0  \n",
       "3914                           0.0  \n",
       "3915                           0.0  \n",
       "\n",
       "[2363 rows x 28 columns]"
      ]
     },
     "execution_count": 17,
     "metadata": {},
     "output_type": "execute_result"
    }
   ],
   "source": [
    "new_df = df.loc[(df[\"sited_year\"] == 2030)].copy()\n",
    "new_df"
   ]
  },
  {
   "cell_type": "code",
   "execution_count": 21,
   "id": "0a937c3f",
   "metadata": {},
   "outputs": [
    {
     "data": {
      "text/plain": [
       "region_name\n",
       "alabama                 1.499850e+10\n",
       "arizona                 1.468255e+10\n",
       "arkansas                1.151079e+10\n",
       "california              4.794714e+18\n",
       "colorado                1.175066e+10\n",
       "connecticut             5.112506e+18\n",
       "delaware                1.690017e+10\n",
       "district_of_columbia    4.910317e+18\n",
       "florida                 5.523024e+18\n",
       "georgia                 1.499850e+10\n",
       "idaho                   1.302479e+10\n",
       "illinois                1.614114e+10\n",
       "indiana                 1.510524e+10\n",
       "iowa                    1.614114e+10\n",
       "kansas                  6.221273e+09\n",
       "kentucky                5.287291e+18\n",
       "louisiana               4.792028e+18\n",
       "maine                   1.448655e+10\n",
       "maryland                5.868915e+18\n",
       "massachusetts           1.300881e+10\n",
       "michigan                5.546102e+18\n",
       "minnesota               1.614114e+10\n",
       "mississippi             1.499850e+10\n",
       "missouri                1.266777e+10\n",
       "montana                 5.341165e+18\n",
       "nebraska                1.029131e+10\n",
       "nevada                  1.216626e+10\n",
       "new_hampshire           1.077695e+10\n",
       "new_jersey              1.690017e+10\n",
       "new_mexico              1.029961e+10\n",
       "new_york                5.405186e+18\n",
       "north_carolina          5.336699e+18\n",
       "north_dakota            1.029131e+10\n",
       "ohio                    5.287291e+18\n",
       "oklahoma                1.151079e+10\n",
       "oregon                  1.217273e+10\n",
       "pennsylvania            5.868915e+18\n",
       "rhode_island            1.408317e+10\n",
       "south_carolina          1.107478e+10\n",
       "south_dakota            5.676299e+09\n",
       "tennessee               5.287291e+18\n",
       "texas                   5.616436e+18\n",
       "utah                    1.282841e+10\n",
       "vermont                 6.054120e+09\n",
       "virginia                5.868915e+18\n",
       "washington              1.171333e+10\n",
       "west_virginia           1.261008e+10\n",
       "wisconsin               4.498942e+18\n",
       "wyoming                 1.309566e+10\n",
       "Name: net_operational_value_usd_per_year, dtype: float64"
      ]
     },
     "execution_count": 21,
     "metadata": {},
     "output_type": "execute_result"
    }
   ],
   "source": [
    "max_df = df.groupby(\"region_name\")[\"net_operational_value_usd_per_year\"].max()\n",
    "max_df"
   ]
  },
  {
   "cell_type": "code",
   "execution_count": 31,
   "id": "2faf8c08",
   "metadata": {},
   "outputs": [
    {
     "data": {
      "application/vnd.plotly.v1+json": {
       "config": {
        "plotlyServerURL": "https://plot.ly"
       },
       "data": [
        {
         "hovertemplate": "x=%{x}<br>y=%{y}<extra></extra>",
         "legendgroup": "",
         "marker": {
          "color": "#636efa",
          "symbol": "circle"
         },
         "mode": "markers",
         "name": "",
         "orientation": "v",
         "showlegend": false,
         "type": "scatter",
         "x": [
          53072693.401798986,
          52384764.05073689,
          44895050.13572681,
          39689945.60926686,
          45398749.911473386,
          38998153.121445954,
          57708405.37195016,
          50058311.72387037,
          54912014.625460826,
          53072693.401798986,
          53286246.51571136,
          47865937.265693694,
          51059878.18855912,
          55764091.45228737,
          44365829.242034,
          53159221.01908259,
          48854135.90283162,
          35364702.18769929,
          38981369.50978667,
          30006434.498880435,
          55072528.2341765,
          34587350.94461123,
          53072693.401798986,
          46259866.61361508,
          53322328.788716376,
          50173540.574183926,
          46651277.86060452,
          45984414.98903549,
          57708405.37195016,
          50312514.936619736,
          41417172.09139707,
          53499441.07989741,
          50173540.574183926,
          53159221.01908259,
          44895050.13572681,
          46359178.431908935,
          44233406.68587325,
          51071441.79356565,
          29810338.853769988,
          53928573.66615493,
          51440168.92768908,
          55773299.9428717,
          48053333.5445073,
          30006434.498880435,
          53499441.07989741,
          33966192.91162265,
          53159221.01908259,
          36675686.44323926,
          53856000.90351433
         ],
         "xaxis": "x",
         "y": [
          14998502453.337885,
          14682545178.771872,
          11510787658.037785,
          4794713626391440000,
          11750661867.373575,
          5112506012817011000,
          16900169852.697515,
          4910316742041905000,
          5523024375136872000,
          14998502453.337885,
          13024791654.138,
          16141144057.485018,
          15105236959.039097,
          16141144057.485018,
          6221272553.136004,
          5287291109861395000,
          4792028170883747000,
          14486546956.679594,
          5868915396402461000,
          13008806570.73254,
          5546101757701876000,
          16141144057.485018,
          14998502453.337885,
          12667770204.81268,
          5341165077321867000,
          10291306430.121288,
          12166261144.22715,
          10776947510.214417,
          16900169852.697515,
          10299609726.719849,
          5405186479958979000,
          5336698960161315000,
          10291306430.121288,
          5287291109861395000,
          11510787658.037785,
          12172734649.532171,
          5868915396402461000,
          14083171350.666994,
          11074776056.805126,
          5676298805.630309,
          5287291109861395000,
          5616436160255528000,
          12828411752.01018,
          6054120327.374642,
          5868915396402461000,
          11713326068.691822,
          12610076493.272022,
          4498941536641058000,
          13095662584.757135
         ],
         "yaxis": "y"
        }
       ],
       "layout": {
        "legend": {
         "tracegroupgap": 0
        },
        "margin": {
         "t": 60
        },
        "template": {
         "data": {
          "bar": [
           {
            "error_x": {
             "color": "#2a3f5f"
            },
            "error_y": {
             "color": "#2a3f5f"
            },
            "marker": {
             "line": {
              "color": "#E5ECF6",
              "width": 0.5
             },
             "pattern": {
              "fillmode": "overlay",
              "size": 10,
              "solidity": 0.2
             }
            },
            "type": "bar"
           }
          ],
          "barpolar": [
           {
            "marker": {
             "line": {
              "color": "#E5ECF6",
              "width": 0.5
             },
             "pattern": {
              "fillmode": "overlay",
              "size": 10,
              "solidity": 0.2
             }
            },
            "type": "barpolar"
           }
          ],
          "carpet": [
           {
            "aaxis": {
             "endlinecolor": "#2a3f5f",
             "gridcolor": "white",
             "linecolor": "white",
             "minorgridcolor": "white",
             "startlinecolor": "#2a3f5f"
            },
            "baxis": {
             "endlinecolor": "#2a3f5f",
             "gridcolor": "white",
             "linecolor": "white",
             "minorgridcolor": "white",
             "startlinecolor": "#2a3f5f"
            },
            "type": "carpet"
           }
          ],
          "choropleth": [
           {
            "colorbar": {
             "outlinewidth": 0,
             "ticks": ""
            },
            "type": "choropleth"
           }
          ],
          "contour": [
           {
            "colorbar": {
             "outlinewidth": 0,
             "ticks": ""
            },
            "colorscale": [
             [
              0,
              "#0d0887"
             ],
             [
              0.1111111111111111,
              "#46039f"
             ],
             [
              0.2222222222222222,
              "#7201a8"
             ],
             [
              0.3333333333333333,
              "#9c179e"
             ],
             [
              0.4444444444444444,
              "#bd3786"
             ],
             [
              0.5555555555555556,
              "#d8576b"
             ],
             [
              0.6666666666666666,
              "#ed7953"
             ],
             [
              0.7777777777777778,
              "#fb9f3a"
             ],
             [
              0.8888888888888888,
              "#fdca26"
             ],
             [
              1,
              "#f0f921"
             ]
            ],
            "type": "contour"
           }
          ],
          "contourcarpet": [
           {
            "colorbar": {
             "outlinewidth": 0,
             "ticks": ""
            },
            "type": "contourcarpet"
           }
          ],
          "heatmap": [
           {
            "colorbar": {
             "outlinewidth": 0,
             "ticks": ""
            },
            "colorscale": [
             [
              0,
              "#0d0887"
             ],
             [
              0.1111111111111111,
              "#46039f"
             ],
             [
              0.2222222222222222,
              "#7201a8"
             ],
             [
              0.3333333333333333,
              "#9c179e"
             ],
             [
              0.4444444444444444,
              "#bd3786"
             ],
             [
              0.5555555555555556,
              "#d8576b"
             ],
             [
              0.6666666666666666,
              "#ed7953"
             ],
             [
              0.7777777777777778,
              "#fb9f3a"
             ],
             [
              0.8888888888888888,
              "#fdca26"
             ],
             [
              1,
              "#f0f921"
             ]
            ],
            "type": "heatmap"
           }
          ],
          "heatmapgl": [
           {
            "colorbar": {
             "outlinewidth": 0,
             "ticks": ""
            },
            "colorscale": [
             [
              0,
              "#0d0887"
             ],
             [
              0.1111111111111111,
              "#46039f"
             ],
             [
              0.2222222222222222,
              "#7201a8"
             ],
             [
              0.3333333333333333,
              "#9c179e"
             ],
             [
              0.4444444444444444,
              "#bd3786"
             ],
             [
              0.5555555555555556,
              "#d8576b"
             ],
             [
              0.6666666666666666,
              "#ed7953"
             ],
             [
              0.7777777777777778,
              "#fb9f3a"
             ],
             [
              0.8888888888888888,
              "#fdca26"
             ],
             [
              1,
              "#f0f921"
             ]
            ],
            "type": "heatmapgl"
           }
          ],
          "histogram": [
           {
            "marker": {
             "pattern": {
              "fillmode": "overlay",
              "size": 10,
              "solidity": 0.2
             }
            },
            "type": "histogram"
           }
          ],
          "histogram2d": [
           {
            "colorbar": {
             "outlinewidth": 0,
             "ticks": ""
            },
            "colorscale": [
             [
              0,
              "#0d0887"
             ],
             [
              0.1111111111111111,
              "#46039f"
             ],
             [
              0.2222222222222222,
              "#7201a8"
             ],
             [
              0.3333333333333333,
              "#9c179e"
             ],
             [
              0.4444444444444444,
              "#bd3786"
             ],
             [
              0.5555555555555556,
              "#d8576b"
             ],
             [
              0.6666666666666666,
              "#ed7953"
             ],
             [
              0.7777777777777778,
              "#fb9f3a"
             ],
             [
              0.8888888888888888,
              "#fdca26"
             ],
             [
              1,
              "#f0f921"
             ]
            ],
            "type": "histogram2d"
           }
          ],
          "histogram2dcontour": [
           {
            "colorbar": {
             "outlinewidth": 0,
             "ticks": ""
            },
            "colorscale": [
             [
              0,
              "#0d0887"
             ],
             [
              0.1111111111111111,
              "#46039f"
             ],
             [
              0.2222222222222222,
              "#7201a8"
             ],
             [
              0.3333333333333333,
              "#9c179e"
             ],
             [
              0.4444444444444444,
              "#bd3786"
             ],
             [
              0.5555555555555556,
              "#d8576b"
             ],
             [
              0.6666666666666666,
              "#ed7953"
             ],
             [
              0.7777777777777778,
              "#fb9f3a"
             ],
             [
              0.8888888888888888,
              "#fdca26"
             ],
             [
              1,
              "#f0f921"
             ]
            ],
            "type": "histogram2dcontour"
           }
          ],
          "mesh3d": [
           {
            "colorbar": {
             "outlinewidth": 0,
             "ticks": ""
            },
            "type": "mesh3d"
           }
          ],
          "parcoords": [
           {
            "line": {
             "colorbar": {
              "outlinewidth": 0,
              "ticks": ""
             }
            },
            "type": "parcoords"
           }
          ],
          "pie": [
           {
            "automargin": true,
            "type": "pie"
           }
          ],
          "scatter": [
           {
            "fillpattern": {
             "fillmode": "overlay",
             "size": 10,
             "solidity": 0.2
            },
            "type": "scatter"
           }
          ],
          "scatter3d": [
           {
            "line": {
             "colorbar": {
              "outlinewidth": 0,
              "ticks": ""
             }
            },
            "marker": {
             "colorbar": {
              "outlinewidth": 0,
              "ticks": ""
             }
            },
            "type": "scatter3d"
           }
          ],
          "scattercarpet": [
           {
            "marker": {
             "colorbar": {
              "outlinewidth": 0,
              "ticks": ""
             }
            },
            "type": "scattercarpet"
           }
          ],
          "scattergeo": [
           {
            "marker": {
             "colorbar": {
              "outlinewidth": 0,
              "ticks": ""
             }
            },
            "type": "scattergeo"
           }
          ],
          "scattergl": [
           {
            "marker": {
             "colorbar": {
              "outlinewidth": 0,
              "ticks": ""
             }
            },
            "type": "scattergl"
           }
          ],
          "scattermapbox": [
           {
            "marker": {
             "colorbar": {
              "outlinewidth": 0,
              "ticks": ""
             }
            },
            "type": "scattermapbox"
           }
          ],
          "scatterpolar": [
           {
            "marker": {
             "colorbar": {
              "outlinewidth": 0,
              "ticks": ""
             }
            },
            "type": "scatterpolar"
           }
          ],
          "scatterpolargl": [
           {
            "marker": {
             "colorbar": {
              "outlinewidth": 0,
              "ticks": ""
             }
            },
            "type": "scatterpolargl"
           }
          ],
          "scatterternary": [
           {
            "marker": {
             "colorbar": {
              "outlinewidth": 0,
              "ticks": ""
             }
            },
            "type": "scatterternary"
           }
          ],
          "surface": [
           {
            "colorbar": {
             "outlinewidth": 0,
             "ticks": ""
            },
            "colorscale": [
             [
              0,
              "#0d0887"
             ],
             [
              0.1111111111111111,
              "#46039f"
             ],
             [
              0.2222222222222222,
              "#7201a8"
             ],
             [
              0.3333333333333333,
              "#9c179e"
             ],
             [
              0.4444444444444444,
              "#bd3786"
             ],
             [
              0.5555555555555556,
              "#d8576b"
             ],
             [
              0.6666666666666666,
              "#ed7953"
             ],
             [
              0.7777777777777778,
              "#fb9f3a"
             ],
             [
              0.8888888888888888,
              "#fdca26"
             ],
             [
              1,
              "#f0f921"
             ]
            ],
            "type": "surface"
           }
          ],
          "table": [
           {
            "cells": {
             "fill": {
              "color": "#EBF0F8"
             },
             "line": {
              "color": "white"
             }
            },
            "header": {
             "fill": {
              "color": "#C8D4E3"
             },
             "line": {
              "color": "white"
             }
            },
            "type": "table"
           }
          ]
         },
         "layout": {
          "annotationdefaults": {
           "arrowcolor": "#2a3f5f",
           "arrowhead": 0,
           "arrowwidth": 1
          },
          "autotypenumbers": "strict",
          "coloraxis": {
           "colorbar": {
            "outlinewidth": 0,
            "ticks": ""
           }
          },
          "colorscale": {
           "diverging": [
            [
             0,
             "#8e0152"
            ],
            [
             0.1,
             "#c51b7d"
            ],
            [
             0.2,
             "#de77ae"
            ],
            [
             0.3,
             "#f1b6da"
            ],
            [
             0.4,
             "#fde0ef"
            ],
            [
             0.5,
             "#f7f7f7"
            ],
            [
             0.6,
             "#e6f5d0"
            ],
            [
             0.7,
             "#b8e186"
            ],
            [
             0.8,
             "#7fbc41"
            ],
            [
             0.9,
             "#4d9221"
            ],
            [
             1,
             "#276419"
            ]
           ],
           "sequential": [
            [
             0,
             "#0d0887"
            ],
            [
             0.1111111111111111,
             "#46039f"
            ],
            [
             0.2222222222222222,
             "#7201a8"
            ],
            [
             0.3333333333333333,
             "#9c179e"
            ],
            [
             0.4444444444444444,
             "#bd3786"
            ],
            [
             0.5555555555555556,
             "#d8576b"
            ],
            [
             0.6666666666666666,
             "#ed7953"
            ],
            [
             0.7777777777777778,
             "#fb9f3a"
            ],
            [
             0.8888888888888888,
             "#fdca26"
            ],
            [
             1,
             "#f0f921"
            ]
           ],
           "sequentialminus": [
            [
             0,
             "#0d0887"
            ],
            [
             0.1111111111111111,
             "#46039f"
            ],
            [
             0.2222222222222222,
             "#7201a8"
            ],
            [
             0.3333333333333333,
             "#9c179e"
            ],
            [
             0.4444444444444444,
             "#bd3786"
            ],
            [
             0.5555555555555556,
             "#d8576b"
            ],
            [
             0.6666666666666666,
             "#ed7953"
            ],
            [
             0.7777777777777778,
             "#fb9f3a"
            ],
            [
             0.8888888888888888,
             "#fdca26"
            ],
            [
             1,
             "#f0f921"
            ]
           ]
          },
          "colorway": [
           "#636efa",
           "#EF553B",
           "#00cc96",
           "#ab63fa",
           "#FFA15A",
           "#19d3f3",
           "#FF6692",
           "#B6E880",
           "#FF97FF",
           "#FECB52"
          ],
          "font": {
           "color": "#2a3f5f"
          },
          "geo": {
           "bgcolor": "white",
           "lakecolor": "white",
           "landcolor": "#E5ECF6",
           "showlakes": true,
           "showland": true,
           "subunitcolor": "white"
          },
          "hoverlabel": {
           "align": "left"
          },
          "hovermode": "closest",
          "mapbox": {
           "style": "light"
          },
          "paper_bgcolor": "white",
          "plot_bgcolor": "#E5ECF6",
          "polar": {
           "angularaxis": {
            "gridcolor": "white",
            "linecolor": "white",
            "ticks": ""
           },
           "bgcolor": "#E5ECF6",
           "radialaxis": {
            "gridcolor": "white",
            "linecolor": "white",
            "ticks": ""
           }
          },
          "scene": {
           "xaxis": {
            "backgroundcolor": "#E5ECF6",
            "gridcolor": "white",
            "gridwidth": 2,
            "linecolor": "white",
            "showbackground": true,
            "ticks": "",
            "zerolinecolor": "white"
           },
           "yaxis": {
            "backgroundcolor": "#E5ECF6",
            "gridcolor": "white",
            "gridwidth": 2,
            "linecolor": "white",
            "showbackground": true,
            "ticks": "",
            "zerolinecolor": "white"
           },
           "zaxis": {
            "backgroundcolor": "#E5ECF6",
            "gridcolor": "white",
            "gridwidth": 2,
            "linecolor": "white",
            "showbackground": true,
            "ticks": "",
            "zerolinecolor": "white"
           }
          },
          "shapedefaults": {
           "line": {
            "color": "#2a3f5f"
           }
          },
          "ternary": {
           "aaxis": {
            "gridcolor": "white",
            "linecolor": "white",
            "ticks": ""
           },
           "baxis": {
            "gridcolor": "white",
            "linecolor": "white",
            "ticks": ""
           },
           "bgcolor": "#E5ECF6",
           "caxis": {
            "gridcolor": "white",
            "linecolor": "white",
            "ticks": ""
           }
          },
          "title": {
           "x": 0.05
          },
          "xaxis": {
           "automargin": true,
           "gridcolor": "white",
           "linecolor": "white",
           "ticks": "",
           "title": {
            "standoff": 15
           },
           "zerolinecolor": "white",
           "zerolinewidth": 2
          },
          "yaxis": {
           "automargin": true,
           "gridcolor": "white",
           "linecolor": "white",
           "ticks": "",
           "title": {
            "standoff": 15
           },
           "zerolinecolor": "white",
           "zerolinewidth": 2
          }
         }
        },
        "xaxis": {
         "anchor": "y",
         "domain": [
          0,
          1
         ],
         "title": {
          "text": "x"
         }
        },
        "yaxis": {
         "anchor": "x",
         "domain": [
          0,
          1
         ],
         "title": {
          "text": "y"
         }
        }
       }
      },
      "text/html": [
       "<div>                            <div id=\"86611f64-39f0-4536-a72a-6070e7d3d263\" class=\"plotly-graph-div\" style=\"height:525px; width:100%;\"></div>            <script type=\"text/javascript\">                require([\"plotly\"], function(Plotly) {                    window.PLOTLYENV=window.PLOTLYENV || {};                                    if (document.getElementById(\"86611f64-39f0-4536-a72a-6070e7d3d263\")) {                    Plotly.newPlot(                        \"86611f64-39f0-4536-a72a-6070e7d3d263\",                        [{\"hovertemplate\":\"x=%{x}<br>y=%{y}<extra></extra>\",\"legendgroup\":\"\",\"marker\":{\"color\":\"#636efa\",\"symbol\":\"circle\"},\"mode\":\"markers\",\"name\":\"\",\"orientation\":\"v\",\"showlegend\":false,\"x\":[53072693.401798986,52384764.05073689,44895050.13572681,39689945.60926686,45398749.911473386,38998153.121445954,57708405.37195016,50058311.72387037,54912014.625460826,53072693.401798986,53286246.51571136,47865937.265693694,51059878.18855912,55764091.45228737,44365829.242034,53159221.01908259,48854135.90283162,35364702.18769929,38981369.50978667,30006434.498880435,55072528.2341765,34587350.94461123,53072693.401798986,46259866.61361508,53322328.788716376,50173540.574183926,46651277.86060452,45984414.98903549,57708405.37195016,50312514.936619736,41417172.09139707,53499441.07989741,50173540.574183926,53159221.01908259,44895050.13572681,46359178.431908935,44233406.68587325,51071441.79356565,29810338.853769988,53928573.66615493,51440168.92768908,55773299.9428717,48053333.5445073,30006434.498880435,53499441.07989741,33966192.91162265,53159221.01908259,36675686.44323926,53856000.90351433],\"xaxis\":\"x\",\"y\":[14998502453.337885,14682545178.771872,11510787658.037785,4.79471362639144e+18,11750661867.373575,5.112506012817011e+18,16900169852.697515,4.910316742041905e+18,5.523024375136872e+18,14998502453.337885,13024791654.138,16141144057.485018,15105236959.039097,16141144057.485018,6221272553.136004,5.287291109861395e+18,4.792028170883747e+18,14486546956.679594,5.868915396402461e+18,13008806570.73254,5.546101757701876e+18,16141144057.485018,14998502453.337885,12667770204.81268,5.341165077321867e+18,10291306430.121288,12166261144.22715,10776947510.214417,16900169852.697515,10299609726.719849,5.405186479958979e+18,5.336698960161315e+18,10291306430.121288,5.287291109861395e+18,11510787658.037785,12172734649.532171,5.868915396402461e+18,14083171350.666994,11074776056.805126,5676298805.630309,5.287291109861395e+18,5.616436160255528e+18,12828411752.01018,6054120327.374642,5.868915396402461e+18,11713326068.691822,12610076493.272022,4.498941536641058e+18,13095662584.757135],\"yaxis\":\"y\",\"type\":\"scatter\"}],                        {\"template\":{\"data\":{\"histogram2dcontour\":[{\"type\":\"histogram2dcontour\",\"colorbar\":{\"outlinewidth\":0,\"ticks\":\"\"},\"colorscale\":[[0.0,\"#0d0887\"],[0.1111111111111111,\"#46039f\"],[0.2222222222222222,\"#7201a8\"],[0.3333333333333333,\"#9c179e\"],[0.4444444444444444,\"#bd3786\"],[0.5555555555555556,\"#d8576b\"],[0.6666666666666666,\"#ed7953\"],[0.7777777777777778,\"#fb9f3a\"],[0.8888888888888888,\"#fdca26\"],[1.0,\"#f0f921\"]]}],\"choropleth\":[{\"type\":\"choropleth\",\"colorbar\":{\"outlinewidth\":0,\"ticks\":\"\"}}],\"histogram2d\":[{\"type\":\"histogram2d\",\"colorbar\":{\"outlinewidth\":0,\"ticks\":\"\"},\"colorscale\":[[0.0,\"#0d0887\"],[0.1111111111111111,\"#46039f\"],[0.2222222222222222,\"#7201a8\"],[0.3333333333333333,\"#9c179e\"],[0.4444444444444444,\"#bd3786\"],[0.5555555555555556,\"#d8576b\"],[0.6666666666666666,\"#ed7953\"],[0.7777777777777778,\"#fb9f3a\"],[0.8888888888888888,\"#fdca26\"],[1.0,\"#f0f921\"]]}],\"heatmap\":[{\"type\":\"heatmap\",\"colorbar\":{\"outlinewidth\":0,\"ticks\":\"\"},\"colorscale\":[[0.0,\"#0d0887\"],[0.1111111111111111,\"#46039f\"],[0.2222222222222222,\"#7201a8\"],[0.3333333333333333,\"#9c179e\"],[0.4444444444444444,\"#bd3786\"],[0.5555555555555556,\"#d8576b\"],[0.6666666666666666,\"#ed7953\"],[0.7777777777777778,\"#fb9f3a\"],[0.8888888888888888,\"#fdca26\"],[1.0,\"#f0f921\"]]}],\"heatmapgl\":[{\"type\":\"heatmapgl\",\"colorbar\":{\"outlinewidth\":0,\"ticks\":\"\"},\"colorscale\":[[0.0,\"#0d0887\"],[0.1111111111111111,\"#46039f\"],[0.2222222222222222,\"#7201a8\"],[0.3333333333333333,\"#9c179e\"],[0.4444444444444444,\"#bd3786\"],[0.5555555555555556,\"#d8576b\"],[0.6666666666666666,\"#ed7953\"],[0.7777777777777778,\"#fb9f3a\"],[0.8888888888888888,\"#fdca26\"],[1.0,\"#f0f921\"]]}],\"contourcarpet\":[{\"type\":\"contourcarpet\",\"colorbar\":{\"outlinewidth\":0,\"ticks\":\"\"}}],\"contour\":[{\"type\":\"contour\",\"colorbar\":{\"outlinewidth\":0,\"ticks\":\"\"},\"colorscale\":[[0.0,\"#0d0887\"],[0.1111111111111111,\"#46039f\"],[0.2222222222222222,\"#7201a8\"],[0.3333333333333333,\"#9c179e\"],[0.4444444444444444,\"#bd3786\"],[0.5555555555555556,\"#d8576b\"],[0.6666666666666666,\"#ed7953\"],[0.7777777777777778,\"#fb9f3a\"],[0.8888888888888888,\"#fdca26\"],[1.0,\"#f0f921\"]]}],\"surface\":[{\"type\":\"surface\",\"colorbar\":{\"outlinewidth\":0,\"ticks\":\"\"},\"colorscale\":[[0.0,\"#0d0887\"],[0.1111111111111111,\"#46039f\"],[0.2222222222222222,\"#7201a8\"],[0.3333333333333333,\"#9c179e\"],[0.4444444444444444,\"#bd3786\"],[0.5555555555555556,\"#d8576b\"],[0.6666666666666666,\"#ed7953\"],[0.7777777777777778,\"#fb9f3a\"],[0.8888888888888888,\"#fdca26\"],[1.0,\"#f0f921\"]]}],\"mesh3d\":[{\"type\":\"mesh3d\",\"colorbar\":{\"outlinewidth\":0,\"ticks\":\"\"}}],\"scatter\":[{\"fillpattern\":{\"fillmode\":\"overlay\",\"size\":10,\"solidity\":0.2},\"type\":\"scatter\"}],\"parcoords\":[{\"type\":\"parcoords\",\"line\":{\"colorbar\":{\"outlinewidth\":0,\"ticks\":\"\"}}}],\"scatterpolargl\":[{\"type\":\"scatterpolargl\",\"marker\":{\"colorbar\":{\"outlinewidth\":0,\"ticks\":\"\"}}}],\"bar\":[{\"error_x\":{\"color\":\"#2a3f5f\"},\"error_y\":{\"color\":\"#2a3f5f\"},\"marker\":{\"line\":{\"color\":\"#E5ECF6\",\"width\":0.5},\"pattern\":{\"fillmode\":\"overlay\",\"size\":10,\"solidity\":0.2}},\"type\":\"bar\"}],\"scattergeo\":[{\"type\":\"scattergeo\",\"marker\":{\"colorbar\":{\"outlinewidth\":0,\"ticks\":\"\"}}}],\"scatterpolar\":[{\"type\":\"scatterpolar\",\"marker\":{\"colorbar\":{\"outlinewidth\":0,\"ticks\":\"\"}}}],\"histogram\":[{\"marker\":{\"pattern\":{\"fillmode\":\"overlay\",\"size\":10,\"solidity\":0.2}},\"type\":\"histogram\"}],\"scattergl\":[{\"type\":\"scattergl\",\"marker\":{\"colorbar\":{\"outlinewidth\":0,\"ticks\":\"\"}}}],\"scatter3d\":[{\"type\":\"scatter3d\",\"line\":{\"colorbar\":{\"outlinewidth\":0,\"ticks\":\"\"}},\"marker\":{\"colorbar\":{\"outlinewidth\":0,\"ticks\":\"\"}}}],\"scattermapbox\":[{\"type\":\"scattermapbox\",\"marker\":{\"colorbar\":{\"outlinewidth\":0,\"ticks\":\"\"}}}],\"scatterternary\":[{\"type\":\"scatterternary\",\"marker\":{\"colorbar\":{\"outlinewidth\":0,\"ticks\":\"\"}}}],\"scattercarpet\":[{\"type\":\"scattercarpet\",\"marker\":{\"colorbar\":{\"outlinewidth\":0,\"ticks\":\"\"}}}],\"carpet\":[{\"aaxis\":{\"endlinecolor\":\"#2a3f5f\",\"gridcolor\":\"white\",\"linecolor\":\"white\",\"minorgridcolor\":\"white\",\"startlinecolor\":\"#2a3f5f\"},\"baxis\":{\"endlinecolor\":\"#2a3f5f\",\"gridcolor\":\"white\",\"linecolor\":\"white\",\"minorgridcolor\":\"white\",\"startlinecolor\":\"#2a3f5f\"},\"type\":\"carpet\"}],\"table\":[{\"cells\":{\"fill\":{\"color\":\"#EBF0F8\"},\"line\":{\"color\":\"white\"}},\"header\":{\"fill\":{\"color\":\"#C8D4E3\"},\"line\":{\"color\":\"white\"}},\"type\":\"table\"}],\"barpolar\":[{\"marker\":{\"line\":{\"color\":\"#E5ECF6\",\"width\":0.5},\"pattern\":{\"fillmode\":\"overlay\",\"size\":10,\"solidity\":0.2}},\"type\":\"barpolar\"}],\"pie\":[{\"automargin\":true,\"type\":\"pie\"}]},\"layout\":{\"autotypenumbers\":\"strict\",\"colorway\":[\"#636efa\",\"#EF553B\",\"#00cc96\",\"#ab63fa\",\"#FFA15A\",\"#19d3f3\",\"#FF6692\",\"#B6E880\",\"#FF97FF\",\"#FECB52\"],\"font\":{\"color\":\"#2a3f5f\"},\"hovermode\":\"closest\",\"hoverlabel\":{\"align\":\"left\"},\"paper_bgcolor\":\"white\",\"plot_bgcolor\":\"#E5ECF6\",\"polar\":{\"bgcolor\":\"#E5ECF6\",\"angularaxis\":{\"gridcolor\":\"white\",\"linecolor\":\"white\",\"ticks\":\"\"},\"radialaxis\":{\"gridcolor\":\"white\",\"linecolor\":\"white\",\"ticks\":\"\"}},\"ternary\":{\"bgcolor\":\"#E5ECF6\",\"aaxis\":{\"gridcolor\":\"white\",\"linecolor\":\"white\",\"ticks\":\"\"},\"baxis\":{\"gridcolor\":\"white\",\"linecolor\":\"white\",\"ticks\":\"\"},\"caxis\":{\"gridcolor\":\"white\",\"linecolor\":\"white\",\"ticks\":\"\"}},\"coloraxis\":{\"colorbar\":{\"outlinewidth\":0,\"ticks\":\"\"}},\"colorscale\":{\"sequential\":[[0.0,\"#0d0887\"],[0.1111111111111111,\"#46039f\"],[0.2222222222222222,\"#7201a8\"],[0.3333333333333333,\"#9c179e\"],[0.4444444444444444,\"#bd3786\"],[0.5555555555555556,\"#d8576b\"],[0.6666666666666666,\"#ed7953\"],[0.7777777777777778,\"#fb9f3a\"],[0.8888888888888888,\"#fdca26\"],[1.0,\"#f0f921\"]],\"sequentialminus\":[[0.0,\"#0d0887\"],[0.1111111111111111,\"#46039f\"],[0.2222222222222222,\"#7201a8\"],[0.3333333333333333,\"#9c179e\"],[0.4444444444444444,\"#bd3786\"],[0.5555555555555556,\"#d8576b\"],[0.6666666666666666,\"#ed7953\"],[0.7777777777777778,\"#fb9f3a\"],[0.8888888888888888,\"#fdca26\"],[1.0,\"#f0f921\"]],\"diverging\":[[0,\"#8e0152\"],[0.1,\"#c51b7d\"],[0.2,\"#de77ae\"],[0.3,\"#f1b6da\"],[0.4,\"#fde0ef\"],[0.5,\"#f7f7f7\"],[0.6,\"#e6f5d0\"],[0.7,\"#b8e186\"],[0.8,\"#7fbc41\"],[0.9,\"#4d9221\"],[1,\"#276419\"]]},\"xaxis\":{\"gridcolor\":\"white\",\"linecolor\":\"white\",\"ticks\":\"\",\"title\":{\"standoff\":15},\"zerolinecolor\":\"white\",\"automargin\":true,\"zerolinewidth\":2},\"yaxis\":{\"gridcolor\":\"white\",\"linecolor\":\"white\",\"ticks\":\"\",\"title\":{\"standoff\":15},\"zerolinecolor\":\"white\",\"automargin\":true,\"zerolinewidth\":2},\"scene\":{\"xaxis\":{\"backgroundcolor\":\"#E5ECF6\",\"gridcolor\":\"white\",\"linecolor\":\"white\",\"showbackground\":true,\"ticks\":\"\",\"zerolinecolor\":\"white\",\"gridwidth\":2},\"yaxis\":{\"backgroundcolor\":\"#E5ECF6\",\"gridcolor\":\"white\",\"linecolor\":\"white\",\"showbackground\":true,\"ticks\":\"\",\"zerolinecolor\":\"white\",\"gridwidth\":2},\"zaxis\":{\"backgroundcolor\":\"#E5ECF6\",\"gridcolor\":\"white\",\"linecolor\":\"white\",\"showbackground\":true,\"ticks\":\"\",\"zerolinecolor\":\"white\",\"gridwidth\":2}},\"shapedefaults\":{\"line\":{\"color\":\"#2a3f5f\"}},\"annotationdefaults\":{\"arrowcolor\":\"#2a3f5f\",\"arrowhead\":0,\"arrowwidth\":1},\"geo\":{\"bgcolor\":\"white\",\"landcolor\":\"#E5ECF6\",\"subunitcolor\":\"white\",\"showland\":true,\"showlakes\":true,\"lakecolor\":\"white\"},\"title\":{\"x\":0.05},\"mapbox\":{\"style\":\"light\"}}},\"xaxis\":{\"anchor\":\"y\",\"domain\":[0.0,1.0],\"title\":{\"text\":\"x\"}},\"yaxis\":{\"anchor\":\"x\",\"domain\":[0.0,1.0],\"title\":{\"text\":\"y\"}},\"legend\":{\"tracegroupgap\":0},\"margin\":{\"t\":60}},                        {\"responsive\": true}                    ).then(function(){\n",
       "                            \n",
       "var gd = document.getElementById('86611f64-39f0-4536-a72a-6070e7d3d263');\n",
       "var x = new MutationObserver(function (mutations, observer) {{\n",
       "        var display = window.getComputedStyle(gd).display;\n",
       "        if (!display || display === 'none') {{\n",
       "            console.log([gd, 'removed!']);\n",
       "            Plotly.purge(gd);\n",
       "            observer.disconnect();\n",
       "        }}\n",
       "}});\n",
       "\n",
       "// Listen for the removal of the full notebook cells\n",
       "var notebookContainer = gd.closest('#notebook-container');\n",
       "if (notebookContainer) {{\n",
       "    x.observe(notebookContainer, {childList: true});\n",
       "}}\n",
       "\n",
       "// Listen for the clearing of the current output cell\n",
       "var outputEl = gd.closest('.output');\n",
       "if (outputEl) {{\n",
       "    x.observe(outputEl, {childList: true});\n",
       "}}\n",
       "\n",
       "                        })                };                });            </script>        </div>"
      ]
     },
     "metadata": {},
     "output_type": "display_data"
    }
   ],
   "source": [
    "fig = px.scatter(df, x=df.groupby(\"region_name\")[\"net_operational_value_usd_per_year\"].min(), y=df.groupby(\"region_name\")[\"net_operational_value_usd_per_year\"].max())\n",
    "fig.show()\n"
   ]
  },
  {
   "cell_type": "code",
   "execution_count": null,
   "id": "28e1bb69",
   "metadata": {},
   "outputs": [],
   "source": []
  },
  {
   "cell_type": "code",
   "execution_count": null,
   "id": "e953f830",
   "metadata": {},
   "outputs": [],
   "source": []
  },
  {
   "cell_type": "code",
   "execution_count": null,
   "id": "8c8e4b8b",
   "metadata": {},
   "outputs": [],
   "source": []
  },
  {
   "cell_type": "code",
   "execution_count": null,
   "id": "d6609852",
   "metadata": {},
   "outputs": [],
   "source": []
  }
 ],
 "metadata": {
  "kernelspec": {
   "display_name": "Python 3 (ipykernel)",
   "language": "python",
   "name": "python3"
  },
  "language_info": {
   "codemirror_mode": {
    "name": "ipython",
    "version": 3
   },
   "file_extension": ".py",
   "mimetype": "text/x-python",
   "name": "python",
   "nbconvert_exporter": "python",
   "pygments_lexer": "ipython3",
   "version": "3.9.12"
  }
 },
 "nbformat": 4,
 "nbformat_minor": 5
}
