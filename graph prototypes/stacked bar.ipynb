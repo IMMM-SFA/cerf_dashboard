{
 "cells": [
  {
   "cell_type": "code",
   "execution_count": 1,
   "id": "2ead6a60",
   "metadata": {},
   "outputs": [],
   "source": [
    "import cerf\n",
    "import pandas as pd\n",
    "import plotly.express as px"
   ]
  },
  {
   "cell_type": "code",
   "execution_count": 2,
   "id": "d9ccc740",
   "metadata": {},
   "outputs": [
    {
     "data": {
      "text/html": [
       "<div>\n",
       "<style scoped>\n",
       "    .dataframe tbody tr th:only-of-type {\n",
       "        vertical-align: middle;\n",
       "    }\n",
       "\n",
       "    .dataframe tbody tr th {\n",
       "        vertical-align: top;\n",
       "    }\n",
       "\n",
       "    .dataframe thead th {\n",
       "        text-align: right;\n",
       "    }\n",
       "</style>\n",
       "<table border=\"1\" class=\"dataframe\">\n",
       "  <thead>\n",
       "    <tr style=\"text-align: right;\">\n",
       "      <th></th>\n",
       "      <th>region_name</th>\n",
       "      <th>tech_id</th>\n",
       "      <th>tech_name</th>\n",
       "      <th>unit_size_mw</th>\n",
       "      <th>xcoord</th>\n",
       "      <th>ycoord</th>\n",
       "      <th>index</th>\n",
       "      <th>buffer_in_km</th>\n",
       "      <th>sited_year</th>\n",
       "      <th>retirement_year</th>\n",
       "      <th>...</th>\n",
       "      <th>carbon_capture_rate_fraction</th>\n",
       "      <th>fuel_co2_content_tons_per_btu</th>\n",
       "      <th>fuel_price_usd_per_mmbtu</th>\n",
       "      <th>fuel_price_esc_rate_fraction</th>\n",
       "      <th>heat_rate_btu_per_kWh</th>\n",
       "      <th>lifetime_yrs</th>\n",
       "      <th>variable_om_usd_per_mwh</th>\n",
       "      <th>variable_om_esc_rate_fraction</th>\n",
       "      <th>carbon_tax_usd_per_ton</th>\n",
       "      <th>carbon_tax_esc_rate_fraction</th>\n",
       "    </tr>\n",
       "  </thead>\n",
       "  <tbody>\n",
       "    <tr>\n",
       "      <th>0</th>\n",
       "      <td>alabama</td>\n",
       "      <td>4</td>\n",
       "      <td>coal_conv_pul_wo_ccs</td>\n",
       "      <td>600.0</td>\n",
       "      <td>7.449472e+05</td>\n",
       "      <td>-364565.2005</td>\n",
       "      <td>9267132</td>\n",
       "      <td>5</td>\n",
       "      <td>2010</td>\n",
       "      <td>2070</td>\n",
       "      <td>...</td>\n",
       "      <td>0.0</td>\n",
       "      <td>0.36036</td>\n",
       "      <td>2.39413</td>\n",
       "      <td>0.09122</td>\n",
       "      <td>8594.5</td>\n",
       "      <td>60.0</td>\n",
       "      <td>4.002582</td>\n",
       "      <td>-0.003990</td>\n",
       "      <td>0.0</td>\n",
       "      <td>0.0</td>\n",
       "    </tr>\n",
       "    <tr>\n",
       "      <th>1</th>\n",
       "      <td>alabama</td>\n",
       "      <td>4</td>\n",
       "      <td>coal_conv_pul_wo_ccs</td>\n",
       "      <td>600.0</td>\n",
       "      <td>7.909472e+05</td>\n",
       "      <td>-386565.2005</td>\n",
       "      <td>9370424</td>\n",
       "      <td>5</td>\n",
       "      <td>2010</td>\n",
       "      <td>2070</td>\n",
       "      <td>...</td>\n",
       "      <td>0.0</td>\n",
       "      <td>0.36036</td>\n",
       "      <td>2.39413</td>\n",
       "      <td>0.09122</td>\n",
       "      <td>8594.5</td>\n",
       "      <td>60.0</td>\n",
       "      <td>4.002582</td>\n",
       "      <td>-0.003990</td>\n",
       "      <td>0.0</td>\n",
       "      <td>0.0</td>\n",
       "    </tr>\n",
       "    <tr>\n",
       "      <th>2</th>\n",
       "      <td>alabama</td>\n",
       "      <td>4</td>\n",
       "      <td>coal_conv_pul_wo_ccs</td>\n",
       "      <td>600.0</td>\n",
       "      <td>8.549472e+05</td>\n",
       "      <td>-470565.2005</td>\n",
       "      <td>9764700</td>\n",
       "      <td>5</td>\n",
       "      <td>2010</td>\n",
       "      <td>2070</td>\n",
       "      <td>...</td>\n",
       "      <td>0.0</td>\n",
       "      <td>0.36036</td>\n",
       "      <td>2.39413</td>\n",
       "      <td>0.09122</td>\n",
       "      <td>8594.5</td>\n",
       "      <td>60.0</td>\n",
       "      <td>4.002582</td>\n",
       "      <td>-0.003990</td>\n",
       "      <td>0.0</td>\n",
       "      <td>0.0</td>\n",
       "    </tr>\n",
       "    <tr>\n",
       "      <th>3</th>\n",
       "      <td>alabama</td>\n",
       "      <td>4</td>\n",
       "      <td>coal_conv_pul_wo_ccs</td>\n",
       "      <td>600.0</td>\n",
       "      <td>9.579472e+05</td>\n",
       "      <td>-376565.2005</td>\n",
       "      <td>9323661</td>\n",
       "      <td>5</td>\n",
       "      <td>2010</td>\n",
       "      <td>2070</td>\n",
       "      <td>...</td>\n",
       "      <td>0.0</td>\n",
       "      <td>0.36036</td>\n",
       "      <td>2.39413</td>\n",
       "      <td>0.09122</td>\n",
       "      <td>8594.5</td>\n",
       "      <td>60.0</td>\n",
       "      <td>4.002582</td>\n",
       "      <td>-0.003990</td>\n",
       "      <td>0.0</td>\n",
       "      <td>0.0</td>\n",
       "    </tr>\n",
       "    <tr>\n",
       "      <th>4</th>\n",
       "      <td>alabama</td>\n",
       "      <td>4</td>\n",
       "      <td>coal_conv_pul_wo_ccs</td>\n",
       "      <td>600.0</td>\n",
       "      <td>7.749472e+05</td>\n",
       "      <td>-473565.2005</td>\n",
       "      <td>9778699</td>\n",
       "      <td>5</td>\n",
       "      <td>2010</td>\n",
       "      <td>2070</td>\n",
       "      <td>...</td>\n",
       "      <td>0.0</td>\n",
       "      <td>0.36036</td>\n",
       "      <td>2.39413</td>\n",
       "      <td>0.09122</td>\n",
       "      <td>8594.5</td>\n",
       "      <td>60.0</td>\n",
       "      <td>4.002582</td>\n",
       "      <td>-0.003990</td>\n",
       "      <td>0.0</td>\n",
       "      <td>0.0</td>\n",
       "    </tr>\n",
       "    <tr>\n",
       "      <th>...</th>\n",
       "      <td>...</td>\n",
       "      <td>...</td>\n",
       "      <td>...</td>\n",
       "      <td>...</td>\n",
       "      <td>...</td>\n",
       "      <td>...</td>\n",
       "      <td>...</td>\n",
       "      <td>...</td>\n",
       "      <td>...</td>\n",
       "      <td>...</td>\n",
       "      <td>...</td>\n",
       "      <td>...</td>\n",
       "      <td>...</td>\n",
       "      <td>...</td>\n",
       "      <td>...</td>\n",
       "      <td>...</td>\n",
       "      <td>...</td>\n",
       "      <td>...</td>\n",
       "      <td>...</td>\n",
       "      <td>...</td>\n",
       "      <td>...</td>\n",
       "    </tr>\n",
       "    <tr>\n",
       "      <th>8364</th>\n",
       "      <td>wyoming</td>\n",
       "      <td>18</td>\n",
       "      <td>wind_onshore</td>\n",
       "      <td>251.0</td>\n",
       "      <td>-7.290528e+05</td>\n",
       "      <td>550434.7995</td>\n",
       "      <td>4971563</td>\n",
       "      <td>5</td>\n",
       "      <td>2050</td>\n",
       "      <td>2080</td>\n",
       "      <td>...</td>\n",
       "      <td>0.0</td>\n",
       "      <td>0.00000</td>\n",
       "      <td>0.00000</td>\n",
       "      <td>0.00000</td>\n",
       "      <td>3412.0</td>\n",
       "      <td>30.0</td>\n",
       "      <td>0.000000</td>\n",
       "      <td>-0.002496</td>\n",
       "      <td>0.0</td>\n",
       "      <td>0.0</td>\n",
       "    </tr>\n",
       "    <tr>\n",
       "      <th>8365</th>\n",
       "      <td>wyoming</td>\n",
       "      <td>18</td>\n",
       "      <td>wind_onshore</td>\n",
       "      <td>251.0</td>\n",
       "      <td>-7.220528e+05</td>\n",
       "      <td>501434.7995</td>\n",
       "      <td>5201527</td>\n",
       "      <td>5</td>\n",
       "      <td>2050</td>\n",
       "      <td>2080</td>\n",
       "      <td>...</td>\n",
       "      <td>0.0</td>\n",
       "      <td>0.00000</td>\n",
       "      <td>0.00000</td>\n",
       "      <td>0.00000</td>\n",
       "      <td>3412.0</td>\n",
       "      <td>30.0</td>\n",
       "      <td>0.000000</td>\n",
       "      <td>-0.002496</td>\n",
       "      <td>0.0</td>\n",
       "      <td>0.0</td>\n",
       "    </tr>\n",
       "    <tr>\n",
       "      <th>8366</th>\n",
       "      <td>wyoming</td>\n",
       "      <td>18</td>\n",
       "      <td>wind_onshore</td>\n",
       "      <td>251.0</td>\n",
       "      <td>-8.190528e+05</td>\n",
       "      <td>479434.7995</td>\n",
       "      <td>5304676</td>\n",
       "      <td>5</td>\n",
       "      <td>2050</td>\n",
       "      <td>2080</td>\n",
       "      <td>...</td>\n",
       "      <td>0.0</td>\n",
       "      <td>0.00000</td>\n",
       "      <td>0.00000</td>\n",
       "      <td>0.00000</td>\n",
       "      <td>3412.0</td>\n",
       "      <td>30.0</td>\n",
       "      <td>0.000000</td>\n",
       "      <td>-0.002496</td>\n",
       "      <td>0.0</td>\n",
       "      <td>0.0</td>\n",
       "    </tr>\n",
       "    <tr>\n",
       "      <th>8367</th>\n",
       "      <td>wyoming</td>\n",
       "      <td>18</td>\n",
       "      <td>wind_onshore</td>\n",
       "      <td>251.0</td>\n",
       "      <td>-8.930528e+05</td>\n",
       "      <td>572434.7995</td>\n",
       "      <td>4868153</td>\n",
       "      <td>5</td>\n",
       "      <td>2050</td>\n",
       "      <td>2080</td>\n",
       "      <td>...</td>\n",
       "      <td>0.0</td>\n",
       "      <td>0.00000</td>\n",
       "      <td>0.00000</td>\n",
       "      <td>0.00000</td>\n",
       "      <td>3412.0</td>\n",
       "      <td>30.0</td>\n",
       "      <td>0.000000</td>\n",
       "      <td>-0.002496</td>\n",
       "      <td>0.0</td>\n",
       "      <td>0.0</td>\n",
       "    </tr>\n",
       "    <tr>\n",
       "      <th>8368</th>\n",
       "      <td>wyoming</td>\n",
       "      <td>18</td>\n",
       "      <td>wind_onshore</td>\n",
       "      <td>251.0</td>\n",
       "      <td>-1.223053e+06</td>\n",
       "      <td>538434.7995</td>\n",
       "      <td>5027385</td>\n",
       "      <td>5</td>\n",
       "      <td>2050</td>\n",
       "      <td>2080</td>\n",
       "      <td>...</td>\n",
       "      <td>0.0</td>\n",
       "      <td>0.00000</td>\n",
       "      <td>0.00000</td>\n",
       "      <td>0.00000</td>\n",
       "      <td>3412.0</td>\n",
       "      <td>30.0</td>\n",
       "      <td>0.000000</td>\n",
       "      <td>-0.002496</td>\n",
       "      <td>0.0</td>\n",
       "      <td>0.0</td>\n",
       "    </tr>\n",
       "  </tbody>\n",
       "</table>\n",
       "<p>8369 rows × 28 columns</p>\n",
       "</div>"
      ],
      "text/plain": [
       "     region_name  tech_id             tech_name  unit_size_mw        xcoord  \\\n",
       "0        alabama        4  coal_conv_pul_wo_ccs         600.0  7.449472e+05   \n",
       "1        alabama        4  coal_conv_pul_wo_ccs         600.0  7.909472e+05   \n",
       "2        alabama        4  coal_conv_pul_wo_ccs         600.0  8.549472e+05   \n",
       "3        alabama        4  coal_conv_pul_wo_ccs         600.0  9.579472e+05   \n",
       "4        alabama        4  coal_conv_pul_wo_ccs         600.0  7.749472e+05   \n",
       "...          ...      ...                   ...           ...           ...   \n",
       "8364     wyoming       18          wind_onshore         251.0 -7.290528e+05   \n",
       "8365     wyoming       18          wind_onshore         251.0 -7.220528e+05   \n",
       "8366     wyoming       18          wind_onshore         251.0 -8.190528e+05   \n",
       "8367     wyoming       18          wind_onshore         251.0 -8.930528e+05   \n",
       "8368     wyoming       18          wind_onshore         251.0 -1.223053e+06   \n",
       "\n",
       "           ycoord    index  buffer_in_km  sited_year  retirement_year  ...  \\\n",
       "0    -364565.2005  9267132             5        2010             2070  ...   \n",
       "1    -386565.2005  9370424             5        2010             2070  ...   \n",
       "2    -470565.2005  9764700             5        2010             2070  ...   \n",
       "3    -376565.2005  9323661             5        2010             2070  ...   \n",
       "4    -473565.2005  9778699             5        2010             2070  ...   \n",
       "...           ...      ...           ...         ...              ...  ...   \n",
       "8364  550434.7995  4971563             5        2050             2080  ...   \n",
       "8365  501434.7995  5201527             5        2050             2080  ...   \n",
       "8366  479434.7995  5304676             5        2050             2080  ...   \n",
       "8367  572434.7995  4868153             5        2050             2080  ...   \n",
       "8368  538434.7995  5027385             5        2050             2080  ...   \n",
       "\n",
       "      carbon_capture_rate_fraction  fuel_co2_content_tons_per_btu  \\\n",
       "0                              0.0                        0.36036   \n",
       "1                              0.0                        0.36036   \n",
       "2                              0.0                        0.36036   \n",
       "3                              0.0                        0.36036   \n",
       "4                              0.0                        0.36036   \n",
       "...                            ...                            ...   \n",
       "8364                           0.0                        0.00000   \n",
       "8365                           0.0                        0.00000   \n",
       "8366                           0.0                        0.00000   \n",
       "8367                           0.0                        0.00000   \n",
       "8368                           0.0                        0.00000   \n",
       "\n",
       "      fuel_price_usd_per_mmbtu  fuel_price_esc_rate_fraction  \\\n",
       "0                      2.39413                       0.09122   \n",
       "1                      2.39413                       0.09122   \n",
       "2                      2.39413                       0.09122   \n",
       "3                      2.39413                       0.09122   \n",
       "4                      2.39413                       0.09122   \n",
       "...                        ...                           ...   \n",
       "8364                   0.00000                       0.00000   \n",
       "8365                   0.00000                       0.00000   \n",
       "8366                   0.00000                       0.00000   \n",
       "8367                   0.00000                       0.00000   \n",
       "8368                   0.00000                       0.00000   \n",
       "\n",
       "      heat_rate_btu_per_kWh  lifetime_yrs  variable_om_usd_per_mwh  \\\n",
       "0                    8594.5          60.0                 4.002582   \n",
       "1                    8594.5          60.0                 4.002582   \n",
       "2                    8594.5          60.0                 4.002582   \n",
       "3                    8594.5          60.0                 4.002582   \n",
       "4                    8594.5          60.0                 4.002582   \n",
       "...                     ...           ...                      ...   \n",
       "8364                 3412.0          30.0                 0.000000   \n",
       "8365                 3412.0          30.0                 0.000000   \n",
       "8366                 3412.0          30.0                 0.000000   \n",
       "8367                 3412.0          30.0                 0.000000   \n",
       "8368                 3412.0          30.0                 0.000000   \n",
       "\n",
       "      variable_om_esc_rate_fraction  carbon_tax_usd_per_ton  \\\n",
       "0                         -0.003990                     0.0   \n",
       "1                         -0.003990                     0.0   \n",
       "2                         -0.003990                     0.0   \n",
       "3                         -0.003990                     0.0   \n",
       "4                         -0.003990                     0.0   \n",
       "...                             ...                     ...   \n",
       "8364                      -0.002496                     0.0   \n",
       "8365                      -0.002496                     0.0   \n",
       "8366                      -0.002496                     0.0   \n",
       "8367                      -0.002496                     0.0   \n",
       "8368                      -0.002496                     0.0   \n",
       "\n",
       "      carbon_tax_esc_rate_fraction  \n",
       "0                              0.0  \n",
       "1                              0.0  \n",
       "2                              0.0  \n",
       "3                              0.0  \n",
       "4                              0.0  \n",
       "...                            ...  \n",
       "8364                           0.0  \n",
       "8365                           0.0  \n",
       "8366                           0.0  \n",
       "8367                           0.0  \n",
       "8368                           0.0  \n",
       "\n",
       "[8369 rows x 28 columns]"
      ]
     },
     "execution_count": 2,
     "metadata": {},
     "output_type": "execute_result"
    }
   ],
   "source": [
    "df = pd.read_csv('example_cerf_output.csv')\n",
    "df"
   ]
  },
  {
   "cell_type": "code",
   "execution_count": 3,
   "id": "d0df145e",
   "metadata": {},
   "outputs": [
    {
     "name": "stdout",
     "output_type": "stream",
     "text": [
      "<class 'pandas.core.frame.DataFrame'>\n",
      "RangeIndex: 8369 entries, 0 to 8368\n",
      "Data columns (total 28 columns):\n",
      " #   Column                                 Non-Null Count  Dtype  \n",
      "---  ------                                 --------------  -----  \n",
      " 0   region_name                            8369 non-null   object \n",
      " 1   tech_id                                8369 non-null   int64  \n",
      " 2   tech_name                              8369 non-null   object \n",
      " 3   unit_size_mw                           8369 non-null   float64\n",
      " 4   xcoord                                 8369 non-null   float64\n",
      " 5   ycoord                                 8369 non-null   float64\n",
      " 6   index                                  8369 non-null   int64  \n",
      " 7   buffer_in_km                           8369 non-null   int64  \n",
      " 8   sited_year                             8369 non-null   int64  \n",
      " 9   retirement_year                        8369 non-null   int64  \n",
      " 10  lmp_zone                               8369 non-null   int64  \n",
      " 11  locational_marginal_price_usd_per_mwh  8367 non-null   float64\n",
      " 12  generation_mwh_per_year                8369 non-null   float64\n",
      " 13  operating_cost_usd_per_year            8367 non-null   float64\n",
      " 14  net_operational_value_usd_per_year     8367 non-null   float64\n",
      " 15  interconnection_cost_usd_per_year      8369 non-null   float64\n",
      " 16  net_locational_cost_usd_per_year       8369 non-null   float64\n",
      " 17  capacity_factor_fraction               8369 non-null   float64\n",
      " 18  carbon_capture_rate_fraction           8369 non-null   float64\n",
      " 19  fuel_co2_content_tons_per_btu          8369 non-null   float64\n",
      " 20  fuel_price_usd_per_mmbtu               8369 non-null   float64\n",
      " 21  fuel_price_esc_rate_fraction           8369 non-null   float64\n",
      " 22  heat_rate_btu_per_kWh                  8369 non-null   float64\n",
      " 23  lifetime_yrs                           8369 non-null   float64\n",
      " 24  variable_om_usd_per_mwh                8369 non-null   float64\n",
      " 25  variable_om_esc_rate_fraction          8369 non-null   float64\n",
      " 26  carbon_tax_usd_per_ton                 8369 non-null   float64\n",
      " 27  carbon_tax_esc_rate_fraction           8369 non-null   float64\n",
      "dtypes: float64(20), int64(6), object(2)\n",
      "memory usage: 1.8+ MB\n",
      "None\n"
     ]
    }
   ],
   "source": [
    "print(df.info())"
   ]
  },
  {
   "cell_type": "code",
   "execution_count": 4,
   "id": "033811dc",
   "metadata": {},
   "outputs": [
    {
     "data": {
      "text/html": [
       "<div>\n",
       "<style scoped>\n",
       "    .dataframe tbody tr th:only-of-type {\n",
       "        vertical-align: middle;\n",
       "    }\n",
       "\n",
       "    .dataframe tbody tr th {\n",
       "        vertical-align: top;\n",
       "    }\n",
       "\n",
       "    .dataframe thead th {\n",
       "        text-align: right;\n",
       "    }\n",
       "</style>\n",
       "<table border=\"1\" class=\"dataframe\">\n",
       "  <thead>\n",
       "    <tr style=\"text-align: right;\">\n",
       "      <th></th>\n",
       "      <th>region_name</th>\n",
       "      <th>tech_id</th>\n",
       "      <th>tech_name</th>\n",
       "      <th>unit_size_mw</th>\n",
       "      <th>xcoord</th>\n",
       "      <th>ycoord</th>\n",
       "      <th>index</th>\n",
       "      <th>buffer_in_km</th>\n",
       "      <th>sited_year</th>\n",
       "      <th>retirement_year</th>\n",
       "      <th>...</th>\n",
       "      <th>carbon_capture_rate_fraction</th>\n",
       "      <th>fuel_co2_content_tons_per_btu</th>\n",
       "      <th>fuel_price_usd_per_mmbtu</th>\n",
       "      <th>fuel_price_esc_rate_fraction</th>\n",
       "      <th>heat_rate_btu_per_kWh</th>\n",
       "      <th>lifetime_yrs</th>\n",
       "      <th>variable_om_usd_per_mwh</th>\n",
       "      <th>variable_om_esc_rate_fraction</th>\n",
       "      <th>carbon_tax_usd_per_ton</th>\n",
       "      <th>carbon_tax_esc_rate_fraction</th>\n",
       "    </tr>\n",
       "  </thead>\n",
       "  <tbody>\n",
       "    <tr>\n",
       "      <th>1553</th>\n",
       "      <td>alabama</td>\n",
       "      <td>4</td>\n",
       "      <td>coal_conv_pul_wo_ccs</td>\n",
       "      <td>600.0</td>\n",
       "      <td>8.569472e+05</td>\n",
       "      <td>-638565.2005</td>\n",
       "      <td>10553126</td>\n",
       "      <td>5</td>\n",
       "      <td>2030</td>\n",
       "      <td>2090</td>\n",
       "      <td>...</td>\n",
       "      <td>0.0</td>\n",
       "      <td>0.36036</td>\n",
       "      <td>2.45646</td>\n",
       "      <td>0.00804</td>\n",
       "      <td>7861.8</td>\n",
       "      <td>60.0</td>\n",
       "      <td>3.873467</td>\n",
       "      <td>-0.003990</td>\n",
       "      <td>0.0</td>\n",
       "      <td>0.0</td>\n",
       "    </tr>\n",
       "    <tr>\n",
       "      <th>1554</th>\n",
       "      <td>alabama</td>\n",
       "      <td>4</td>\n",
       "      <td>coal_conv_pul_wo_ccs</td>\n",
       "      <td>600.0</td>\n",
       "      <td>8.159472e+05</td>\n",
       "      <td>-360565.2005</td>\n",
       "      <td>9248431</td>\n",
       "      <td>5</td>\n",
       "      <td>2030</td>\n",
       "      <td>2090</td>\n",
       "      <td>...</td>\n",
       "      <td>0.0</td>\n",
       "      <td>0.36036</td>\n",
       "      <td>2.45646</td>\n",
       "      <td>0.00804</td>\n",
       "      <td>7861.8</td>\n",
       "      <td>60.0</td>\n",
       "      <td>3.873467</td>\n",
       "      <td>-0.003990</td>\n",
       "      <td>0.0</td>\n",
       "      <td>0.0</td>\n",
       "    </tr>\n",
       "    <tr>\n",
       "      <th>1555</th>\n",
       "      <td>alabama</td>\n",
       "      <td>4</td>\n",
       "      <td>coal_conv_pul_wo_ccs</td>\n",
       "      <td>600.0</td>\n",
       "      <td>9.789472e+05</td>\n",
       "      <td>-492565.2005</td>\n",
       "      <td>9868070</td>\n",
       "      <td>5</td>\n",
       "      <td>2030</td>\n",
       "      <td>2090</td>\n",
       "      <td>...</td>\n",
       "      <td>0.0</td>\n",
       "      <td>0.36036</td>\n",
       "      <td>2.45646</td>\n",
       "      <td>0.00804</td>\n",
       "      <td>7861.8</td>\n",
       "      <td>60.0</td>\n",
       "      <td>3.873467</td>\n",
       "      <td>-0.003990</td>\n",
       "      <td>0.0</td>\n",
       "      <td>0.0</td>\n",
       "    </tr>\n",
       "    <tr>\n",
       "      <th>1556</th>\n",
       "      <td>alabama</td>\n",
       "      <td>4</td>\n",
       "      <td>coal_conv_pul_wo_ccs</td>\n",
       "      <td>600.0</td>\n",
       "      <td>8.479472e+05</td>\n",
       "      <td>-674565.2005</td>\n",
       "      <td>10722065</td>\n",
       "      <td>5</td>\n",
       "      <td>2030</td>\n",
       "      <td>2090</td>\n",
       "      <td>...</td>\n",
       "      <td>0.0</td>\n",
       "      <td>0.36036</td>\n",
       "      <td>2.45646</td>\n",
       "      <td>0.00804</td>\n",
       "      <td>7861.8</td>\n",
       "      <td>60.0</td>\n",
       "      <td>3.873467</td>\n",
       "      <td>-0.003990</td>\n",
       "      <td>0.0</td>\n",
       "      <td>0.0</td>\n",
       "    </tr>\n",
       "    <tr>\n",
       "      <th>1557</th>\n",
       "      <td>alabama</td>\n",
       "      <td>4</td>\n",
       "      <td>coal_conv_pul_wo_ccs</td>\n",
       "      <td>600.0</td>\n",
       "      <td>7.929472e+05</td>\n",
       "      <td>-462565.2005</td>\n",
       "      <td>9727094</td>\n",
       "      <td>5</td>\n",
       "      <td>2030</td>\n",
       "      <td>2090</td>\n",
       "      <td>...</td>\n",
       "      <td>0.0</td>\n",
       "      <td>0.36036</td>\n",
       "      <td>2.45646</td>\n",
       "      <td>0.00804</td>\n",
       "      <td>7861.8</td>\n",
       "      <td>60.0</td>\n",
       "      <td>3.873467</td>\n",
       "      <td>-0.003990</td>\n",
       "      <td>0.0</td>\n",
       "      <td>0.0</td>\n",
       "    </tr>\n",
       "    <tr>\n",
       "      <th>...</th>\n",
       "      <td>...</td>\n",
       "      <td>...</td>\n",
       "      <td>...</td>\n",
       "      <td>...</td>\n",
       "      <td>...</td>\n",
       "      <td>...</td>\n",
       "      <td>...</td>\n",
       "      <td>...</td>\n",
       "      <td>...</td>\n",
       "      <td>...</td>\n",
       "      <td>...</td>\n",
       "      <td>...</td>\n",
       "      <td>...</td>\n",
       "      <td>...</td>\n",
       "      <td>...</td>\n",
       "      <td>...</td>\n",
       "      <td>...</td>\n",
       "      <td>...</td>\n",
       "      <td>...</td>\n",
       "      <td>...</td>\n",
       "      <td>...</td>\n",
       "    </tr>\n",
       "    <tr>\n",
       "      <th>3911</th>\n",
       "      <td>wyoming</td>\n",
       "      <td>17</td>\n",
       "      <td>solar_pv_non_dist</td>\n",
       "      <td>80.0</td>\n",
       "      <td>-1.123053e+06</td>\n",
       "      <td>662434.7995</td>\n",
       "      <td>4445553</td>\n",
       "      <td>5</td>\n",
       "      <td>2030</td>\n",
       "      <td>2060</td>\n",
       "      <td>...</td>\n",
       "      <td>0.0</td>\n",
       "      <td>0.00000</td>\n",
       "      <td>0.00000</td>\n",
       "      <td>0.00000</td>\n",
       "      <td>3412.0</td>\n",
       "      <td>30.0</td>\n",
       "      <td>0.000000</td>\n",
       "      <td>1.000000</td>\n",
       "      <td>0.0</td>\n",
       "      <td>0.0</td>\n",
       "    </tr>\n",
       "    <tr>\n",
       "      <th>3912</th>\n",
       "      <td>wyoming</td>\n",
       "      <td>18</td>\n",
       "      <td>wind_onshore</td>\n",
       "      <td>251.0</td>\n",
       "      <td>-7.150528e+05</td>\n",
       "      <td>568434.7995</td>\n",
       "      <td>4887103</td>\n",
       "      <td>5</td>\n",
       "      <td>2030</td>\n",
       "      <td>2060</td>\n",
       "      <td>...</td>\n",
       "      <td>0.0</td>\n",
       "      <td>0.00000</td>\n",
       "      <td>0.00000</td>\n",
       "      <td>0.00000</td>\n",
       "      <td>3412.0</td>\n",
       "      <td>30.0</td>\n",
       "      <td>0.000000</td>\n",
       "      <td>-0.002496</td>\n",
       "      <td>0.0</td>\n",
       "      <td>0.0</td>\n",
       "    </tr>\n",
       "    <tr>\n",
       "      <th>3913</th>\n",
       "      <td>wyoming</td>\n",
       "      <td>18</td>\n",
       "      <td>wind_onshore</td>\n",
       "      <td>251.0</td>\n",
       "      <td>-7.540528e+05</td>\n",
       "      <td>818434.7995</td>\n",
       "      <td>3713814</td>\n",
       "      <td>5</td>\n",
       "      <td>2030</td>\n",
       "      <td>2060</td>\n",
       "      <td>...</td>\n",
       "      <td>0.0</td>\n",
       "      <td>0.00000</td>\n",
       "      <td>0.00000</td>\n",
       "      <td>0.00000</td>\n",
       "      <td>3412.0</td>\n",
       "      <td>30.0</td>\n",
       "      <td>0.000000</td>\n",
       "      <td>-0.002496</td>\n",
       "      <td>0.0</td>\n",
       "      <td>0.0</td>\n",
       "    </tr>\n",
       "    <tr>\n",
       "      <th>3914</th>\n",
       "      <td>wyoming</td>\n",
       "      <td>18</td>\n",
       "      <td>wind_onshore</td>\n",
       "      <td>251.0</td>\n",
       "      <td>-1.240053e+06</td>\n",
       "      <td>523434.7995</td>\n",
       "      <td>5097763</td>\n",
       "      <td>5</td>\n",
       "      <td>2030</td>\n",
       "      <td>2060</td>\n",
       "      <td>...</td>\n",
       "      <td>0.0</td>\n",
       "      <td>0.00000</td>\n",
       "      <td>0.00000</td>\n",
       "      <td>0.00000</td>\n",
       "      <td>3412.0</td>\n",
       "      <td>30.0</td>\n",
       "      <td>0.000000</td>\n",
       "      <td>-0.002496</td>\n",
       "      <td>0.0</td>\n",
       "      <td>0.0</td>\n",
       "    </tr>\n",
       "    <tr>\n",
       "      <th>3915</th>\n",
       "      <td>wyoming</td>\n",
       "      <td>18</td>\n",
       "      <td>wind_onshore</td>\n",
       "      <td>251.0</td>\n",
       "      <td>-1.196053e+06</td>\n",
       "      <td>572434.7995</td>\n",
       "      <td>4867850</td>\n",
       "      <td>5</td>\n",
       "      <td>2030</td>\n",
       "      <td>2060</td>\n",
       "      <td>...</td>\n",
       "      <td>0.0</td>\n",
       "      <td>0.00000</td>\n",
       "      <td>0.00000</td>\n",
       "      <td>0.00000</td>\n",
       "      <td>3412.0</td>\n",
       "      <td>30.0</td>\n",
       "      <td>0.000000</td>\n",
       "      <td>-0.002496</td>\n",
       "      <td>0.0</td>\n",
       "      <td>0.0</td>\n",
       "    </tr>\n",
       "  </tbody>\n",
       "</table>\n",
       "<p>2363 rows × 28 columns</p>\n",
       "</div>"
      ],
      "text/plain": [
       "     region_name  tech_id             tech_name  unit_size_mw        xcoord  \\\n",
       "1553     alabama        4  coal_conv_pul_wo_ccs         600.0  8.569472e+05   \n",
       "1554     alabama        4  coal_conv_pul_wo_ccs         600.0  8.159472e+05   \n",
       "1555     alabama        4  coal_conv_pul_wo_ccs         600.0  9.789472e+05   \n",
       "1556     alabama        4  coal_conv_pul_wo_ccs         600.0  8.479472e+05   \n",
       "1557     alabama        4  coal_conv_pul_wo_ccs         600.0  7.929472e+05   \n",
       "...          ...      ...                   ...           ...           ...   \n",
       "3911     wyoming       17     solar_pv_non_dist          80.0 -1.123053e+06   \n",
       "3912     wyoming       18          wind_onshore         251.0 -7.150528e+05   \n",
       "3913     wyoming       18          wind_onshore         251.0 -7.540528e+05   \n",
       "3914     wyoming       18          wind_onshore         251.0 -1.240053e+06   \n",
       "3915     wyoming       18          wind_onshore         251.0 -1.196053e+06   \n",
       "\n",
       "           ycoord     index  buffer_in_km  sited_year  retirement_year  ...  \\\n",
       "1553 -638565.2005  10553126             5        2030             2090  ...   \n",
       "1554 -360565.2005   9248431             5        2030             2090  ...   \n",
       "1555 -492565.2005   9868070             5        2030             2090  ...   \n",
       "1556 -674565.2005  10722065             5        2030             2090  ...   \n",
       "1557 -462565.2005   9727094             5        2030             2090  ...   \n",
       "...           ...       ...           ...         ...              ...  ...   \n",
       "3911  662434.7995   4445553             5        2030             2060  ...   \n",
       "3912  568434.7995   4887103             5        2030             2060  ...   \n",
       "3913  818434.7995   3713814             5        2030             2060  ...   \n",
       "3914  523434.7995   5097763             5        2030             2060  ...   \n",
       "3915  572434.7995   4867850             5        2030             2060  ...   \n",
       "\n",
       "      carbon_capture_rate_fraction  fuel_co2_content_tons_per_btu  \\\n",
       "1553                           0.0                        0.36036   \n",
       "1554                           0.0                        0.36036   \n",
       "1555                           0.0                        0.36036   \n",
       "1556                           0.0                        0.36036   \n",
       "1557                           0.0                        0.36036   \n",
       "...                            ...                            ...   \n",
       "3911                           0.0                        0.00000   \n",
       "3912                           0.0                        0.00000   \n",
       "3913                           0.0                        0.00000   \n",
       "3914                           0.0                        0.00000   \n",
       "3915                           0.0                        0.00000   \n",
       "\n",
       "      fuel_price_usd_per_mmbtu  fuel_price_esc_rate_fraction  \\\n",
       "1553                   2.45646                       0.00804   \n",
       "1554                   2.45646                       0.00804   \n",
       "1555                   2.45646                       0.00804   \n",
       "1556                   2.45646                       0.00804   \n",
       "1557                   2.45646                       0.00804   \n",
       "...                        ...                           ...   \n",
       "3911                   0.00000                       0.00000   \n",
       "3912                   0.00000                       0.00000   \n",
       "3913                   0.00000                       0.00000   \n",
       "3914                   0.00000                       0.00000   \n",
       "3915                   0.00000                       0.00000   \n",
       "\n",
       "      heat_rate_btu_per_kWh  lifetime_yrs  variable_om_usd_per_mwh  \\\n",
       "1553                 7861.8          60.0                 3.873467   \n",
       "1554                 7861.8          60.0                 3.873467   \n",
       "1555                 7861.8          60.0                 3.873467   \n",
       "1556                 7861.8          60.0                 3.873467   \n",
       "1557                 7861.8          60.0                 3.873467   \n",
       "...                     ...           ...                      ...   \n",
       "3911                 3412.0          30.0                 0.000000   \n",
       "3912                 3412.0          30.0                 0.000000   \n",
       "3913                 3412.0          30.0                 0.000000   \n",
       "3914                 3412.0          30.0                 0.000000   \n",
       "3915                 3412.0          30.0                 0.000000   \n",
       "\n",
       "      variable_om_esc_rate_fraction  carbon_tax_usd_per_ton  \\\n",
       "1553                      -0.003990                     0.0   \n",
       "1554                      -0.003990                     0.0   \n",
       "1555                      -0.003990                     0.0   \n",
       "1556                      -0.003990                     0.0   \n",
       "1557                      -0.003990                     0.0   \n",
       "...                             ...                     ...   \n",
       "3911                       1.000000                     0.0   \n",
       "3912                      -0.002496                     0.0   \n",
       "3913                      -0.002496                     0.0   \n",
       "3914                      -0.002496                     0.0   \n",
       "3915                      -0.002496                     0.0   \n",
       "\n",
       "      carbon_tax_esc_rate_fraction  \n",
       "1553                           0.0  \n",
       "1554                           0.0  \n",
       "1555                           0.0  \n",
       "1556                           0.0  \n",
       "1557                           0.0  \n",
       "...                            ...  \n",
       "3911                           0.0  \n",
       "3912                           0.0  \n",
       "3913                           0.0  \n",
       "3914                           0.0  \n",
       "3915                           0.0  \n",
       "\n",
       "[2363 rows x 28 columns]"
      ]
     },
     "execution_count": 4,
     "metadata": {},
     "output_type": "execute_result"
    }
   ],
   "source": [
    "new_df = df.loc[(df[\"sited_year\"] == 2030)].copy()\n",
    "new_df"
   ]
  },
  {
   "cell_type": "code",
   "execution_count": null,
   "id": "1e6725f4",
   "metadata": {},
   "outputs": [],
   "source": []
  },
  {
   "cell_type": "code",
   "execution_count": 5,
   "id": "4ff368b7",
   "metadata": {},
   "outputs": [],
   "source": [
    "specific_df = new_df.loc[(df[\"region_name\"] == \"california\")].copy()"
   ]
  },
  {
   "cell_type": "code",
   "execution_count": 11,
   "id": "b6a043d0",
   "metadata": {},
   "outputs": [
    {
     "data": {
      "text/html": [
       "<div>\n",
       "<style scoped>\n",
       "    .dataframe tbody tr th:only-of-type {\n",
       "        vertical-align: middle;\n",
       "    }\n",
       "\n",
       "    .dataframe tbody tr th {\n",
       "        vertical-align: top;\n",
       "    }\n",
       "\n",
       "    .dataframe thead th {\n",
       "        text-align: right;\n",
       "    }\n",
       "</style>\n",
       "<table border=\"1\" class=\"dataframe\">\n",
       "  <thead>\n",
       "    <tr style=\"text-align: right;\">\n",
       "      <th></th>\n",
       "      <th>region_name</th>\n",
       "      <th>tech_name</th>\n",
       "      <th>generation_mwh_per_year</th>\n",
       "    </tr>\n",
       "  </thead>\n",
       "  <tbody>\n",
       "    <tr>\n",
       "      <th>0</th>\n",
       "      <td>Alabama</td>\n",
       "      <td>coal_conv_pul_wo_ccs</td>\n",
       "      <td>3.467383e+07</td>\n",
       "    </tr>\n",
       "    <tr>\n",
       "      <th>1</th>\n",
       "      <td>Alabama</td>\n",
       "      <td>gas_cc_w_ccs</td>\n",
       "      <td>1.149312e+08</td>\n",
       "    </tr>\n",
       "    <tr>\n",
       "      <th>2</th>\n",
       "      <td>Alabama</td>\n",
       "      <td>gas_cc_wo_ccs</td>\n",
       "      <td>2.596464e+07</td>\n",
       "    </tr>\n",
       "    <tr>\n",
       "      <th>3</th>\n",
       "      <td>Alabama</td>\n",
       "      <td>nuclear_gen_ii</td>\n",
       "      <td>3.193020e+07</td>\n",
       "    </tr>\n",
       "    <tr>\n",
       "      <th>4</th>\n",
       "      <td>Alabama</td>\n",
       "      <td>solar_pv_non_dist</td>\n",
       "      <td>2.394634e+06</td>\n",
       "    </tr>\n",
       "    <tr>\n",
       "      <th>...</th>\n",
       "      <td>...</td>\n",
       "      <td>...</td>\n",
       "      <td>...</td>\n",
       "    </tr>\n",
       "    <tr>\n",
       "      <th>249</th>\n",
       "      <td>Wyoming</td>\n",
       "      <td>coal_conv_pul_wo_ccs</td>\n",
       "      <td>5.008442e+07</td>\n",
       "    </tr>\n",
       "    <tr>\n",
       "      <th>250</th>\n",
       "      <td>Wyoming</td>\n",
       "      <td>gas_cc_w_ccs</td>\n",
       "      <td>1.401600e+07</td>\n",
       "    </tr>\n",
       "    <tr>\n",
       "      <th>251</th>\n",
       "      <td>Wyoming</td>\n",
       "      <td>solar_csp</td>\n",
       "      <td>3.924480e+05</td>\n",
       "    </tr>\n",
       "    <tr>\n",
       "      <th>252</th>\n",
       "      <td>Wyoming</td>\n",
       "      <td>solar_pv_non_dist</td>\n",
       "      <td>1.408608e+05</td>\n",
       "    </tr>\n",
       "    <tr>\n",
       "      <th>253</th>\n",
       "      <td>Wyoming</td>\n",
       "      <td>wind_onshore</td>\n",
       "      <td>4.028128e+06</td>\n",
       "    </tr>\n",
       "  </tbody>\n",
       "</table>\n",
       "<p>254 rows × 3 columns</p>\n",
       "</div>"
      ],
      "text/plain": [
       "    region_name             tech_name  generation_mwh_per_year\n",
       "0       Alabama  coal_conv_pul_wo_ccs             3.467383e+07\n",
       "1       Alabama          gas_cc_w_ccs             1.149312e+08\n",
       "2       Alabama         gas_cc_wo_ccs             2.596464e+07\n",
       "3       Alabama        nuclear_gen_ii             3.193020e+07\n",
       "4       Alabama     solar_pv_non_dist             2.394634e+06\n",
       "..          ...                   ...                      ...\n",
       "249     Wyoming  coal_conv_pul_wo_ccs             5.008442e+07\n",
       "250     Wyoming          gas_cc_w_ccs             1.401600e+07\n",
       "251     Wyoming             solar_csp             3.924480e+05\n",
       "252     Wyoming     solar_pv_non_dist             1.408608e+05\n",
       "253     Wyoming          wind_onshore             4.028128e+06\n",
       "\n",
       "[254 rows x 3 columns]"
      ]
     },
     "execution_count": 11,
     "metadata": {},
     "output_type": "execute_result"
    }
   ],
   "source": [
    "sum_df = new_df.groupby(by=['region_name','tech_name'])['generation_mwh_per_year'].sum().reset_index()\n",
    "sum_df['region_name'] = sum_df['region_name'].str.title()\n",
    "sum_df[\"region_name\"].replace('_', ' ',regex=True,inplace=True)\n",
    "sum_df"
   ]
  },
  {
   "cell_type": "code",
   "execution_count": 12,
   "id": "c310af41",
   "metadata": {
    "scrolled": false
   },
   "outputs": [
    {
     "data": {
      "application/vnd.plotly.v1+json": {
       "config": {
        "plotlyServerURL": "https://plot.ly"
       },
       "data": [
        {
         "alignmentgroup": "True",
         "hovertemplate": "Type of Power Plant=coal_conv_pul_wo_ccs<br>State=%{x}<br>Generation MWH Per Year=%{y}<extra></extra>",
         "legendgroup": "coal_conv_pul_wo_ccs",
         "marker": {
          "color": "#F4B183",
          "pattern": {
           "shape": ""
          }
         },
         "name": "coal_conv_pul_wo_ccs",
         "offsetgroup": "coal_conv_pul_wo_ccs",
         "orientation": "v",
         "showlegend": true,
         "textposition": "auto",
         "type": "bar",
         "x": [
          "Alabama",
          "Arizona",
          "Arkansas",
          "Colorado",
          "Florida",
          "Georgia",
          "Illinois",
          "Indiana",
          "Iowa",
          "Kansas",
          "Kentucky",
          "Louisiana",
          "Maryland",
          "Michigan",
          "Minnesota",
          "Mississippi",
          "Missouri",
          "Montana",
          "Nebraska",
          "New Mexico",
          "North Carolina",
          "North Dakota",
          "Ohio",
          "Oklahoma",
          "Pennsylvania",
          "South Carolina",
          "Tennessee",
          "Texas",
          "Utah",
          "Virginia",
          "West Virginia",
          "Wisconsin",
          "Wyoming"
         ],
         "xaxis": "x",
         "y": [
          34673832,
          38526480,
          19263240,
          30821184,
          34673832,
          34673832,
          73200312,
          84758256,
          34673832,
          23115888,
          65495016,
          15410592,
          7705296,
          46231776,
          26968536,
          3852648,
          77052960,
          15410592,
          26968536,
          7705296,
          34673832,
          34673832,
          77052960,
          23115888,
          65495016,
          19263240,
          19263240,
          123284736,
          30821184,
          15410592,
          69347664,
          38526480,
          50084424
         ],
         "yaxis": "y"
        },
        {
         "alignmentgroup": "True",
         "hovertemplate": "Type of Power Plant=gas_cc_w_ccs<br>State=%{x}<br>Generation MWH Per Year=%{y}<extra></extra>",
         "legendgroup": "gas_cc_w_ccs",
         "marker": {
          "color": "#FFE699",
          "pattern": {
           "shape": ""
          }
         },
         "name": "gas_cc_w_ccs",
         "offsetgroup": "gas_cc_w_ccs",
         "orientation": "v",
         "showlegend": true,
         "textposition": "auto",
         "type": "bar",
         "x": [
          "Alabama",
          "Arizona",
          "Arkansas",
          "California",
          "Colorado",
          "Connecticut",
          "Delaware",
          "Florida",
          "Georgia",
          "Idaho",
          "Illinois",
          "Indiana",
          "Iowa",
          "Kansas",
          "Kentucky",
          "Louisiana",
          "Maine",
          "Maryland",
          "Massachusetts",
          "Michigan",
          "Minnesota",
          "Mississippi",
          "Missouri",
          "Montana",
          "Nebraska",
          "Nevada",
          "New Hampshire",
          "New Jersey",
          "New Mexico",
          "New York",
          "North Carolina",
          "North Dakota",
          "Ohio",
          "Oklahoma",
          "Oregon",
          "Pennsylvania",
          "Rhode Island",
          "South Carolina",
          "Tennessee",
          "Texas",
          "Utah",
          "Vermont",
          "Virginia",
          "Washington",
          "West Virginia",
          "Wisconsin",
          "Wyoming"
         ],
         "xaxis": "x",
         "y": [
          114931200,
          61670400,
          42048000,
          140160000,
          25228800,
          25228800,
          5606400,
          210240000,
          95308800,
          2803200,
          95308800,
          64473600,
          16819200,
          8409600,
          50457600,
          92505600,
          5606400,
          19622400,
          36441600,
          72883200,
          19622400,
          70080000,
          44851200,
          8409600,
          8409600,
          47654400,
          14016000,
          64473600,
          19622400,
          106521600,
          75686400,
          8409600,
          81292800,
          56064000,
          28032000,
          126144000,
          8409600,
          67276800,
          42048000,
          370022400,
          25228800,
          2803200,
          61670400,
          25228800,
          36441600,
          33638400,
          14016000
         ],
         "yaxis": "y"
        },
        {
         "alignmentgroup": "True",
         "hovertemplate": "Type of Power Plant=gas_cc_wo_ccs<br>State=%{x}<br>Generation MWH Per Year=%{y}<extra></extra>",
         "legendgroup": "gas_cc_wo_ccs",
         "marker": {
          "color": "#AFABAB",
          "pattern": {
           "shape": ""
          }
         },
         "name": "gas_cc_wo_ccs",
         "offsetgroup": "gas_cc_wo_ccs",
         "orientation": "v",
         "showlegend": true,
         "textposition": "auto",
         "type": "bar",
         "x": [
          "Alabama",
          "Arizona",
          "Arkansas",
          "California",
          "Colorado",
          "Connecticut",
          "Delaware",
          "Florida",
          "Georgia",
          "Illinois",
          "Indiana",
          "Iowa",
          "Kentucky",
          "Louisiana",
          "Maine",
          "Maryland",
          "Massachusetts",
          "Michigan",
          "Minnesota",
          "Mississippi",
          "Missouri",
          "Nevada",
          "New Jersey",
          "New York",
          "North Carolina",
          "Ohio",
          "Oklahoma",
          "Oregon",
          "Pennsylvania",
          "Rhode Island",
          "South Carolina",
          "Tennessee",
          "Texas",
          "Utah",
          "Virginia",
          "Washington",
          "Wisconsin"
         ],
         "xaxis": "x",
         "y": [
          25964640,
          3461952,
          8654880,
          12116832,
          1730976,
          3461952,
          1730976,
          20771712,
          15578784,
          5192928,
          3461952,
          1730976,
          3461952,
          29426592,
          1730976,
          1730976,
          6923904,
          6923904,
          3461952,
          20771712,
          3461952,
          15578784,
          19040736,
          19040736,
          6923904,
          5192928,
          3461952,
          8654880,
          24233664,
          1730976,
          6923904,
          1730976,
          69239040,
          3461952,
          13847808,
          6923904,
          5192928
         ],
         "yaxis": "y"
        },
        {
         "alignmentgroup": "True",
         "hovertemplate": "Type of Power Plant=nuclear_gen_ii<br>State=%{x}<br>Generation MWH Per Year=%{y}<extra></extra>",
         "legendgroup": "nuclear_gen_ii",
         "marker": {
          "color": "#D993D9",
          "pattern": {
           "shape": ""
          }
         },
         "name": "nuclear_gen_ii",
         "offsetgroup": "nuclear_gen_ii",
         "orientation": "v",
         "showlegend": true,
         "textposition": "auto",
         "type": "bar",
         "x": [
          "Alabama",
          "Arizona",
          "Arkansas",
          "Connecticut",
          "Florida",
          "Georgia",
          "Illinois",
          "Louisiana",
          "Maryland",
          "Michigan",
          "Minnesota",
          "New Hampshire",
          "New Jersey",
          "New York",
          "North Carolina",
          "Ohio",
          "Pennsylvania",
          "South Carolina",
          "Tennessee",
          "Texas",
          "Virginia"
         ],
         "xaxis": "x",
         "y": [
          31930200,
          31930200,
          10643400,
          10643400,
          10643400,
          31930200,
          63860400,
          10643400,
          10643400,
          21286800,
          10643400,
          10643400,
          21286800,
          21286800,
          31930200,
          10643400,
          74503800,
          42573600,
          21286800,
          42573600,
          21286800
         ],
         "yaxis": "y"
        },
        {
         "alignmentgroup": "True",
         "hovertemplate": "Type of Power Plant=solar_pv_non_dist<br>State=%{x}<br>Generation MWH Per Year=%{y}<extra></extra>",
         "legendgroup": "solar_pv_non_dist",
         "marker": {
          "color": "#FF8B7D",
          "pattern": {
           "shape": ""
          }
         },
         "name": "solar_pv_non_dist",
         "offsetgroup": "solar_pv_non_dist",
         "orientation": "v",
         "showlegend": true,
         "textposition": "auto",
         "type": "bar",
         "x": [
          "Alabama",
          "Arizona",
          "Arkansas",
          "California",
          "Colorado",
          "Connecticut",
          "Delaware",
          "District Of Columbia",
          "Florida",
          "Georgia",
          "Illinois",
          "Indiana",
          "Iowa",
          "Kansas",
          "Kentucky",
          "Louisiana",
          "Maine",
          "Maryland",
          "Massachusetts",
          "Michigan",
          "Minnesota",
          "Mississippi",
          "Missouri",
          "Montana",
          "Nevada",
          "New Hampshire",
          "New Jersey",
          "New Mexico",
          "New York",
          "North Carolina",
          "Ohio",
          "Oklahoma",
          "Oregon",
          "Pennsylvania",
          "Rhode Island",
          "South Carolina",
          "Tennessee",
          "Texas",
          "Utah",
          "Vermont",
          "Virginia",
          "Washington",
          "West Virginia",
          "Wisconsin",
          "Wyoming"
         ],
         "xaxis": "x",
         "y": [
          2394633.6,
          2535494.4000000004,
          704304.0000000001,
          11691446.400000002,
          845164.8,
          563443.2000000001,
          281721.60000000003,
          281721.60000000003,
          2394633.6,
          1408608.0000000002,
          1549468.8000000003,
          845164.8,
          281721.60000000003,
          140860.80000000002,
          986025.6000000001,
          3098937.6000000006,
          140860.80000000002,
          1126886.4000000001,
          1972051.2000000002,
          704304.0000000001,
          281721.60000000003,
          1267747.2000000002,
          1408608.0000000002,
          281721.60000000003,
          2112912.0000000005,
          140860.80000000002,
          3662380.8000000003,
          422582.4,
          2817216.0000000005,
          2676355.2,
          1126886.4000000001,
          422582.4,
          422582.4,
          2394633.6,
          140860.80000000002,
          1267747.2000000002,
          704304.0000000001,
          4366684.800000001,
          563443.2000000001,
          140860.80000000002,
          1549468.8000000003,
          422582.4,
          422582.4,
          986025.6000000001,
          140860.80000000002
         ],
         "yaxis": "y"
        },
        {
         "alignmentgroup": "True",
         "hovertemplate": "Type of Power Plant=wind_onshore<br>State=%{x}<br>Generation MWH Per Year=%{y}<extra></extra>",
         "legendgroup": "wind_onshore",
         "marker": {
          "color": "#9BA4D6",
          "pattern": {
           "shape": ""
          }
         },
         "name": "wind_onshore",
         "offsetgroup": "wind_onshore",
         "orientation": "v",
         "showlegend": true,
         "textposition": "auto",
         "type": "bar",
         "x": [
          "Alabama",
          "Arizona",
          "Arkansas",
          "California",
          "Colorado",
          "Connecticut",
          "Florida",
          "Idaho",
          "Illinois",
          "Indiana",
          "Iowa",
          "Kansas",
          "Kentucky",
          "Maine",
          "Maryland",
          "Massachusetts",
          "Michigan",
          "Minnesota",
          "Missouri",
          "Montana",
          "Nebraska",
          "New Hampshire",
          "New Mexico",
          "New York",
          "North Carolina",
          "North Dakota",
          "Ohio",
          "Oklahoma",
          "Oregon",
          "Pennsylvania",
          "South Carolina",
          "South Dakota",
          "Tennessee",
          "Texas",
          "Utah",
          "Washington",
          "West Virginia",
          "Wisconsin",
          "Wyoming"
         ],
         "xaxis": "x",
         "y": [
          1007032.08,
          2014064.16,
          1007032.08,
          15105481.2,
          7049224.56,
          1007032.08,
          3021096.2399999998,
          2014064.16,
          24168769.919999998,
          7049224.56,
          18126577.439999998,
          9063288.719999999,
          1007032.08,
          1007032.08,
          1007032.08,
          1007032.08,
          7049224.56,
          10070320.799999999,
          3021096.2399999998,
          2014064.16,
          3021096.2399999998,
          1007032.08,
          2014064.16,
          9063288.719999999,
          1007032.08,
          6042192.4799999995,
          4028128.32,
          12084384.959999999,
          6042192.4799999995,
          7049224.56,
          1007032.08,
          2014064.16,
          1007032.08,
          52365668.16,
          1007032.08,
          8056256.64,
          2014064.16,
          3021096.2399999998,
          4028128.32
         ],
         "yaxis": "y"
        },
        {
         "alignmentgroup": "True",
         "hovertemplate": "Type of Power Plant=solar_csp<br>State=%{x}<br>Generation MWH Per Year=%{y}<extra></extra>",
         "legendgroup": "solar_csp",
         "marker": {
          "color": "#BAE5E2",
          "pattern": {
           "shape": ""
          }
         },
         "name": "solar_csp",
         "offsetgroup": "solar_csp",
         "orientation": "v",
         "showlegend": true,
         "textposition": "auto",
         "type": "bar",
         "x": [
          "Arizona",
          "California",
          "Colorado",
          "Florida",
          "Montana",
          "Nevada",
          "New Mexico",
          "Oklahoma",
          "Oregon",
          "Texas",
          "Utah",
          "Washington",
          "Wyoming"
         ],
         "xaxis": "x",
         "y": [
          1177344.0000000002,
          3139584.0000000005,
          392448.00000000006,
          3532032.0000000005,
          392448.00000000006,
          1569792.0000000002,
          392448.00000000006,
          392448.00000000006,
          392448.00000000006,
          5494272.000000001,
          1177344.0000000002,
          392448.00000000006,
          392448.00000000006
         ],
         "yaxis": "y"
        },
        {
         "alignmentgroup": "True",
         "hovertemplate": "Type of Power Plant=biomass_conv_wo_ccs<br>State=%{x}<br>Generation MWH Per Year=%{y}<extra></extra>",
         "legendgroup": "biomass_conv_wo_ccs",
         "marker": {
          "color": "#9DC3E6",
          "pattern": {
           "shape": ""
          }
         },
         "name": "biomass_conv_wo_ccs",
         "offsetgroup": "biomass_conv_wo_ccs",
         "orientation": "v",
         "showlegend": true,
         "textposition": "auto",
         "type": "bar",
         "x": [
          "California",
          "Connecticut",
          "Florida",
          "Maine",
          "New Hampshire",
          "New York",
          "Pennsylvania"
         ],
         "xaxis": "x",
         "y": [
          2803550.4,
          400507.2,
          1602028.8,
          1201521.6,
          400507.2,
          801014.4,
          400507.2
         ],
         "yaxis": "y"
        },
        {
         "alignmentgroup": "True",
         "hovertemplate": "Type of Power Plant=oil_ct_wo_ccs<br>State=%{x}<br>Generation MWH Per Year=%{y}<extra></extra>",
         "legendgroup": "oil_ct_wo_ccs",
         "marker": {
          "color": "#F4BFDB",
          "pattern": {
           "shape": ""
          }
         },
         "name": "oil_ct_wo_ccs",
         "offsetgroup": "oil_ct_wo_ccs",
         "orientation": "v",
         "showlegend": true,
         "textposition": "auto",
         "type": "bar",
         "x": [
          "California",
          "Florida",
          "Kentucky",
          "Louisiana",
          "Maryland",
          "Montana",
          "New York",
          "Ohio",
          "Pennsylvania",
          "Texas",
          "Virginia",
          "Wisconsin"
         ],
         "xaxis": "x",
         "y": [
          399456,
          6391296,
          1597824,
          1997280,
          399456,
          399456,
          1198368,
          798912,
          399456,
          399456,
          798912,
          399456
         ],
         "yaxis": "y"
        }
       ],
       "layout": {
        "barmode": "relative",
        "font": {
         "color": "Black",
         "family": "Courier New",
         "size": 12
        },
        "legend": {
         "title": {
          "text": "Type of Power Plant"
         },
         "tracegroupgap": 0
        },
        "margin": {
         "t": 60
        },
        "plot_bgcolor": "rgb(240,240,240)",
        "template": {
         "data": {
          "bar": [
           {
            "error_x": {
             "color": "#2a3f5f"
            },
            "error_y": {
             "color": "#2a3f5f"
            },
            "marker": {
             "line": {
              "color": "#E5ECF6",
              "width": 0.5
             },
             "pattern": {
              "fillmode": "overlay",
              "size": 10,
              "solidity": 0.2
             }
            },
            "type": "bar"
           }
          ],
          "barpolar": [
           {
            "marker": {
             "line": {
              "color": "#E5ECF6",
              "width": 0.5
             },
             "pattern": {
              "fillmode": "overlay",
              "size": 10,
              "solidity": 0.2
             }
            },
            "type": "barpolar"
           }
          ],
          "carpet": [
           {
            "aaxis": {
             "endlinecolor": "#2a3f5f",
             "gridcolor": "white",
             "linecolor": "white",
             "minorgridcolor": "white",
             "startlinecolor": "#2a3f5f"
            },
            "baxis": {
             "endlinecolor": "#2a3f5f",
             "gridcolor": "white",
             "linecolor": "white",
             "minorgridcolor": "white",
             "startlinecolor": "#2a3f5f"
            },
            "type": "carpet"
           }
          ],
          "choropleth": [
           {
            "colorbar": {
             "outlinewidth": 0,
             "ticks": ""
            },
            "type": "choropleth"
           }
          ],
          "contour": [
           {
            "colorbar": {
             "outlinewidth": 0,
             "ticks": ""
            },
            "colorscale": [
             [
              0,
              "#0d0887"
             ],
             [
              0.1111111111111111,
              "#46039f"
             ],
             [
              0.2222222222222222,
              "#7201a8"
             ],
             [
              0.3333333333333333,
              "#9c179e"
             ],
             [
              0.4444444444444444,
              "#bd3786"
             ],
             [
              0.5555555555555556,
              "#d8576b"
             ],
             [
              0.6666666666666666,
              "#ed7953"
             ],
             [
              0.7777777777777778,
              "#fb9f3a"
             ],
             [
              0.8888888888888888,
              "#fdca26"
             ],
             [
              1,
              "#f0f921"
             ]
            ],
            "type": "contour"
           }
          ],
          "contourcarpet": [
           {
            "colorbar": {
             "outlinewidth": 0,
             "ticks": ""
            },
            "type": "contourcarpet"
           }
          ],
          "heatmap": [
           {
            "colorbar": {
             "outlinewidth": 0,
             "ticks": ""
            },
            "colorscale": [
             [
              0,
              "#0d0887"
             ],
             [
              0.1111111111111111,
              "#46039f"
             ],
             [
              0.2222222222222222,
              "#7201a8"
             ],
             [
              0.3333333333333333,
              "#9c179e"
             ],
             [
              0.4444444444444444,
              "#bd3786"
             ],
             [
              0.5555555555555556,
              "#d8576b"
             ],
             [
              0.6666666666666666,
              "#ed7953"
             ],
             [
              0.7777777777777778,
              "#fb9f3a"
             ],
             [
              0.8888888888888888,
              "#fdca26"
             ],
             [
              1,
              "#f0f921"
             ]
            ],
            "type": "heatmap"
           }
          ],
          "heatmapgl": [
           {
            "colorbar": {
             "outlinewidth": 0,
             "ticks": ""
            },
            "colorscale": [
             [
              0,
              "#0d0887"
             ],
             [
              0.1111111111111111,
              "#46039f"
             ],
             [
              0.2222222222222222,
              "#7201a8"
             ],
             [
              0.3333333333333333,
              "#9c179e"
             ],
             [
              0.4444444444444444,
              "#bd3786"
             ],
             [
              0.5555555555555556,
              "#d8576b"
             ],
             [
              0.6666666666666666,
              "#ed7953"
             ],
             [
              0.7777777777777778,
              "#fb9f3a"
             ],
             [
              0.8888888888888888,
              "#fdca26"
             ],
             [
              1,
              "#f0f921"
             ]
            ],
            "type": "heatmapgl"
           }
          ],
          "histogram": [
           {
            "marker": {
             "pattern": {
              "fillmode": "overlay",
              "size": 10,
              "solidity": 0.2
             }
            },
            "type": "histogram"
           }
          ],
          "histogram2d": [
           {
            "colorbar": {
             "outlinewidth": 0,
             "ticks": ""
            },
            "colorscale": [
             [
              0,
              "#0d0887"
             ],
             [
              0.1111111111111111,
              "#46039f"
             ],
             [
              0.2222222222222222,
              "#7201a8"
             ],
             [
              0.3333333333333333,
              "#9c179e"
             ],
             [
              0.4444444444444444,
              "#bd3786"
             ],
             [
              0.5555555555555556,
              "#d8576b"
             ],
             [
              0.6666666666666666,
              "#ed7953"
             ],
             [
              0.7777777777777778,
              "#fb9f3a"
             ],
             [
              0.8888888888888888,
              "#fdca26"
             ],
             [
              1,
              "#f0f921"
             ]
            ],
            "type": "histogram2d"
           }
          ],
          "histogram2dcontour": [
           {
            "colorbar": {
             "outlinewidth": 0,
             "ticks": ""
            },
            "colorscale": [
             [
              0,
              "#0d0887"
             ],
             [
              0.1111111111111111,
              "#46039f"
             ],
             [
              0.2222222222222222,
              "#7201a8"
             ],
             [
              0.3333333333333333,
              "#9c179e"
             ],
             [
              0.4444444444444444,
              "#bd3786"
             ],
             [
              0.5555555555555556,
              "#d8576b"
             ],
             [
              0.6666666666666666,
              "#ed7953"
             ],
             [
              0.7777777777777778,
              "#fb9f3a"
             ],
             [
              0.8888888888888888,
              "#fdca26"
             ],
             [
              1,
              "#f0f921"
             ]
            ],
            "type": "histogram2dcontour"
           }
          ],
          "mesh3d": [
           {
            "colorbar": {
             "outlinewidth": 0,
             "ticks": ""
            },
            "type": "mesh3d"
           }
          ],
          "parcoords": [
           {
            "line": {
             "colorbar": {
              "outlinewidth": 0,
              "ticks": ""
             }
            },
            "type": "parcoords"
           }
          ],
          "pie": [
           {
            "automargin": true,
            "type": "pie"
           }
          ],
          "scatter": [
           {
            "fillpattern": {
             "fillmode": "overlay",
             "size": 10,
             "solidity": 0.2
            },
            "type": "scatter"
           }
          ],
          "scatter3d": [
           {
            "line": {
             "colorbar": {
              "outlinewidth": 0,
              "ticks": ""
             }
            },
            "marker": {
             "colorbar": {
              "outlinewidth": 0,
              "ticks": ""
             }
            },
            "type": "scatter3d"
           }
          ],
          "scattercarpet": [
           {
            "marker": {
             "colorbar": {
              "outlinewidth": 0,
              "ticks": ""
             }
            },
            "type": "scattercarpet"
           }
          ],
          "scattergeo": [
           {
            "marker": {
             "colorbar": {
              "outlinewidth": 0,
              "ticks": ""
             }
            },
            "type": "scattergeo"
           }
          ],
          "scattergl": [
           {
            "marker": {
             "colorbar": {
              "outlinewidth": 0,
              "ticks": ""
             }
            },
            "type": "scattergl"
           }
          ],
          "scattermapbox": [
           {
            "marker": {
             "colorbar": {
              "outlinewidth": 0,
              "ticks": ""
             }
            },
            "type": "scattermapbox"
           }
          ],
          "scatterpolar": [
           {
            "marker": {
             "colorbar": {
              "outlinewidth": 0,
              "ticks": ""
             }
            },
            "type": "scatterpolar"
           }
          ],
          "scatterpolargl": [
           {
            "marker": {
             "colorbar": {
              "outlinewidth": 0,
              "ticks": ""
             }
            },
            "type": "scatterpolargl"
           }
          ],
          "scatterternary": [
           {
            "marker": {
             "colorbar": {
              "outlinewidth": 0,
              "ticks": ""
             }
            },
            "type": "scatterternary"
           }
          ],
          "surface": [
           {
            "colorbar": {
             "outlinewidth": 0,
             "ticks": ""
            },
            "colorscale": [
             [
              0,
              "#0d0887"
             ],
             [
              0.1111111111111111,
              "#46039f"
             ],
             [
              0.2222222222222222,
              "#7201a8"
             ],
             [
              0.3333333333333333,
              "#9c179e"
             ],
             [
              0.4444444444444444,
              "#bd3786"
             ],
             [
              0.5555555555555556,
              "#d8576b"
             ],
             [
              0.6666666666666666,
              "#ed7953"
             ],
             [
              0.7777777777777778,
              "#fb9f3a"
             ],
             [
              0.8888888888888888,
              "#fdca26"
             ],
             [
              1,
              "#f0f921"
             ]
            ],
            "type": "surface"
           }
          ],
          "table": [
           {
            "cells": {
             "fill": {
              "color": "#EBF0F8"
             },
             "line": {
              "color": "white"
             }
            },
            "header": {
             "fill": {
              "color": "#C8D4E3"
             },
             "line": {
              "color": "white"
             }
            },
            "type": "table"
           }
          ]
         },
         "layout": {
          "annotationdefaults": {
           "arrowcolor": "#2a3f5f",
           "arrowhead": 0,
           "arrowwidth": 1
          },
          "autotypenumbers": "strict",
          "coloraxis": {
           "colorbar": {
            "outlinewidth": 0,
            "ticks": ""
           }
          },
          "colorscale": {
           "diverging": [
            [
             0,
             "#8e0152"
            ],
            [
             0.1,
             "#c51b7d"
            ],
            [
             0.2,
             "#de77ae"
            ],
            [
             0.3,
             "#f1b6da"
            ],
            [
             0.4,
             "#fde0ef"
            ],
            [
             0.5,
             "#f7f7f7"
            ],
            [
             0.6,
             "#e6f5d0"
            ],
            [
             0.7,
             "#b8e186"
            ],
            [
             0.8,
             "#7fbc41"
            ],
            [
             0.9,
             "#4d9221"
            ],
            [
             1,
             "#276419"
            ]
           ],
           "sequential": [
            [
             0,
             "#0d0887"
            ],
            [
             0.1111111111111111,
             "#46039f"
            ],
            [
             0.2222222222222222,
             "#7201a8"
            ],
            [
             0.3333333333333333,
             "#9c179e"
            ],
            [
             0.4444444444444444,
             "#bd3786"
            ],
            [
             0.5555555555555556,
             "#d8576b"
            ],
            [
             0.6666666666666666,
             "#ed7953"
            ],
            [
             0.7777777777777778,
             "#fb9f3a"
            ],
            [
             0.8888888888888888,
             "#fdca26"
            ],
            [
             1,
             "#f0f921"
            ]
           ],
           "sequentialminus": [
            [
             0,
             "#0d0887"
            ],
            [
             0.1111111111111111,
             "#46039f"
            ],
            [
             0.2222222222222222,
             "#7201a8"
            ],
            [
             0.3333333333333333,
             "#9c179e"
            ],
            [
             0.4444444444444444,
             "#bd3786"
            ],
            [
             0.5555555555555556,
             "#d8576b"
            ],
            [
             0.6666666666666666,
             "#ed7953"
            ],
            [
             0.7777777777777778,
             "#fb9f3a"
            ],
            [
             0.8888888888888888,
             "#fdca26"
            ],
            [
             1,
             "#f0f921"
            ]
           ]
          },
          "colorway": [
           "#636efa",
           "#EF553B",
           "#00cc96",
           "#ab63fa",
           "#FFA15A",
           "#19d3f3",
           "#FF6692",
           "#B6E880",
           "#FF97FF",
           "#FECB52"
          ],
          "font": {
           "color": "#2a3f5f"
          },
          "geo": {
           "bgcolor": "white",
           "lakecolor": "white",
           "landcolor": "#E5ECF6",
           "showlakes": true,
           "showland": true,
           "subunitcolor": "white"
          },
          "hoverlabel": {
           "align": "left"
          },
          "hovermode": "closest",
          "mapbox": {
           "style": "light"
          },
          "paper_bgcolor": "white",
          "plot_bgcolor": "#E5ECF6",
          "polar": {
           "angularaxis": {
            "gridcolor": "white",
            "linecolor": "white",
            "ticks": ""
           },
           "bgcolor": "#E5ECF6",
           "radialaxis": {
            "gridcolor": "white",
            "linecolor": "white",
            "ticks": ""
           }
          },
          "scene": {
           "xaxis": {
            "backgroundcolor": "#E5ECF6",
            "gridcolor": "white",
            "gridwidth": 2,
            "linecolor": "white",
            "showbackground": true,
            "ticks": "",
            "zerolinecolor": "white"
           },
           "yaxis": {
            "backgroundcolor": "#E5ECF6",
            "gridcolor": "white",
            "gridwidth": 2,
            "linecolor": "white",
            "showbackground": true,
            "ticks": "",
            "zerolinecolor": "white"
           },
           "zaxis": {
            "backgroundcolor": "#E5ECF6",
            "gridcolor": "white",
            "gridwidth": 2,
            "linecolor": "white",
            "showbackground": true,
            "ticks": "",
            "zerolinecolor": "white"
           }
          },
          "shapedefaults": {
           "line": {
            "color": "#2a3f5f"
           }
          },
          "ternary": {
           "aaxis": {
            "gridcolor": "white",
            "linecolor": "white",
            "ticks": ""
           },
           "baxis": {
            "gridcolor": "white",
            "linecolor": "white",
            "ticks": ""
           },
           "bgcolor": "#E5ECF6",
           "caxis": {
            "gridcolor": "white",
            "linecolor": "white",
            "ticks": ""
           }
          },
          "title": {
           "x": 0.05
          },
          "xaxis": {
           "automargin": true,
           "gridcolor": "white",
           "linecolor": "white",
           "ticks": "",
           "title": {
            "standoff": 15
           },
           "zerolinecolor": "white",
           "zerolinewidth": 2
          },
          "yaxis": {
           "automargin": true,
           "gridcolor": "white",
           "linecolor": "white",
           "ticks": "",
           "title": {
            "standoff": 15
           },
           "zerolinecolor": "white",
           "zerolinewidth": 2
          }
         }
        },
        "title": {
         "text": "Generation MWH by State and Type of Power Plant",
         "x": 0.42,
         "xanchor": "center",
         "y": 0.95,
         "yanchor": "top"
        },
        "xaxis": {
         "anchor": "y",
         "categoryorder": "total descending",
         "domain": [
          0,
          1
         ],
         "title": {
          "text": "State"
         }
        },
        "yaxis": {
         "anchor": "x",
         "domain": [
          0,
          1
         ],
         "title": {
          "text": "Generation MWH Per Year"
         }
        }
       }
      },
      "text/html": [
       "<div>                            <div id=\"1493d6d6-755e-4e33-95e1-94608ce85340\" class=\"plotly-graph-div\" style=\"height:525px; width:100%;\"></div>            <script type=\"text/javascript\">                require([\"plotly\"], function(Plotly) {                    window.PLOTLYENV=window.PLOTLYENV || {};                                    if (document.getElementById(\"1493d6d6-755e-4e33-95e1-94608ce85340\")) {                    Plotly.newPlot(                        \"1493d6d6-755e-4e33-95e1-94608ce85340\",                        [{\"alignmentgroup\":\"True\",\"hovertemplate\":\"Type of Power Plant=coal_conv_pul_wo_ccs<br>State=%{x}<br>Generation MWH Per Year=%{y}<extra></extra>\",\"legendgroup\":\"coal_conv_pul_wo_ccs\",\"marker\":{\"color\":\"#F4B183\",\"pattern\":{\"shape\":\"\"}},\"name\":\"coal_conv_pul_wo_ccs\",\"offsetgroup\":\"coal_conv_pul_wo_ccs\",\"orientation\":\"v\",\"showlegend\":true,\"textposition\":\"auto\",\"x\":[\"Alabama\",\"Arizona\",\"Arkansas\",\"Colorado\",\"Florida\",\"Georgia\",\"Illinois\",\"Indiana\",\"Iowa\",\"Kansas\",\"Kentucky\",\"Louisiana\",\"Maryland\",\"Michigan\",\"Minnesota\",\"Mississippi\",\"Missouri\",\"Montana\",\"Nebraska\",\"New Mexico\",\"North Carolina\",\"North Dakota\",\"Ohio\",\"Oklahoma\",\"Pennsylvania\",\"South Carolina\",\"Tennessee\",\"Texas\",\"Utah\",\"Virginia\",\"West Virginia\",\"Wisconsin\",\"Wyoming\"],\"xaxis\":\"x\",\"y\":[34673832.0,38526480.0,19263240.0,30821184.0,34673832.0,34673832.0,73200312.0,84758256.0,34673832.0,23115888.0,65495016.0,15410592.0,7705296.0,46231776.0,26968536.0,3852648.0,77052960.0,15410592.0,26968536.0,7705296.0,34673832.0,34673832.0,77052960.0,23115888.0,65495016.0,19263240.0,19263240.0,123284736.0,30821184.0,15410592.0,69347664.0,38526480.0,50084424.0],\"yaxis\":\"y\",\"type\":\"bar\"},{\"alignmentgroup\":\"True\",\"hovertemplate\":\"Type of Power Plant=gas_cc_w_ccs<br>State=%{x}<br>Generation MWH Per Year=%{y}<extra></extra>\",\"legendgroup\":\"gas_cc_w_ccs\",\"marker\":{\"color\":\"#FFE699\",\"pattern\":{\"shape\":\"\"}},\"name\":\"gas_cc_w_ccs\",\"offsetgroup\":\"gas_cc_w_ccs\",\"orientation\":\"v\",\"showlegend\":true,\"textposition\":\"auto\",\"x\":[\"Alabama\",\"Arizona\",\"Arkansas\",\"California\",\"Colorado\",\"Connecticut\",\"Delaware\",\"Florida\",\"Georgia\",\"Idaho\",\"Illinois\",\"Indiana\",\"Iowa\",\"Kansas\",\"Kentucky\",\"Louisiana\",\"Maine\",\"Maryland\",\"Massachusetts\",\"Michigan\",\"Minnesota\",\"Mississippi\",\"Missouri\",\"Montana\",\"Nebraska\",\"Nevada\",\"New Hampshire\",\"New Jersey\",\"New Mexico\",\"New York\",\"North Carolina\",\"North Dakota\",\"Ohio\",\"Oklahoma\",\"Oregon\",\"Pennsylvania\",\"Rhode Island\",\"South Carolina\",\"Tennessee\",\"Texas\",\"Utah\",\"Vermont\",\"Virginia\",\"Washington\",\"West Virginia\",\"Wisconsin\",\"Wyoming\"],\"xaxis\":\"x\",\"y\":[114931200.0,61670400.0,42048000.0,140160000.0,25228800.0,25228800.0,5606400.0,210240000.0,95308800.0,2803200.0,95308800.0,64473600.0,16819200.0,8409600.0,50457600.0,92505600.0,5606400.0,19622400.0,36441600.0,72883200.0,19622400.0,70080000.0,44851200.0,8409600.0,8409600.0,47654400.0,14016000.0,64473600.0,19622400.0,106521600.0,75686400.0,8409600.0,81292800.0,56064000.0,28032000.0,126144000.0,8409600.0,67276800.0,42048000.0,370022400.0,25228800.0,2803200.0,61670400.0,25228800.0,36441600.0,33638400.0,14016000.0],\"yaxis\":\"y\",\"type\":\"bar\"},{\"alignmentgroup\":\"True\",\"hovertemplate\":\"Type of Power Plant=gas_cc_wo_ccs<br>State=%{x}<br>Generation MWH Per Year=%{y}<extra></extra>\",\"legendgroup\":\"gas_cc_wo_ccs\",\"marker\":{\"color\":\"#AFABAB\",\"pattern\":{\"shape\":\"\"}},\"name\":\"gas_cc_wo_ccs\",\"offsetgroup\":\"gas_cc_wo_ccs\",\"orientation\":\"v\",\"showlegend\":true,\"textposition\":\"auto\",\"x\":[\"Alabama\",\"Arizona\",\"Arkansas\",\"California\",\"Colorado\",\"Connecticut\",\"Delaware\",\"Florida\",\"Georgia\",\"Illinois\",\"Indiana\",\"Iowa\",\"Kentucky\",\"Louisiana\",\"Maine\",\"Maryland\",\"Massachusetts\",\"Michigan\",\"Minnesota\",\"Mississippi\",\"Missouri\",\"Nevada\",\"New Jersey\",\"New York\",\"North Carolina\",\"Ohio\",\"Oklahoma\",\"Oregon\",\"Pennsylvania\",\"Rhode Island\",\"South Carolina\",\"Tennessee\",\"Texas\",\"Utah\",\"Virginia\",\"Washington\",\"Wisconsin\"],\"xaxis\":\"x\",\"y\":[25964640.0,3461952.0,8654880.0,12116832.0,1730976.0,3461952.0,1730976.0,20771712.0,15578784.0,5192928.0,3461952.0,1730976.0,3461952.0,29426592.0,1730976.0,1730976.0,6923904.0,6923904.0,3461952.0,20771712.0,3461952.0,15578784.0,19040736.0,19040736.0,6923904.0,5192928.0,3461952.0,8654880.0,24233664.0,1730976.0,6923904.0,1730976.0,69239040.0,3461952.0,13847808.0,6923904.0,5192928.0],\"yaxis\":\"y\",\"type\":\"bar\"},{\"alignmentgroup\":\"True\",\"hovertemplate\":\"Type of Power Plant=nuclear_gen_ii<br>State=%{x}<br>Generation MWH Per Year=%{y}<extra></extra>\",\"legendgroup\":\"nuclear_gen_ii\",\"marker\":{\"color\":\"#D993D9\",\"pattern\":{\"shape\":\"\"}},\"name\":\"nuclear_gen_ii\",\"offsetgroup\":\"nuclear_gen_ii\",\"orientation\":\"v\",\"showlegend\":true,\"textposition\":\"auto\",\"x\":[\"Alabama\",\"Arizona\",\"Arkansas\",\"Connecticut\",\"Florida\",\"Georgia\",\"Illinois\",\"Louisiana\",\"Maryland\",\"Michigan\",\"Minnesota\",\"New Hampshire\",\"New Jersey\",\"New York\",\"North Carolina\",\"Ohio\",\"Pennsylvania\",\"South Carolina\",\"Tennessee\",\"Texas\",\"Virginia\"],\"xaxis\":\"x\",\"y\":[31930200.0,31930200.0,10643400.0,10643400.0,10643400.0,31930200.0,63860400.0,10643400.0,10643400.0,21286800.0,10643400.0,10643400.0,21286800.0,21286800.0,31930200.0,10643400.0,74503800.0,42573600.0,21286800.0,42573600.0,21286800.0],\"yaxis\":\"y\",\"type\":\"bar\"},{\"alignmentgroup\":\"True\",\"hovertemplate\":\"Type of Power Plant=solar_pv_non_dist<br>State=%{x}<br>Generation MWH Per Year=%{y}<extra></extra>\",\"legendgroup\":\"solar_pv_non_dist\",\"marker\":{\"color\":\"#FF8B7D\",\"pattern\":{\"shape\":\"\"}},\"name\":\"solar_pv_non_dist\",\"offsetgroup\":\"solar_pv_non_dist\",\"orientation\":\"v\",\"showlegend\":true,\"textposition\":\"auto\",\"x\":[\"Alabama\",\"Arizona\",\"Arkansas\",\"California\",\"Colorado\",\"Connecticut\",\"Delaware\",\"District Of Columbia\",\"Florida\",\"Georgia\",\"Illinois\",\"Indiana\",\"Iowa\",\"Kansas\",\"Kentucky\",\"Louisiana\",\"Maine\",\"Maryland\",\"Massachusetts\",\"Michigan\",\"Minnesota\",\"Mississippi\",\"Missouri\",\"Montana\",\"Nevada\",\"New Hampshire\",\"New Jersey\",\"New Mexico\",\"New York\",\"North Carolina\",\"Ohio\",\"Oklahoma\",\"Oregon\",\"Pennsylvania\",\"Rhode Island\",\"South Carolina\",\"Tennessee\",\"Texas\",\"Utah\",\"Vermont\",\"Virginia\",\"Washington\",\"West Virginia\",\"Wisconsin\",\"Wyoming\"],\"xaxis\":\"x\",\"y\":[2394633.6,2535494.4000000004,704304.0000000001,11691446.400000002,845164.8,563443.2000000001,281721.60000000003,281721.60000000003,2394633.6,1408608.0000000002,1549468.8000000003,845164.8,281721.60000000003,140860.80000000002,986025.6000000001,3098937.6000000006,140860.80000000002,1126886.4000000001,1972051.2000000002,704304.0000000001,281721.60000000003,1267747.2000000002,1408608.0000000002,281721.60000000003,2112912.0000000005,140860.80000000002,3662380.8000000003,422582.4,2817216.0000000005,2676355.2,1126886.4000000001,422582.4,422582.4,2394633.6,140860.80000000002,1267747.2000000002,704304.0000000001,4366684.800000001,563443.2000000001,140860.80000000002,1549468.8000000003,422582.4,422582.4,986025.6000000001,140860.80000000002],\"yaxis\":\"y\",\"type\":\"bar\"},{\"alignmentgroup\":\"True\",\"hovertemplate\":\"Type of Power Plant=wind_onshore<br>State=%{x}<br>Generation MWH Per Year=%{y}<extra></extra>\",\"legendgroup\":\"wind_onshore\",\"marker\":{\"color\":\"#9BA4D6\",\"pattern\":{\"shape\":\"\"}},\"name\":\"wind_onshore\",\"offsetgroup\":\"wind_onshore\",\"orientation\":\"v\",\"showlegend\":true,\"textposition\":\"auto\",\"x\":[\"Alabama\",\"Arizona\",\"Arkansas\",\"California\",\"Colorado\",\"Connecticut\",\"Florida\",\"Idaho\",\"Illinois\",\"Indiana\",\"Iowa\",\"Kansas\",\"Kentucky\",\"Maine\",\"Maryland\",\"Massachusetts\",\"Michigan\",\"Minnesota\",\"Missouri\",\"Montana\",\"Nebraska\",\"New Hampshire\",\"New Mexico\",\"New York\",\"North Carolina\",\"North Dakota\",\"Ohio\",\"Oklahoma\",\"Oregon\",\"Pennsylvania\",\"South Carolina\",\"South Dakota\",\"Tennessee\",\"Texas\",\"Utah\",\"Washington\",\"West Virginia\",\"Wisconsin\",\"Wyoming\"],\"xaxis\":\"x\",\"y\":[1007032.08,2014064.16,1007032.08,15105481.2,7049224.56,1007032.08,3021096.2399999998,2014064.16,24168769.919999998,7049224.56,18126577.439999998,9063288.719999999,1007032.08,1007032.08,1007032.08,1007032.08,7049224.56,10070320.799999999,3021096.2399999998,2014064.16,3021096.2399999998,1007032.08,2014064.16,9063288.719999999,1007032.08,6042192.4799999995,4028128.32,12084384.959999999,6042192.4799999995,7049224.56,1007032.08,2014064.16,1007032.08,52365668.16,1007032.08,8056256.64,2014064.16,3021096.2399999998,4028128.32],\"yaxis\":\"y\",\"type\":\"bar\"},{\"alignmentgroup\":\"True\",\"hovertemplate\":\"Type of Power Plant=solar_csp<br>State=%{x}<br>Generation MWH Per Year=%{y}<extra></extra>\",\"legendgroup\":\"solar_csp\",\"marker\":{\"color\":\"#BAE5E2\",\"pattern\":{\"shape\":\"\"}},\"name\":\"solar_csp\",\"offsetgroup\":\"solar_csp\",\"orientation\":\"v\",\"showlegend\":true,\"textposition\":\"auto\",\"x\":[\"Arizona\",\"California\",\"Colorado\",\"Florida\",\"Montana\",\"Nevada\",\"New Mexico\",\"Oklahoma\",\"Oregon\",\"Texas\",\"Utah\",\"Washington\",\"Wyoming\"],\"xaxis\":\"x\",\"y\":[1177344.0000000002,3139584.0000000005,392448.00000000006,3532032.0000000005,392448.00000000006,1569792.0000000002,392448.00000000006,392448.00000000006,392448.00000000006,5494272.000000001,1177344.0000000002,392448.00000000006,392448.00000000006],\"yaxis\":\"y\",\"type\":\"bar\"},{\"alignmentgroup\":\"True\",\"hovertemplate\":\"Type of Power Plant=biomass_conv_wo_ccs<br>State=%{x}<br>Generation MWH Per Year=%{y}<extra></extra>\",\"legendgroup\":\"biomass_conv_wo_ccs\",\"marker\":{\"color\":\"#9DC3E6\",\"pattern\":{\"shape\":\"\"}},\"name\":\"biomass_conv_wo_ccs\",\"offsetgroup\":\"biomass_conv_wo_ccs\",\"orientation\":\"v\",\"showlegend\":true,\"textposition\":\"auto\",\"x\":[\"California\",\"Connecticut\",\"Florida\",\"Maine\",\"New Hampshire\",\"New York\",\"Pennsylvania\"],\"xaxis\":\"x\",\"y\":[2803550.4,400507.2,1602028.8,1201521.6,400507.2,801014.4,400507.2],\"yaxis\":\"y\",\"type\":\"bar\"},{\"alignmentgroup\":\"True\",\"hovertemplate\":\"Type of Power Plant=oil_ct_wo_ccs<br>State=%{x}<br>Generation MWH Per Year=%{y}<extra></extra>\",\"legendgroup\":\"oil_ct_wo_ccs\",\"marker\":{\"color\":\"#F4BFDB\",\"pattern\":{\"shape\":\"\"}},\"name\":\"oil_ct_wo_ccs\",\"offsetgroup\":\"oil_ct_wo_ccs\",\"orientation\":\"v\",\"showlegend\":true,\"textposition\":\"auto\",\"x\":[\"California\",\"Florida\",\"Kentucky\",\"Louisiana\",\"Maryland\",\"Montana\",\"New York\",\"Ohio\",\"Pennsylvania\",\"Texas\",\"Virginia\",\"Wisconsin\"],\"xaxis\":\"x\",\"y\":[399456.0,6391296.0,1597824.0,1997280.0,399456.0,399456.0,1198368.0,798912.0,399456.0,399456.0,798912.0,399456.0],\"yaxis\":\"y\",\"type\":\"bar\"}],                        {\"template\":{\"data\":{\"histogram2dcontour\":[{\"type\":\"histogram2dcontour\",\"colorbar\":{\"outlinewidth\":0,\"ticks\":\"\"},\"colorscale\":[[0.0,\"#0d0887\"],[0.1111111111111111,\"#46039f\"],[0.2222222222222222,\"#7201a8\"],[0.3333333333333333,\"#9c179e\"],[0.4444444444444444,\"#bd3786\"],[0.5555555555555556,\"#d8576b\"],[0.6666666666666666,\"#ed7953\"],[0.7777777777777778,\"#fb9f3a\"],[0.8888888888888888,\"#fdca26\"],[1.0,\"#f0f921\"]]}],\"choropleth\":[{\"type\":\"choropleth\",\"colorbar\":{\"outlinewidth\":0,\"ticks\":\"\"}}],\"histogram2d\":[{\"type\":\"histogram2d\",\"colorbar\":{\"outlinewidth\":0,\"ticks\":\"\"},\"colorscale\":[[0.0,\"#0d0887\"],[0.1111111111111111,\"#46039f\"],[0.2222222222222222,\"#7201a8\"],[0.3333333333333333,\"#9c179e\"],[0.4444444444444444,\"#bd3786\"],[0.5555555555555556,\"#d8576b\"],[0.6666666666666666,\"#ed7953\"],[0.7777777777777778,\"#fb9f3a\"],[0.8888888888888888,\"#fdca26\"],[1.0,\"#f0f921\"]]}],\"heatmap\":[{\"type\":\"heatmap\",\"colorbar\":{\"outlinewidth\":0,\"ticks\":\"\"},\"colorscale\":[[0.0,\"#0d0887\"],[0.1111111111111111,\"#46039f\"],[0.2222222222222222,\"#7201a8\"],[0.3333333333333333,\"#9c179e\"],[0.4444444444444444,\"#bd3786\"],[0.5555555555555556,\"#d8576b\"],[0.6666666666666666,\"#ed7953\"],[0.7777777777777778,\"#fb9f3a\"],[0.8888888888888888,\"#fdca26\"],[1.0,\"#f0f921\"]]}],\"heatmapgl\":[{\"type\":\"heatmapgl\",\"colorbar\":{\"outlinewidth\":0,\"ticks\":\"\"},\"colorscale\":[[0.0,\"#0d0887\"],[0.1111111111111111,\"#46039f\"],[0.2222222222222222,\"#7201a8\"],[0.3333333333333333,\"#9c179e\"],[0.4444444444444444,\"#bd3786\"],[0.5555555555555556,\"#d8576b\"],[0.6666666666666666,\"#ed7953\"],[0.7777777777777778,\"#fb9f3a\"],[0.8888888888888888,\"#fdca26\"],[1.0,\"#f0f921\"]]}],\"contourcarpet\":[{\"type\":\"contourcarpet\",\"colorbar\":{\"outlinewidth\":0,\"ticks\":\"\"}}],\"contour\":[{\"type\":\"contour\",\"colorbar\":{\"outlinewidth\":0,\"ticks\":\"\"},\"colorscale\":[[0.0,\"#0d0887\"],[0.1111111111111111,\"#46039f\"],[0.2222222222222222,\"#7201a8\"],[0.3333333333333333,\"#9c179e\"],[0.4444444444444444,\"#bd3786\"],[0.5555555555555556,\"#d8576b\"],[0.6666666666666666,\"#ed7953\"],[0.7777777777777778,\"#fb9f3a\"],[0.8888888888888888,\"#fdca26\"],[1.0,\"#f0f921\"]]}],\"surface\":[{\"type\":\"surface\",\"colorbar\":{\"outlinewidth\":0,\"ticks\":\"\"},\"colorscale\":[[0.0,\"#0d0887\"],[0.1111111111111111,\"#46039f\"],[0.2222222222222222,\"#7201a8\"],[0.3333333333333333,\"#9c179e\"],[0.4444444444444444,\"#bd3786\"],[0.5555555555555556,\"#d8576b\"],[0.6666666666666666,\"#ed7953\"],[0.7777777777777778,\"#fb9f3a\"],[0.8888888888888888,\"#fdca26\"],[1.0,\"#f0f921\"]]}],\"mesh3d\":[{\"type\":\"mesh3d\",\"colorbar\":{\"outlinewidth\":0,\"ticks\":\"\"}}],\"scatter\":[{\"fillpattern\":{\"fillmode\":\"overlay\",\"size\":10,\"solidity\":0.2},\"type\":\"scatter\"}],\"parcoords\":[{\"type\":\"parcoords\",\"line\":{\"colorbar\":{\"outlinewidth\":0,\"ticks\":\"\"}}}],\"scatterpolargl\":[{\"type\":\"scatterpolargl\",\"marker\":{\"colorbar\":{\"outlinewidth\":0,\"ticks\":\"\"}}}],\"bar\":[{\"error_x\":{\"color\":\"#2a3f5f\"},\"error_y\":{\"color\":\"#2a3f5f\"},\"marker\":{\"line\":{\"color\":\"#E5ECF6\",\"width\":0.5},\"pattern\":{\"fillmode\":\"overlay\",\"size\":10,\"solidity\":0.2}},\"type\":\"bar\"}],\"scattergeo\":[{\"type\":\"scattergeo\",\"marker\":{\"colorbar\":{\"outlinewidth\":0,\"ticks\":\"\"}}}],\"scatterpolar\":[{\"type\":\"scatterpolar\",\"marker\":{\"colorbar\":{\"outlinewidth\":0,\"ticks\":\"\"}}}],\"histogram\":[{\"marker\":{\"pattern\":{\"fillmode\":\"overlay\",\"size\":10,\"solidity\":0.2}},\"type\":\"histogram\"}],\"scattergl\":[{\"type\":\"scattergl\",\"marker\":{\"colorbar\":{\"outlinewidth\":0,\"ticks\":\"\"}}}],\"scatter3d\":[{\"type\":\"scatter3d\",\"line\":{\"colorbar\":{\"outlinewidth\":0,\"ticks\":\"\"}},\"marker\":{\"colorbar\":{\"outlinewidth\":0,\"ticks\":\"\"}}}],\"scattermapbox\":[{\"type\":\"scattermapbox\",\"marker\":{\"colorbar\":{\"outlinewidth\":0,\"ticks\":\"\"}}}],\"scatterternary\":[{\"type\":\"scatterternary\",\"marker\":{\"colorbar\":{\"outlinewidth\":0,\"ticks\":\"\"}}}],\"scattercarpet\":[{\"type\":\"scattercarpet\",\"marker\":{\"colorbar\":{\"outlinewidth\":0,\"ticks\":\"\"}}}],\"carpet\":[{\"aaxis\":{\"endlinecolor\":\"#2a3f5f\",\"gridcolor\":\"white\",\"linecolor\":\"white\",\"minorgridcolor\":\"white\",\"startlinecolor\":\"#2a3f5f\"},\"baxis\":{\"endlinecolor\":\"#2a3f5f\",\"gridcolor\":\"white\",\"linecolor\":\"white\",\"minorgridcolor\":\"white\",\"startlinecolor\":\"#2a3f5f\"},\"type\":\"carpet\"}],\"table\":[{\"cells\":{\"fill\":{\"color\":\"#EBF0F8\"},\"line\":{\"color\":\"white\"}},\"header\":{\"fill\":{\"color\":\"#C8D4E3\"},\"line\":{\"color\":\"white\"}},\"type\":\"table\"}],\"barpolar\":[{\"marker\":{\"line\":{\"color\":\"#E5ECF6\",\"width\":0.5},\"pattern\":{\"fillmode\":\"overlay\",\"size\":10,\"solidity\":0.2}},\"type\":\"barpolar\"}],\"pie\":[{\"automargin\":true,\"type\":\"pie\"}]},\"layout\":{\"autotypenumbers\":\"strict\",\"colorway\":[\"#636efa\",\"#EF553B\",\"#00cc96\",\"#ab63fa\",\"#FFA15A\",\"#19d3f3\",\"#FF6692\",\"#B6E880\",\"#FF97FF\",\"#FECB52\"],\"font\":{\"color\":\"#2a3f5f\"},\"hovermode\":\"closest\",\"hoverlabel\":{\"align\":\"left\"},\"paper_bgcolor\":\"white\",\"plot_bgcolor\":\"#E5ECF6\",\"polar\":{\"bgcolor\":\"#E5ECF6\",\"angularaxis\":{\"gridcolor\":\"white\",\"linecolor\":\"white\",\"ticks\":\"\"},\"radialaxis\":{\"gridcolor\":\"white\",\"linecolor\":\"white\",\"ticks\":\"\"}},\"ternary\":{\"bgcolor\":\"#E5ECF6\",\"aaxis\":{\"gridcolor\":\"white\",\"linecolor\":\"white\",\"ticks\":\"\"},\"baxis\":{\"gridcolor\":\"white\",\"linecolor\":\"white\",\"ticks\":\"\"},\"caxis\":{\"gridcolor\":\"white\",\"linecolor\":\"white\",\"ticks\":\"\"}},\"coloraxis\":{\"colorbar\":{\"outlinewidth\":0,\"ticks\":\"\"}},\"colorscale\":{\"sequential\":[[0.0,\"#0d0887\"],[0.1111111111111111,\"#46039f\"],[0.2222222222222222,\"#7201a8\"],[0.3333333333333333,\"#9c179e\"],[0.4444444444444444,\"#bd3786\"],[0.5555555555555556,\"#d8576b\"],[0.6666666666666666,\"#ed7953\"],[0.7777777777777778,\"#fb9f3a\"],[0.8888888888888888,\"#fdca26\"],[1.0,\"#f0f921\"]],\"sequentialminus\":[[0.0,\"#0d0887\"],[0.1111111111111111,\"#46039f\"],[0.2222222222222222,\"#7201a8\"],[0.3333333333333333,\"#9c179e\"],[0.4444444444444444,\"#bd3786\"],[0.5555555555555556,\"#d8576b\"],[0.6666666666666666,\"#ed7953\"],[0.7777777777777778,\"#fb9f3a\"],[0.8888888888888888,\"#fdca26\"],[1.0,\"#f0f921\"]],\"diverging\":[[0,\"#8e0152\"],[0.1,\"#c51b7d\"],[0.2,\"#de77ae\"],[0.3,\"#f1b6da\"],[0.4,\"#fde0ef\"],[0.5,\"#f7f7f7\"],[0.6,\"#e6f5d0\"],[0.7,\"#b8e186\"],[0.8,\"#7fbc41\"],[0.9,\"#4d9221\"],[1,\"#276419\"]]},\"xaxis\":{\"gridcolor\":\"white\",\"linecolor\":\"white\",\"ticks\":\"\",\"title\":{\"standoff\":15},\"zerolinecolor\":\"white\",\"automargin\":true,\"zerolinewidth\":2},\"yaxis\":{\"gridcolor\":\"white\",\"linecolor\":\"white\",\"ticks\":\"\",\"title\":{\"standoff\":15},\"zerolinecolor\":\"white\",\"automargin\":true,\"zerolinewidth\":2},\"scene\":{\"xaxis\":{\"backgroundcolor\":\"#E5ECF6\",\"gridcolor\":\"white\",\"linecolor\":\"white\",\"showbackground\":true,\"ticks\":\"\",\"zerolinecolor\":\"white\",\"gridwidth\":2},\"yaxis\":{\"backgroundcolor\":\"#E5ECF6\",\"gridcolor\":\"white\",\"linecolor\":\"white\",\"showbackground\":true,\"ticks\":\"\",\"zerolinecolor\":\"white\",\"gridwidth\":2},\"zaxis\":{\"backgroundcolor\":\"#E5ECF6\",\"gridcolor\":\"white\",\"linecolor\":\"white\",\"showbackground\":true,\"ticks\":\"\",\"zerolinecolor\":\"white\",\"gridwidth\":2}},\"shapedefaults\":{\"line\":{\"color\":\"#2a3f5f\"}},\"annotationdefaults\":{\"arrowcolor\":\"#2a3f5f\",\"arrowhead\":0,\"arrowwidth\":1},\"geo\":{\"bgcolor\":\"white\",\"landcolor\":\"#E5ECF6\",\"subunitcolor\":\"white\",\"showland\":true,\"showlakes\":true,\"lakecolor\":\"white\"},\"title\":{\"x\":0.05},\"mapbox\":{\"style\":\"light\"}}},\"xaxis\":{\"anchor\":\"y\",\"domain\":[0.0,1.0],\"title\":{\"text\":\"State\"},\"categoryorder\":\"total descending\"},\"yaxis\":{\"anchor\":\"x\",\"domain\":[0.0,1.0],\"title\":{\"text\":\"Generation MWH Per Year\"}},\"legend\":{\"title\":{\"text\":\"Type of Power Plant\"},\"tracegroupgap\":0},\"margin\":{\"t\":60},\"barmode\":\"relative\",\"title\":{\"text\":\"Generation MWH by State and Type of Power Plant\",\"y\":0.95,\"x\":0.42,\"xanchor\":\"center\",\"yanchor\":\"top\"},\"font\":{\"family\":\"Courier New\",\"size\":12,\"color\":\"Black\"},\"plot_bgcolor\":\"rgb(240,240,240)\"},                        {\"responsive\": true}                    ).then(function(){\n",
       "                            \n",
       "var gd = document.getElementById('1493d6d6-755e-4e33-95e1-94608ce85340');\n",
       "var x = new MutationObserver(function (mutations, observer) {{\n",
       "        var display = window.getComputedStyle(gd).display;\n",
       "        if (!display || display === 'none') {{\n",
       "            console.log([gd, 'removed!']);\n",
       "            Plotly.purge(gd);\n",
       "            observer.disconnect();\n",
       "        }}\n",
       "}});\n",
       "\n",
       "// Listen for the removal of the full notebook cells\n",
       "var notebookContainer = gd.closest('#notebook-container');\n",
       "if (notebookContainer) {{\n",
       "    x.observe(notebookContainer, {childList: true});\n",
       "}}\n",
       "\n",
       "// Listen for the clearing of the current output cell\n",
       "var outputEl = gd.closest('.output');\n",
       "if (outputEl) {{\n",
       "    x.observe(outputEl, {childList: true});\n",
       "}}\n",
       "\n",
       "                        })                };                });            </script>        </div>"
      ]
     },
     "metadata": {},
     "output_type": "display_data"
    }
   ],
   "source": [
    "fig = px.bar(sum_df, x=\"region_name\", \n",
    "             y=\"generation_mwh_per_year\", \n",
    "             color=\"tech_name\",\n",
    "            labels ={\n",
    "                \"tech_name\": \"Type of Power Plant\",\n",
    "                \"y\": \"Amount\", \n",
    "                \"region_name\":\"State\",\n",
    "                \"generation_mwh_per_year\":\"Generation MWH Per Year\"\n",
    "                 },\n",
    "            color_discrete_map={\"biomass_conv_wo_ccs\": \"#9DC3E6\", \n",
    "                                  \"gas_cc_w_ccs\": \"#FFE699\",\n",
    "                                  \"gas_cc_wo_ccs\":\"#AFABAB\",\n",
    "                                  \"oil_ct_wo_ccs\":\"#F4BFDB\",\n",
    "                                 \"solar_csp\":\"#BAE5E2\",\n",
    "                                  \"solar_pv_non_dist\":\"#FF8B7D\",\n",
    "                                  \"wind_onshore\":\"#9BA4D6\",\n",
    "                                 \"biomass_igcc_wo_ccs\":\"#C5E0B4\",\n",
    "                                 \"coal_conv_pul_wo_ccs\":\"#F4B183\",\n",
    "                                 \"nuclear_gen_iii\":\"#AB7BFF\",\n",
    "                                 \"nuclear_gen_ii\":\"#D993D9\"} \n",
    "\n",
    ")\n",
    "fig.update_layout(\n",
    "    title={\n",
    "        'text': \"Generation MWH by State and Type of Power Plant\",\n",
    "        'y':.95,\n",
    "        'x':0.42,\n",
    "        'xanchor': 'center',\n",
    "        'yanchor': 'top'},\n",
    "    font = dict(\n",
    "        family=\"Courier New\",\n",
    "        size=12,\n",
    "        color=\"Black\"\n",
    "    ),\n",
    "    plot_bgcolor='rgb(240,240,240)',\n",
    "    xaxis={'categoryorder':'total descending'}\n",
    "\n",
    "\n",
    ")\n",
    "\n",
    "fig.show()"
   ]
  },
  {
   "cell_type": "code",
   "execution_count": null,
   "id": "f5b736d6",
   "metadata": {},
   "outputs": [],
   "source": []
  },
  {
   "cell_type": "code",
   "execution_count": null,
   "id": "cef8340e",
   "metadata": {},
   "outputs": [],
   "source": []
  },
  {
   "cell_type": "code",
   "execution_count": null,
   "id": "2319b7b8",
   "metadata": {},
   "outputs": [],
   "source": []
  }
 ],
 "metadata": {
  "kernelspec": {
   "display_name": "Python 3 (ipykernel)",
   "language": "python",
   "name": "python3"
  },
  "language_info": {
   "codemirror_mode": {
    "name": "ipython",
    "version": 3
   },
   "file_extension": ".py",
   "mimetype": "text/x-python",
   "name": "python",
   "nbconvert_exporter": "python",
   "pygments_lexer": "ipython3",
   "version": "3.9.12"
  }
 },
 "nbformat": 4,
 "nbformat_minor": 5
}
