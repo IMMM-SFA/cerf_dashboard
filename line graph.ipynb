{
 "cells": [
  {
   "cell_type": "code",
   "execution_count": 38,
   "id": "66fe5d0f",
   "metadata": {},
   "outputs": [],
   "source": [
    "#importing the brand new things!!\n",
    "import cerf\n",
    "import pandas as pd\n",
    "import plotly.express as px\n",
    "import plotly.graph_objects as go"
   ]
  },
  {
   "cell_type": "code",
   "execution_count": 10,
   "id": "61c18330",
   "metadata": {},
   "outputs": [
    {
     "data": {
      "text/html": [
       "<div>\n",
       "<style scoped>\n",
       "    .dataframe tbody tr th:only-of-type {\n",
       "        vertical-align: middle;\n",
       "    }\n",
       "\n",
       "    .dataframe tbody tr th {\n",
       "        vertical-align: top;\n",
       "    }\n",
       "\n",
       "    .dataframe thead th {\n",
       "        text-align: right;\n",
       "    }\n",
       "</style>\n",
       "<table border=\"1\" class=\"dataframe\">\n",
       "  <thead>\n",
       "    <tr style=\"text-align: right;\">\n",
       "      <th></th>\n",
       "      <th>region_name</th>\n",
       "      <th>tech_id</th>\n",
       "      <th>tech_name</th>\n",
       "      <th>unit_size_mw</th>\n",
       "      <th>xcoord</th>\n",
       "      <th>ycoord</th>\n",
       "      <th>index</th>\n",
       "      <th>buffer_in_km</th>\n",
       "      <th>sited_year</th>\n",
       "      <th>retirement_year</th>\n",
       "      <th>...</th>\n",
       "      <th>carbon_capture_rate_fraction</th>\n",
       "      <th>fuel_co2_content_tons_per_btu</th>\n",
       "      <th>fuel_price_usd_per_mmbtu</th>\n",
       "      <th>fuel_price_esc_rate_fraction</th>\n",
       "      <th>heat_rate_btu_per_kWh</th>\n",
       "      <th>lifetime_yrs</th>\n",
       "      <th>variable_om_usd_per_mwh</th>\n",
       "      <th>variable_om_esc_rate_fraction</th>\n",
       "      <th>carbon_tax_usd_per_ton</th>\n",
       "      <th>carbon_tax_esc_rate_fraction</th>\n",
       "    </tr>\n",
       "  </thead>\n",
       "  <tbody>\n",
       "    <tr>\n",
       "      <th>0</th>\n",
       "      <td>alabama</td>\n",
       "      <td>4</td>\n",
       "      <td>coal_conv_pul_wo_ccs</td>\n",
       "      <td>600.0</td>\n",
       "      <td>7.449472e+05</td>\n",
       "      <td>-364565.2005</td>\n",
       "      <td>9267132</td>\n",
       "      <td>5</td>\n",
       "      <td>2010</td>\n",
       "      <td>2070</td>\n",
       "      <td>...</td>\n",
       "      <td>0.0</td>\n",
       "      <td>0.36036</td>\n",
       "      <td>2.39413</td>\n",
       "      <td>0.09122</td>\n",
       "      <td>8594.5</td>\n",
       "      <td>60.0</td>\n",
       "      <td>4.002582</td>\n",
       "      <td>-0.003990</td>\n",
       "      <td>0.0</td>\n",
       "      <td>0.0</td>\n",
       "    </tr>\n",
       "    <tr>\n",
       "      <th>1</th>\n",
       "      <td>alabama</td>\n",
       "      <td>4</td>\n",
       "      <td>coal_conv_pul_wo_ccs</td>\n",
       "      <td>600.0</td>\n",
       "      <td>7.909472e+05</td>\n",
       "      <td>-386565.2005</td>\n",
       "      <td>9370424</td>\n",
       "      <td>5</td>\n",
       "      <td>2010</td>\n",
       "      <td>2070</td>\n",
       "      <td>...</td>\n",
       "      <td>0.0</td>\n",
       "      <td>0.36036</td>\n",
       "      <td>2.39413</td>\n",
       "      <td>0.09122</td>\n",
       "      <td>8594.5</td>\n",
       "      <td>60.0</td>\n",
       "      <td>4.002582</td>\n",
       "      <td>-0.003990</td>\n",
       "      <td>0.0</td>\n",
       "      <td>0.0</td>\n",
       "    </tr>\n",
       "    <tr>\n",
       "      <th>2</th>\n",
       "      <td>alabama</td>\n",
       "      <td>4</td>\n",
       "      <td>coal_conv_pul_wo_ccs</td>\n",
       "      <td>600.0</td>\n",
       "      <td>8.549472e+05</td>\n",
       "      <td>-470565.2005</td>\n",
       "      <td>9764700</td>\n",
       "      <td>5</td>\n",
       "      <td>2010</td>\n",
       "      <td>2070</td>\n",
       "      <td>...</td>\n",
       "      <td>0.0</td>\n",
       "      <td>0.36036</td>\n",
       "      <td>2.39413</td>\n",
       "      <td>0.09122</td>\n",
       "      <td>8594.5</td>\n",
       "      <td>60.0</td>\n",
       "      <td>4.002582</td>\n",
       "      <td>-0.003990</td>\n",
       "      <td>0.0</td>\n",
       "      <td>0.0</td>\n",
       "    </tr>\n",
       "    <tr>\n",
       "      <th>3</th>\n",
       "      <td>alabama</td>\n",
       "      <td>4</td>\n",
       "      <td>coal_conv_pul_wo_ccs</td>\n",
       "      <td>600.0</td>\n",
       "      <td>9.579472e+05</td>\n",
       "      <td>-376565.2005</td>\n",
       "      <td>9323661</td>\n",
       "      <td>5</td>\n",
       "      <td>2010</td>\n",
       "      <td>2070</td>\n",
       "      <td>...</td>\n",
       "      <td>0.0</td>\n",
       "      <td>0.36036</td>\n",
       "      <td>2.39413</td>\n",
       "      <td>0.09122</td>\n",
       "      <td>8594.5</td>\n",
       "      <td>60.0</td>\n",
       "      <td>4.002582</td>\n",
       "      <td>-0.003990</td>\n",
       "      <td>0.0</td>\n",
       "      <td>0.0</td>\n",
       "    </tr>\n",
       "    <tr>\n",
       "      <th>4</th>\n",
       "      <td>alabama</td>\n",
       "      <td>4</td>\n",
       "      <td>coal_conv_pul_wo_ccs</td>\n",
       "      <td>600.0</td>\n",
       "      <td>7.749472e+05</td>\n",
       "      <td>-473565.2005</td>\n",
       "      <td>9778699</td>\n",
       "      <td>5</td>\n",
       "      <td>2010</td>\n",
       "      <td>2070</td>\n",
       "      <td>...</td>\n",
       "      <td>0.0</td>\n",
       "      <td>0.36036</td>\n",
       "      <td>2.39413</td>\n",
       "      <td>0.09122</td>\n",
       "      <td>8594.5</td>\n",
       "      <td>60.0</td>\n",
       "      <td>4.002582</td>\n",
       "      <td>-0.003990</td>\n",
       "      <td>0.0</td>\n",
       "      <td>0.0</td>\n",
       "    </tr>\n",
       "    <tr>\n",
       "      <th>...</th>\n",
       "      <td>...</td>\n",
       "      <td>...</td>\n",
       "      <td>...</td>\n",
       "      <td>...</td>\n",
       "      <td>...</td>\n",
       "      <td>...</td>\n",
       "      <td>...</td>\n",
       "      <td>...</td>\n",
       "      <td>...</td>\n",
       "      <td>...</td>\n",
       "      <td>...</td>\n",
       "      <td>...</td>\n",
       "      <td>...</td>\n",
       "      <td>...</td>\n",
       "      <td>...</td>\n",
       "      <td>...</td>\n",
       "      <td>...</td>\n",
       "      <td>...</td>\n",
       "      <td>...</td>\n",
       "      <td>...</td>\n",
       "      <td>...</td>\n",
       "    </tr>\n",
       "    <tr>\n",
       "      <th>8364</th>\n",
       "      <td>wyoming</td>\n",
       "      <td>18</td>\n",
       "      <td>wind_onshore</td>\n",
       "      <td>251.0</td>\n",
       "      <td>-7.290528e+05</td>\n",
       "      <td>550434.7995</td>\n",
       "      <td>4971563</td>\n",
       "      <td>5</td>\n",
       "      <td>2050</td>\n",
       "      <td>2080</td>\n",
       "      <td>...</td>\n",
       "      <td>0.0</td>\n",
       "      <td>0.00000</td>\n",
       "      <td>0.00000</td>\n",
       "      <td>0.00000</td>\n",
       "      <td>3412.0</td>\n",
       "      <td>30.0</td>\n",
       "      <td>0.000000</td>\n",
       "      <td>-0.002496</td>\n",
       "      <td>0.0</td>\n",
       "      <td>0.0</td>\n",
       "    </tr>\n",
       "    <tr>\n",
       "      <th>8365</th>\n",
       "      <td>wyoming</td>\n",
       "      <td>18</td>\n",
       "      <td>wind_onshore</td>\n",
       "      <td>251.0</td>\n",
       "      <td>-7.220528e+05</td>\n",
       "      <td>501434.7995</td>\n",
       "      <td>5201527</td>\n",
       "      <td>5</td>\n",
       "      <td>2050</td>\n",
       "      <td>2080</td>\n",
       "      <td>...</td>\n",
       "      <td>0.0</td>\n",
       "      <td>0.00000</td>\n",
       "      <td>0.00000</td>\n",
       "      <td>0.00000</td>\n",
       "      <td>3412.0</td>\n",
       "      <td>30.0</td>\n",
       "      <td>0.000000</td>\n",
       "      <td>-0.002496</td>\n",
       "      <td>0.0</td>\n",
       "      <td>0.0</td>\n",
       "    </tr>\n",
       "    <tr>\n",
       "      <th>8366</th>\n",
       "      <td>wyoming</td>\n",
       "      <td>18</td>\n",
       "      <td>wind_onshore</td>\n",
       "      <td>251.0</td>\n",
       "      <td>-8.190528e+05</td>\n",
       "      <td>479434.7995</td>\n",
       "      <td>5304676</td>\n",
       "      <td>5</td>\n",
       "      <td>2050</td>\n",
       "      <td>2080</td>\n",
       "      <td>...</td>\n",
       "      <td>0.0</td>\n",
       "      <td>0.00000</td>\n",
       "      <td>0.00000</td>\n",
       "      <td>0.00000</td>\n",
       "      <td>3412.0</td>\n",
       "      <td>30.0</td>\n",
       "      <td>0.000000</td>\n",
       "      <td>-0.002496</td>\n",
       "      <td>0.0</td>\n",
       "      <td>0.0</td>\n",
       "    </tr>\n",
       "    <tr>\n",
       "      <th>8367</th>\n",
       "      <td>wyoming</td>\n",
       "      <td>18</td>\n",
       "      <td>wind_onshore</td>\n",
       "      <td>251.0</td>\n",
       "      <td>-8.930528e+05</td>\n",
       "      <td>572434.7995</td>\n",
       "      <td>4868153</td>\n",
       "      <td>5</td>\n",
       "      <td>2050</td>\n",
       "      <td>2080</td>\n",
       "      <td>...</td>\n",
       "      <td>0.0</td>\n",
       "      <td>0.00000</td>\n",
       "      <td>0.00000</td>\n",
       "      <td>0.00000</td>\n",
       "      <td>3412.0</td>\n",
       "      <td>30.0</td>\n",
       "      <td>0.000000</td>\n",
       "      <td>-0.002496</td>\n",
       "      <td>0.0</td>\n",
       "      <td>0.0</td>\n",
       "    </tr>\n",
       "    <tr>\n",
       "      <th>8368</th>\n",
       "      <td>wyoming</td>\n",
       "      <td>18</td>\n",
       "      <td>wind_onshore</td>\n",
       "      <td>251.0</td>\n",
       "      <td>-1.223053e+06</td>\n",
       "      <td>538434.7995</td>\n",
       "      <td>5027385</td>\n",
       "      <td>5</td>\n",
       "      <td>2050</td>\n",
       "      <td>2080</td>\n",
       "      <td>...</td>\n",
       "      <td>0.0</td>\n",
       "      <td>0.00000</td>\n",
       "      <td>0.00000</td>\n",
       "      <td>0.00000</td>\n",
       "      <td>3412.0</td>\n",
       "      <td>30.0</td>\n",
       "      <td>0.000000</td>\n",
       "      <td>-0.002496</td>\n",
       "      <td>0.0</td>\n",
       "      <td>0.0</td>\n",
       "    </tr>\n",
       "  </tbody>\n",
       "</table>\n",
       "<p>8369 rows × 28 columns</p>\n",
       "</div>"
      ],
      "text/plain": [
       "     region_name  tech_id             tech_name  unit_size_mw        xcoord  \\\n",
       "0        alabama        4  coal_conv_pul_wo_ccs         600.0  7.449472e+05   \n",
       "1        alabama        4  coal_conv_pul_wo_ccs         600.0  7.909472e+05   \n",
       "2        alabama        4  coal_conv_pul_wo_ccs         600.0  8.549472e+05   \n",
       "3        alabama        4  coal_conv_pul_wo_ccs         600.0  9.579472e+05   \n",
       "4        alabama        4  coal_conv_pul_wo_ccs         600.0  7.749472e+05   \n",
       "...          ...      ...                   ...           ...           ...   \n",
       "8364     wyoming       18          wind_onshore         251.0 -7.290528e+05   \n",
       "8365     wyoming       18          wind_onshore         251.0 -7.220528e+05   \n",
       "8366     wyoming       18          wind_onshore         251.0 -8.190528e+05   \n",
       "8367     wyoming       18          wind_onshore         251.0 -8.930528e+05   \n",
       "8368     wyoming       18          wind_onshore         251.0 -1.223053e+06   \n",
       "\n",
       "           ycoord    index  buffer_in_km  sited_year  retirement_year  ...  \\\n",
       "0    -364565.2005  9267132             5        2010             2070  ...   \n",
       "1    -386565.2005  9370424             5        2010             2070  ...   \n",
       "2    -470565.2005  9764700             5        2010             2070  ...   \n",
       "3    -376565.2005  9323661             5        2010             2070  ...   \n",
       "4    -473565.2005  9778699             5        2010             2070  ...   \n",
       "...           ...      ...           ...         ...              ...  ...   \n",
       "8364  550434.7995  4971563             5        2050             2080  ...   \n",
       "8365  501434.7995  5201527             5        2050             2080  ...   \n",
       "8366  479434.7995  5304676             5        2050             2080  ...   \n",
       "8367  572434.7995  4868153             5        2050             2080  ...   \n",
       "8368  538434.7995  5027385             5        2050             2080  ...   \n",
       "\n",
       "      carbon_capture_rate_fraction  fuel_co2_content_tons_per_btu  \\\n",
       "0                              0.0                        0.36036   \n",
       "1                              0.0                        0.36036   \n",
       "2                              0.0                        0.36036   \n",
       "3                              0.0                        0.36036   \n",
       "4                              0.0                        0.36036   \n",
       "...                            ...                            ...   \n",
       "8364                           0.0                        0.00000   \n",
       "8365                           0.0                        0.00000   \n",
       "8366                           0.0                        0.00000   \n",
       "8367                           0.0                        0.00000   \n",
       "8368                           0.0                        0.00000   \n",
       "\n",
       "      fuel_price_usd_per_mmbtu  fuel_price_esc_rate_fraction  \\\n",
       "0                      2.39413                       0.09122   \n",
       "1                      2.39413                       0.09122   \n",
       "2                      2.39413                       0.09122   \n",
       "3                      2.39413                       0.09122   \n",
       "4                      2.39413                       0.09122   \n",
       "...                        ...                           ...   \n",
       "8364                   0.00000                       0.00000   \n",
       "8365                   0.00000                       0.00000   \n",
       "8366                   0.00000                       0.00000   \n",
       "8367                   0.00000                       0.00000   \n",
       "8368                   0.00000                       0.00000   \n",
       "\n",
       "      heat_rate_btu_per_kWh  lifetime_yrs  variable_om_usd_per_mwh  \\\n",
       "0                    8594.5          60.0                 4.002582   \n",
       "1                    8594.5          60.0                 4.002582   \n",
       "2                    8594.5          60.0                 4.002582   \n",
       "3                    8594.5          60.0                 4.002582   \n",
       "4                    8594.5          60.0                 4.002582   \n",
       "...                     ...           ...                      ...   \n",
       "8364                 3412.0          30.0                 0.000000   \n",
       "8365                 3412.0          30.0                 0.000000   \n",
       "8366                 3412.0          30.0                 0.000000   \n",
       "8367                 3412.0          30.0                 0.000000   \n",
       "8368                 3412.0          30.0                 0.000000   \n",
       "\n",
       "      variable_om_esc_rate_fraction  carbon_tax_usd_per_ton  \\\n",
       "0                         -0.003990                     0.0   \n",
       "1                         -0.003990                     0.0   \n",
       "2                         -0.003990                     0.0   \n",
       "3                         -0.003990                     0.0   \n",
       "4                         -0.003990                     0.0   \n",
       "...                             ...                     ...   \n",
       "8364                      -0.002496                     0.0   \n",
       "8365                      -0.002496                     0.0   \n",
       "8366                      -0.002496                     0.0   \n",
       "8367                      -0.002496                     0.0   \n",
       "8368                      -0.002496                     0.0   \n",
       "\n",
       "      carbon_tax_esc_rate_fraction  \n",
       "0                              0.0  \n",
       "1                              0.0  \n",
       "2                              0.0  \n",
       "3                              0.0  \n",
       "4                              0.0  \n",
       "...                            ...  \n",
       "8364                           0.0  \n",
       "8365                           0.0  \n",
       "8366                           0.0  \n",
       "8367                           0.0  \n",
       "8368                           0.0  \n",
       "\n",
       "[8369 rows x 28 columns]"
      ]
     },
     "execution_count": 10,
     "metadata": {},
     "output_type": "execute_result"
    }
   ],
   "source": [
    "df = pd.read_csv('example_cerf_output.csv')\n",
    "df"
   ]
  },
  {
   "cell_type": "code",
   "execution_count": 3,
   "id": "62b5d167",
   "metadata": {},
   "outputs": [
    {
     "name": "stdout",
     "output_type": "stream",
     "text": [
      "<class 'pandas.core.frame.DataFrame'>\n",
      "RangeIndex: 8369 entries, 0 to 8368\n",
      "Data columns (total 28 columns):\n",
      " #   Column                                 Non-Null Count  Dtype  \n",
      "---  ------                                 --------------  -----  \n",
      " 0   region_name                            8369 non-null   object \n",
      " 1   tech_id                                8369 non-null   int64  \n",
      " 2   tech_name                              8369 non-null   object \n",
      " 3   unit_size_mw                           8369 non-null   float64\n",
      " 4   xcoord                                 8369 non-null   float64\n",
      " 5   ycoord                                 8369 non-null   float64\n",
      " 6   index                                  8369 non-null   int64  \n",
      " 7   buffer_in_km                           8369 non-null   int64  \n",
      " 8   sited_year                             8369 non-null   int64  \n",
      " 9   retirement_year                        8369 non-null   int64  \n",
      " 10  lmp_zone                               8369 non-null   int64  \n",
      " 11  locational_marginal_price_usd_per_mwh  8367 non-null   float64\n",
      " 12  generation_mwh_per_year                8369 non-null   float64\n",
      " 13  operating_cost_usd_per_year            8367 non-null   float64\n",
      " 14  net_operational_value_usd_per_year     8367 non-null   float64\n",
      " 15  interconnection_cost_usd_per_year      8369 non-null   float64\n",
      " 16  net_locational_cost_usd_per_year       8369 non-null   float64\n",
      " 17  capacity_factor_fraction               8369 non-null   float64\n",
      " 18  carbon_capture_rate_fraction           8369 non-null   float64\n",
      " 19  fuel_co2_content_tons_per_btu          8369 non-null   float64\n",
      " 20  fuel_price_usd_per_mmbtu               8369 non-null   float64\n",
      " 21  fuel_price_esc_rate_fraction           8369 non-null   float64\n",
      " 22  heat_rate_btu_per_kWh                  8369 non-null   float64\n",
      " 23  lifetime_yrs                           8369 non-null   float64\n",
      " 24  variable_om_usd_per_mwh                8369 non-null   float64\n",
      " 25  variable_om_esc_rate_fraction          8369 non-null   float64\n",
      " 26  carbon_tax_usd_per_ton                 8369 non-null   float64\n",
      " 27  carbon_tax_esc_rate_fraction           8369 non-null   float64\n",
      "dtypes: float64(20), int64(6), object(2)\n",
      "memory usage: 1.8+ MB\n",
      "None\n"
     ]
    }
   ],
   "source": [
    "#print the titles/info\n",
    "print(df.info())"
   ]
  },
  {
   "cell_type": "code",
   "execution_count": 13,
   "id": "96c4f09e",
   "metadata": {},
   "outputs": [
    {
     "data": {
      "text/html": [
       "<div>\n",
       "<style scoped>\n",
       "    .dataframe tbody tr th:only-of-type {\n",
       "        vertical-align: middle;\n",
       "    }\n",
       "\n",
       "    .dataframe tbody tr th {\n",
       "        vertical-align: top;\n",
       "    }\n",
       "\n",
       "    .dataframe thead th {\n",
       "        text-align: right;\n",
       "    }\n",
       "</style>\n",
       "<table border=\"1\" class=\"dataframe\">\n",
       "  <thead>\n",
       "    <tr style=\"text-align: right;\">\n",
       "      <th></th>\n",
       "      <th>region_name</th>\n",
       "      <th>tech_id</th>\n",
       "      <th>tech_name</th>\n",
       "      <th>unit_size_mw</th>\n",
       "      <th>xcoord</th>\n",
       "      <th>ycoord</th>\n",
       "      <th>index</th>\n",
       "      <th>buffer_in_km</th>\n",
       "      <th>sited_year</th>\n",
       "      <th>retirement_year</th>\n",
       "      <th>...</th>\n",
       "      <th>carbon_capture_rate_fraction</th>\n",
       "      <th>fuel_co2_content_tons_per_btu</th>\n",
       "      <th>fuel_price_usd_per_mmbtu</th>\n",
       "      <th>fuel_price_esc_rate_fraction</th>\n",
       "      <th>heat_rate_btu_per_kWh</th>\n",
       "      <th>lifetime_yrs</th>\n",
       "      <th>variable_om_usd_per_mwh</th>\n",
       "      <th>variable_om_esc_rate_fraction</th>\n",
       "      <th>carbon_tax_usd_per_ton</th>\n",
       "      <th>carbon_tax_esc_rate_fraction</th>\n",
       "    </tr>\n",
       "  </thead>\n",
       "  <tbody>\n",
       "    <tr>\n",
       "      <th>1553</th>\n",
       "      <td>alabama</td>\n",
       "      <td>4</td>\n",
       "      <td>coal_conv_pul_wo_ccs</td>\n",
       "      <td>600.0</td>\n",
       "      <td>8.569472e+05</td>\n",
       "      <td>-638565.2005</td>\n",
       "      <td>10553126</td>\n",
       "      <td>5</td>\n",
       "      <td>2030</td>\n",
       "      <td>2090</td>\n",
       "      <td>...</td>\n",
       "      <td>0.0</td>\n",
       "      <td>0.36036</td>\n",
       "      <td>2.45646</td>\n",
       "      <td>0.00804</td>\n",
       "      <td>7861.8</td>\n",
       "      <td>60.0</td>\n",
       "      <td>3.873467</td>\n",
       "      <td>-0.003990</td>\n",
       "      <td>0.0</td>\n",
       "      <td>0.0</td>\n",
       "    </tr>\n",
       "    <tr>\n",
       "      <th>1554</th>\n",
       "      <td>alabama</td>\n",
       "      <td>4</td>\n",
       "      <td>coal_conv_pul_wo_ccs</td>\n",
       "      <td>600.0</td>\n",
       "      <td>8.159472e+05</td>\n",
       "      <td>-360565.2005</td>\n",
       "      <td>9248431</td>\n",
       "      <td>5</td>\n",
       "      <td>2030</td>\n",
       "      <td>2090</td>\n",
       "      <td>...</td>\n",
       "      <td>0.0</td>\n",
       "      <td>0.36036</td>\n",
       "      <td>2.45646</td>\n",
       "      <td>0.00804</td>\n",
       "      <td>7861.8</td>\n",
       "      <td>60.0</td>\n",
       "      <td>3.873467</td>\n",
       "      <td>-0.003990</td>\n",
       "      <td>0.0</td>\n",
       "      <td>0.0</td>\n",
       "    </tr>\n",
       "    <tr>\n",
       "      <th>1555</th>\n",
       "      <td>alabama</td>\n",
       "      <td>4</td>\n",
       "      <td>coal_conv_pul_wo_ccs</td>\n",
       "      <td>600.0</td>\n",
       "      <td>9.789472e+05</td>\n",
       "      <td>-492565.2005</td>\n",
       "      <td>9868070</td>\n",
       "      <td>5</td>\n",
       "      <td>2030</td>\n",
       "      <td>2090</td>\n",
       "      <td>...</td>\n",
       "      <td>0.0</td>\n",
       "      <td>0.36036</td>\n",
       "      <td>2.45646</td>\n",
       "      <td>0.00804</td>\n",
       "      <td>7861.8</td>\n",
       "      <td>60.0</td>\n",
       "      <td>3.873467</td>\n",
       "      <td>-0.003990</td>\n",
       "      <td>0.0</td>\n",
       "      <td>0.0</td>\n",
       "    </tr>\n",
       "    <tr>\n",
       "      <th>1556</th>\n",
       "      <td>alabama</td>\n",
       "      <td>4</td>\n",
       "      <td>coal_conv_pul_wo_ccs</td>\n",
       "      <td>600.0</td>\n",
       "      <td>8.479472e+05</td>\n",
       "      <td>-674565.2005</td>\n",
       "      <td>10722065</td>\n",
       "      <td>5</td>\n",
       "      <td>2030</td>\n",
       "      <td>2090</td>\n",
       "      <td>...</td>\n",
       "      <td>0.0</td>\n",
       "      <td>0.36036</td>\n",
       "      <td>2.45646</td>\n",
       "      <td>0.00804</td>\n",
       "      <td>7861.8</td>\n",
       "      <td>60.0</td>\n",
       "      <td>3.873467</td>\n",
       "      <td>-0.003990</td>\n",
       "      <td>0.0</td>\n",
       "      <td>0.0</td>\n",
       "    </tr>\n",
       "    <tr>\n",
       "      <th>1557</th>\n",
       "      <td>alabama</td>\n",
       "      <td>4</td>\n",
       "      <td>coal_conv_pul_wo_ccs</td>\n",
       "      <td>600.0</td>\n",
       "      <td>7.929472e+05</td>\n",
       "      <td>-462565.2005</td>\n",
       "      <td>9727094</td>\n",
       "      <td>5</td>\n",
       "      <td>2030</td>\n",
       "      <td>2090</td>\n",
       "      <td>...</td>\n",
       "      <td>0.0</td>\n",
       "      <td>0.36036</td>\n",
       "      <td>2.45646</td>\n",
       "      <td>0.00804</td>\n",
       "      <td>7861.8</td>\n",
       "      <td>60.0</td>\n",
       "      <td>3.873467</td>\n",
       "      <td>-0.003990</td>\n",
       "      <td>0.0</td>\n",
       "      <td>0.0</td>\n",
       "    </tr>\n",
       "    <tr>\n",
       "      <th>...</th>\n",
       "      <td>...</td>\n",
       "      <td>...</td>\n",
       "      <td>...</td>\n",
       "      <td>...</td>\n",
       "      <td>...</td>\n",
       "      <td>...</td>\n",
       "      <td>...</td>\n",
       "      <td>...</td>\n",
       "      <td>...</td>\n",
       "      <td>...</td>\n",
       "      <td>...</td>\n",
       "      <td>...</td>\n",
       "      <td>...</td>\n",
       "      <td>...</td>\n",
       "      <td>...</td>\n",
       "      <td>...</td>\n",
       "      <td>...</td>\n",
       "      <td>...</td>\n",
       "      <td>...</td>\n",
       "      <td>...</td>\n",
       "      <td>...</td>\n",
       "    </tr>\n",
       "    <tr>\n",
       "      <th>3911</th>\n",
       "      <td>wyoming</td>\n",
       "      <td>17</td>\n",
       "      <td>solar_pv_non_dist</td>\n",
       "      <td>80.0</td>\n",
       "      <td>-1.123053e+06</td>\n",
       "      <td>662434.7995</td>\n",
       "      <td>4445553</td>\n",
       "      <td>5</td>\n",
       "      <td>2030</td>\n",
       "      <td>2060</td>\n",
       "      <td>...</td>\n",
       "      <td>0.0</td>\n",
       "      <td>0.00000</td>\n",
       "      <td>0.00000</td>\n",
       "      <td>0.00000</td>\n",
       "      <td>3412.0</td>\n",
       "      <td>30.0</td>\n",
       "      <td>0.000000</td>\n",
       "      <td>1.000000</td>\n",
       "      <td>0.0</td>\n",
       "      <td>0.0</td>\n",
       "    </tr>\n",
       "    <tr>\n",
       "      <th>3912</th>\n",
       "      <td>wyoming</td>\n",
       "      <td>18</td>\n",
       "      <td>wind_onshore</td>\n",
       "      <td>251.0</td>\n",
       "      <td>-7.150528e+05</td>\n",
       "      <td>568434.7995</td>\n",
       "      <td>4887103</td>\n",
       "      <td>5</td>\n",
       "      <td>2030</td>\n",
       "      <td>2060</td>\n",
       "      <td>...</td>\n",
       "      <td>0.0</td>\n",
       "      <td>0.00000</td>\n",
       "      <td>0.00000</td>\n",
       "      <td>0.00000</td>\n",
       "      <td>3412.0</td>\n",
       "      <td>30.0</td>\n",
       "      <td>0.000000</td>\n",
       "      <td>-0.002496</td>\n",
       "      <td>0.0</td>\n",
       "      <td>0.0</td>\n",
       "    </tr>\n",
       "    <tr>\n",
       "      <th>3913</th>\n",
       "      <td>wyoming</td>\n",
       "      <td>18</td>\n",
       "      <td>wind_onshore</td>\n",
       "      <td>251.0</td>\n",
       "      <td>-7.540528e+05</td>\n",
       "      <td>818434.7995</td>\n",
       "      <td>3713814</td>\n",
       "      <td>5</td>\n",
       "      <td>2030</td>\n",
       "      <td>2060</td>\n",
       "      <td>...</td>\n",
       "      <td>0.0</td>\n",
       "      <td>0.00000</td>\n",
       "      <td>0.00000</td>\n",
       "      <td>0.00000</td>\n",
       "      <td>3412.0</td>\n",
       "      <td>30.0</td>\n",
       "      <td>0.000000</td>\n",
       "      <td>-0.002496</td>\n",
       "      <td>0.0</td>\n",
       "      <td>0.0</td>\n",
       "    </tr>\n",
       "    <tr>\n",
       "      <th>3914</th>\n",
       "      <td>wyoming</td>\n",
       "      <td>18</td>\n",
       "      <td>wind_onshore</td>\n",
       "      <td>251.0</td>\n",
       "      <td>-1.240053e+06</td>\n",
       "      <td>523434.7995</td>\n",
       "      <td>5097763</td>\n",
       "      <td>5</td>\n",
       "      <td>2030</td>\n",
       "      <td>2060</td>\n",
       "      <td>...</td>\n",
       "      <td>0.0</td>\n",
       "      <td>0.00000</td>\n",
       "      <td>0.00000</td>\n",
       "      <td>0.00000</td>\n",
       "      <td>3412.0</td>\n",
       "      <td>30.0</td>\n",
       "      <td>0.000000</td>\n",
       "      <td>-0.002496</td>\n",
       "      <td>0.0</td>\n",
       "      <td>0.0</td>\n",
       "    </tr>\n",
       "    <tr>\n",
       "      <th>3915</th>\n",
       "      <td>wyoming</td>\n",
       "      <td>18</td>\n",
       "      <td>wind_onshore</td>\n",
       "      <td>251.0</td>\n",
       "      <td>-1.196053e+06</td>\n",
       "      <td>572434.7995</td>\n",
       "      <td>4867850</td>\n",
       "      <td>5</td>\n",
       "      <td>2030</td>\n",
       "      <td>2060</td>\n",
       "      <td>...</td>\n",
       "      <td>0.0</td>\n",
       "      <td>0.00000</td>\n",
       "      <td>0.00000</td>\n",
       "      <td>0.00000</td>\n",
       "      <td>3412.0</td>\n",
       "      <td>30.0</td>\n",
       "      <td>0.000000</td>\n",
       "      <td>-0.002496</td>\n",
       "      <td>0.0</td>\n",
       "      <td>0.0</td>\n",
       "    </tr>\n",
       "  </tbody>\n",
       "</table>\n",
       "<p>2363 rows × 28 columns</p>\n",
       "</div>"
      ],
      "text/plain": [
       "     region_name  tech_id             tech_name  unit_size_mw        xcoord  \\\n",
       "1553     alabama        4  coal_conv_pul_wo_ccs         600.0  8.569472e+05   \n",
       "1554     alabama        4  coal_conv_pul_wo_ccs         600.0  8.159472e+05   \n",
       "1555     alabama        4  coal_conv_pul_wo_ccs         600.0  9.789472e+05   \n",
       "1556     alabama        4  coal_conv_pul_wo_ccs         600.0  8.479472e+05   \n",
       "1557     alabama        4  coal_conv_pul_wo_ccs         600.0  7.929472e+05   \n",
       "...          ...      ...                   ...           ...           ...   \n",
       "3911     wyoming       17     solar_pv_non_dist          80.0 -1.123053e+06   \n",
       "3912     wyoming       18          wind_onshore         251.0 -7.150528e+05   \n",
       "3913     wyoming       18          wind_onshore         251.0 -7.540528e+05   \n",
       "3914     wyoming       18          wind_onshore         251.0 -1.240053e+06   \n",
       "3915     wyoming       18          wind_onshore         251.0 -1.196053e+06   \n",
       "\n",
       "           ycoord     index  buffer_in_km  sited_year  retirement_year  ...  \\\n",
       "1553 -638565.2005  10553126             5        2030             2090  ...   \n",
       "1554 -360565.2005   9248431             5        2030             2090  ...   \n",
       "1555 -492565.2005   9868070             5        2030             2090  ...   \n",
       "1556 -674565.2005  10722065             5        2030             2090  ...   \n",
       "1557 -462565.2005   9727094             5        2030             2090  ...   \n",
       "...           ...       ...           ...         ...              ...  ...   \n",
       "3911  662434.7995   4445553             5        2030             2060  ...   \n",
       "3912  568434.7995   4887103             5        2030             2060  ...   \n",
       "3913  818434.7995   3713814             5        2030             2060  ...   \n",
       "3914  523434.7995   5097763             5        2030             2060  ...   \n",
       "3915  572434.7995   4867850             5        2030             2060  ...   \n",
       "\n",
       "      carbon_capture_rate_fraction  fuel_co2_content_tons_per_btu  \\\n",
       "1553                           0.0                        0.36036   \n",
       "1554                           0.0                        0.36036   \n",
       "1555                           0.0                        0.36036   \n",
       "1556                           0.0                        0.36036   \n",
       "1557                           0.0                        0.36036   \n",
       "...                            ...                            ...   \n",
       "3911                           0.0                        0.00000   \n",
       "3912                           0.0                        0.00000   \n",
       "3913                           0.0                        0.00000   \n",
       "3914                           0.0                        0.00000   \n",
       "3915                           0.0                        0.00000   \n",
       "\n",
       "      fuel_price_usd_per_mmbtu  fuel_price_esc_rate_fraction  \\\n",
       "1553                   2.45646                       0.00804   \n",
       "1554                   2.45646                       0.00804   \n",
       "1555                   2.45646                       0.00804   \n",
       "1556                   2.45646                       0.00804   \n",
       "1557                   2.45646                       0.00804   \n",
       "...                        ...                           ...   \n",
       "3911                   0.00000                       0.00000   \n",
       "3912                   0.00000                       0.00000   \n",
       "3913                   0.00000                       0.00000   \n",
       "3914                   0.00000                       0.00000   \n",
       "3915                   0.00000                       0.00000   \n",
       "\n",
       "      heat_rate_btu_per_kWh  lifetime_yrs  variable_om_usd_per_mwh  \\\n",
       "1553                 7861.8          60.0                 3.873467   \n",
       "1554                 7861.8          60.0                 3.873467   \n",
       "1555                 7861.8          60.0                 3.873467   \n",
       "1556                 7861.8          60.0                 3.873467   \n",
       "1557                 7861.8          60.0                 3.873467   \n",
       "...                     ...           ...                      ...   \n",
       "3911                 3412.0          30.0                 0.000000   \n",
       "3912                 3412.0          30.0                 0.000000   \n",
       "3913                 3412.0          30.0                 0.000000   \n",
       "3914                 3412.0          30.0                 0.000000   \n",
       "3915                 3412.0          30.0                 0.000000   \n",
       "\n",
       "      variable_om_esc_rate_fraction  carbon_tax_usd_per_ton  \\\n",
       "1553                      -0.003990                     0.0   \n",
       "1554                      -0.003990                     0.0   \n",
       "1555                      -0.003990                     0.0   \n",
       "1556                      -0.003990                     0.0   \n",
       "1557                      -0.003990                     0.0   \n",
       "...                             ...                     ...   \n",
       "3911                       1.000000                     0.0   \n",
       "3912                      -0.002496                     0.0   \n",
       "3913                      -0.002496                     0.0   \n",
       "3914                      -0.002496                     0.0   \n",
       "3915                      -0.002496                     0.0   \n",
       "\n",
       "      carbon_tax_esc_rate_fraction  \n",
       "1553                           0.0  \n",
       "1554                           0.0  \n",
       "1555                           0.0  \n",
       "1556                           0.0  \n",
       "1557                           0.0  \n",
       "...                            ...  \n",
       "3911                           0.0  \n",
       "3912                           0.0  \n",
       "3913                           0.0  \n",
       "3914                           0.0  \n",
       "3915                           0.0  \n",
       "\n",
       "[2363 rows x 28 columns]"
      ]
     },
     "execution_count": 13,
     "metadata": {},
     "output_type": "execute_result"
    }
   ],
   "source": [
    "new_df = df.loc[(df[\"sited_year\"] == 2030)].copy()\n",
    "new_df"
   ]
  },
  {
   "cell_type": "code",
   "execution_count": null,
   "id": "c4d6e755",
   "metadata": {},
   "outputs": [],
   "source": []
  },
  {
   "cell_type": "code",
   "execution_count": 126,
   "id": "a02821ba",
   "metadata": {},
   "outputs": [
    {
     "data": {
      "text/html": [
       "<div>\n",
       "<style scoped>\n",
       "    .dataframe tbody tr th:only-of-type {\n",
       "        vertical-align: middle;\n",
       "    }\n",
       "\n",
       "    .dataframe tbody tr th {\n",
       "        vertical-align: top;\n",
       "    }\n",
       "\n",
       "    .dataframe thead th {\n",
       "        text-align: right;\n",
       "    }\n",
       "</style>\n",
       "<table border=\"1\" class=\"dataframe\">\n",
       "  <thead>\n",
       "    <tr style=\"text-align: right;\">\n",
       "      <th></th>\n",
       "      <th>sited_year</th>\n",
       "      <th>tech_name</th>\n",
       "      <th>locational_marginal_price_usd_per_mwh</th>\n",
       "    </tr>\n",
       "  </thead>\n",
       "  <tbody>\n",
       "    <tr>\n",
       "      <th>0</th>\n",
       "      <td>2010</td>\n",
       "      <td>biomass_conv_wo_ccs</td>\n",
       "      <td>125.517660</td>\n",
       "    </tr>\n",
       "    <tr>\n",
       "      <th>1</th>\n",
       "      <td>2010</td>\n",
       "      <td>coal_conv_pul_wo_ccs</td>\n",
       "      <td>150.770812</td>\n",
       "    </tr>\n",
       "    <tr>\n",
       "      <th>2</th>\n",
       "      <td>2010</td>\n",
       "      <td>gas_cc_w_ccs</td>\n",
       "      <td>296.276561</td>\n",
       "    </tr>\n",
       "    <tr>\n",
       "      <th>3</th>\n",
       "      <td>2010</td>\n",
       "      <td>gas_cc_wo_ccs</td>\n",
       "      <td>337.532839</td>\n",
       "    </tr>\n",
       "    <tr>\n",
       "      <th>4</th>\n",
       "      <td>2010</td>\n",
       "      <td>nuclear_gen_ii</td>\n",
       "      <td>175.766764</td>\n",
       "    </tr>\n",
       "    <tr>\n",
       "      <th>5</th>\n",
       "      <td>2010</td>\n",
       "      <td>oil_ct_wo_ccs</td>\n",
       "      <td>455.570094</td>\n",
       "    </tr>\n",
       "    <tr>\n",
       "      <th>6</th>\n",
       "      <td>2030</td>\n",
       "      <td>biomass_conv_wo_ccs</td>\n",
       "      <td>126.438392</td>\n",
       "    </tr>\n",
       "    <tr>\n",
       "      <th>7</th>\n",
       "      <td>2030</td>\n",
       "      <td>coal_conv_pul_wo_ccs</td>\n",
       "      <td>148.411168</td>\n",
       "    </tr>\n",
       "    <tr>\n",
       "      <th>8</th>\n",
       "      <td>2030</td>\n",
       "      <td>gas_cc_w_ccs</td>\n",
       "      <td>160.922905</td>\n",
       "    </tr>\n",
       "    <tr>\n",
       "      <th>9</th>\n",
       "      <td>2030</td>\n",
       "      <td>gas_cc_wo_ccs</td>\n",
       "      <td>281.272706</td>\n",
       "    </tr>\n",
       "    <tr>\n",
       "      <th>10</th>\n",
       "      <td>2030</td>\n",
       "      <td>nuclear_gen_ii</td>\n",
       "      <td>174.511493</td>\n",
       "    </tr>\n",
       "    <tr>\n",
       "      <th>11</th>\n",
       "      <td>2030</td>\n",
       "      <td>oil_ct_wo_ccs</td>\n",
       "      <td>456.917968</td>\n",
       "    </tr>\n",
       "    <tr>\n",
       "      <th>12</th>\n",
       "      <td>2030</td>\n",
       "      <td>solar_csp</td>\n",
       "      <td>285.588214</td>\n",
       "    </tr>\n",
       "    <tr>\n",
       "      <th>13</th>\n",
       "      <td>2030</td>\n",
       "      <td>solar_pv_non_dist</td>\n",
       "      <td>366.955984</td>\n",
       "    </tr>\n",
       "    <tr>\n",
       "      <th>14</th>\n",
       "      <td>2030</td>\n",
       "      <td>wind_onshore</td>\n",
       "      <td>285.329780</td>\n",
       "    </tr>\n",
       "    <tr>\n",
       "      <th>15</th>\n",
       "      <td>2050</td>\n",
       "      <td>biomass_conv_wo_ccs</td>\n",
       "      <td>137.502465</td>\n",
       "    </tr>\n",
       "    <tr>\n",
       "      <th>16</th>\n",
       "      <td>2050</td>\n",
       "      <td>biomass_igcc_wo_ccs</td>\n",
       "      <td>137.933835</td>\n",
       "    </tr>\n",
       "    <tr>\n",
       "      <th>17</th>\n",
       "      <td>2050</td>\n",
       "      <td>coal_conv_pul_wo_ccs</td>\n",
       "      <td>148.584489</td>\n",
       "    </tr>\n",
       "    <tr>\n",
       "      <th>18</th>\n",
       "      <td>2050</td>\n",
       "      <td>gas_cc_w_ccs</td>\n",
       "      <td>156.314769</td>\n",
       "    </tr>\n",
       "    <tr>\n",
       "      <th>19</th>\n",
       "      <td>2050</td>\n",
       "      <td>gas_cc_wo_ccs</td>\n",
       "      <td>137.159077</td>\n",
       "    </tr>\n",
       "    <tr>\n",
       "      <th>20</th>\n",
       "      <td>2050</td>\n",
       "      <td>nuclear_gen_iii</td>\n",
       "      <td>177.544332</td>\n",
       "    </tr>\n",
       "    <tr>\n",
       "      <th>21</th>\n",
       "      <td>2050</td>\n",
       "      <td>oil_ct_wo_ccs</td>\n",
       "      <td>461.450500</td>\n",
       "    </tr>\n",
       "    <tr>\n",
       "      <th>22</th>\n",
       "      <td>2050</td>\n",
       "      <td>solar_csp</td>\n",
       "      <td>277.666579</td>\n",
       "    </tr>\n",
       "    <tr>\n",
       "      <th>23</th>\n",
       "      <td>2050</td>\n",
       "      <td>solar_pv_non_dist</td>\n",
       "      <td>362.931729</td>\n",
       "    </tr>\n",
       "    <tr>\n",
       "      <th>24</th>\n",
       "      <td>2050</td>\n",
       "      <td>wind_onshore</td>\n",
       "      <td>284.810360</td>\n",
       "    </tr>\n",
       "  </tbody>\n",
       "</table>\n",
       "</div>"
      ],
      "text/plain": [
       "    sited_year             tech_name  locational_marginal_price_usd_per_mwh\n",
       "0         2010   biomass_conv_wo_ccs                             125.517660\n",
       "1         2010  coal_conv_pul_wo_ccs                             150.770812\n",
       "2         2010          gas_cc_w_ccs                             296.276561\n",
       "3         2010         gas_cc_wo_ccs                             337.532839\n",
       "4         2010        nuclear_gen_ii                             175.766764\n",
       "5         2010         oil_ct_wo_ccs                             455.570094\n",
       "6         2030   biomass_conv_wo_ccs                             126.438392\n",
       "7         2030  coal_conv_pul_wo_ccs                             148.411168\n",
       "8         2030          gas_cc_w_ccs                             160.922905\n",
       "9         2030         gas_cc_wo_ccs                             281.272706\n",
       "10        2030        nuclear_gen_ii                             174.511493\n",
       "11        2030         oil_ct_wo_ccs                             456.917968\n",
       "12        2030             solar_csp                             285.588214\n",
       "13        2030     solar_pv_non_dist                             366.955984\n",
       "14        2030          wind_onshore                             285.329780\n",
       "15        2050   biomass_conv_wo_ccs                             137.502465\n",
       "16        2050   biomass_igcc_wo_ccs                             137.933835\n",
       "17        2050  coal_conv_pul_wo_ccs                             148.584489\n",
       "18        2050          gas_cc_w_ccs                             156.314769\n",
       "19        2050         gas_cc_wo_ccs                             137.159077\n",
       "20        2050       nuclear_gen_iii                             177.544332\n",
       "21        2050         oil_ct_wo_ccs                             461.450500\n",
       "22        2050             solar_csp                             277.666579\n",
       "23        2050     solar_pv_non_dist                             362.931729\n",
       "24        2050          wind_onshore                             284.810360"
      ]
     },
     "execution_count": 126,
     "metadata": {},
     "output_type": "execute_result"
    }
   ],
   "source": [
    "icu_df = df.groupby(by=['sited_year','tech_name'])[\"locational_marginal_price_usd_per_mwh\"].mean().reset_index()\n",
    "icu_df\n"
   ]
  },
  {
   "cell_type": "code",
   "execution_count": 124,
   "id": "54157f27",
   "metadata": {},
   "outputs": [
    {
     "data": {
      "application/vnd.plotly.v1+json": {
       "config": {
        "plotlyServerURL": "https://plot.ly"
       },
       "data": [
        {
         "hovertemplate": "tech_name=biomass_conv_wo_ccs<br>sited_year=%{x}<br>locational_marginal_price_usd_per_mwh=%{y}<extra></extra>",
         "legendgroup": "biomass_conv_wo_ccs",
         "line": {
          "color": "#636efa",
          "dash": "solid"
         },
         "marker": {
          "symbol": "circle"
         },
         "mode": "lines+markers",
         "name": "biomass_conv_wo_ccs",
         "orientation": "v",
         "showlegend": true,
         "type": "scatter",
         "x": [
          2010,
          2030,
          2050
         ],
         "xaxis": "x",
         "y": [
          125.51765951996917,
          126.43839183507158,
          137.50246482361865
         ],
         "yaxis": "y"
        },
        {
         "hovertemplate": "tech_name=coal_conv_pul_wo_ccs<br>sited_year=%{x}<br>locational_marginal_price_usd_per_mwh=%{y}<extra></extra>",
         "legendgroup": "coal_conv_pul_wo_ccs",
         "line": {
          "color": "#EF553B",
          "dash": "solid"
         },
         "marker": {
          "symbol": "circle"
         },
         "mode": "lines+markers",
         "name": "coal_conv_pul_wo_ccs",
         "orientation": "v",
         "showlegend": true,
         "type": "scatter",
         "x": [
          2010,
          2030,
          2050
         ],
         "xaxis": "x",
         "y": [
          150.77081232064506,
          148.41116757900255,
          148.58448941948384
         ],
         "yaxis": "y"
        },
        {
         "hovertemplate": "tech_name=gas_cc_w_ccs<br>sited_year=%{x}<br>locational_marginal_price_usd_per_mwh=%{y}<extra></extra>",
         "legendgroup": "gas_cc_w_ccs",
         "line": {
          "color": "#00cc96",
          "dash": "solid"
         },
         "marker": {
          "symbol": "circle"
         },
         "mode": "lines+markers",
         "name": "gas_cc_w_ccs",
         "orientation": "v",
         "showlegend": true,
         "type": "scatter",
         "x": [
          2010,
          2030,
          2050
         ],
         "xaxis": "x",
         "y": [
          296.2765611643518,
          160.92290481446526,
          156.31476931464547
         ],
         "yaxis": "y"
        },
        {
         "hovertemplate": "tech_name=gas_cc_wo_ccs<br>sited_year=%{x}<br>locational_marginal_price_usd_per_mwh=%{y}<extra></extra>",
         "legendgroup": "gas_cc_wo_ccs",
         "line": {
          "color": "#ab63fa",
          "dash": "solid"
         },
         "marker": {
          "symbol": "circle"
         },
         "mode": "lines+markers",
         "name": "gas_cc_wo_ccs",
         "orientation": "v",
         "showlegend": true,
         "type": "scatter",
         "x": [
          2010,
          2030,
          2050
         ],
         "xaxis": "x",
         "y": [
          337.5328386746203,
          281.27270621285317,
          137.15907708387007
         ],
         "yaxis": "y"
        },
        {
         "hovertemplate": "tech_name=nuclear_gen_ii<br>sited_year=%{x}<br>locational_marginal_price_usd_per_mwh=%{y}<extra></extra>",
         "legendgroup": "nuclear_gen_ii",
         "line": {
          "color": "#FFA15A",
          "dash": "solid"
         },
         "marker": {
          "symbol": "circle"
         },
         "mode": "lines+markers",
         "name": "nuclear_gen_ii",
         "orientation": "v",
         "showlegend": true,
         "type": "scatter",
         "x": [
          2010,
          2030
         ],
         "xaxis": "x",
         "y": [
          175.76676399652413,
          174.51149318955132
         ],
         "yaxis": "y"
        },
        {
         "hovertemplate": "tech_name=oil_ct_wo_ccs<br>sited_year=%{x}<br>locational_marginal_price_usd_per_mwh=%{y}<extra></extra>",
         "legendgroup": "oil_ct_wo_ccs",
         "line": {
          "color": "#19d3f3",
          "dash": "solid"
         },
         "marker": {
          "symbol": "circle"
         },
         "mode": "lines+markers",
         "name": "oil_ct_wo_ccs",
         "orientation": "v",
         "showlegend": true,
         "type": "scatter",
         "x": [
          2010,
          2030,
          2050
         ],
         "xaxis": "x",
         "y": [
          455.57009444480326,
          456.91796781503064,
          461.45049969161084
         ],
         "yaxis": "y"
        },
        {
         "hovertemplate": "tech_name=solar_csp<br>sited_year=%{x}<br>locational_marginal_price_usd_per_mwh=%{y}<extra></extra>",
         "legendgroup": "solar_csp",
         "line": {
          "color": "#FF6692",
          "dash": "solid"
         },
         "marker": {
          "symbol": "circle"
         },
         "mode": "lines+markers",
         "name": "solar_csp",
         "orientation": "v",
         "showlegend": true,
         "type": "scatter",
         "x": [
          2030,
          2050
         ],
         "xaxis": "x",
         "y": [
          285.58821400753203,
          277.6665792472336
         ],
         "yaxis": "y"
        },
        {
         "hovertemplate": "tech_name=solar_pv_non_dist<br>sited_year=%{x}<br>locational_marginal_price_usd_per_mwh=%{y}<extra></extra>",
         "legendgroup": "solar_pv_non_dist",
         "line": {
          "color": "#B6E880",
          "dash": "solid"
         },
         "marker": {
          "symbol": "circle"
         },
         "mode": "lines+markers",
         "name": "solar_pv_non_dist",
         "orientation": "v",
         "showlegend": true,
         "type": "scatter",
         "x": [
          2030,
          2050
         ],
         "xaxis": "x",
         "y": [
          366.95598394670515,
          362.9317288416123
         ],
         "yaxis": "y"
        },
        {
         "hovertemplate": "tech_name=wind_onshore<br>sited_year=%{x}<br>locational_marginal_price_usd_per_mwh=%{y}<extra></extra>",
         "legendgroup": "wind_onshore",
         "line": {
          "color": "#FF97FF",
          "dash": "solid"
         },
         "marker": {
          "symbol": "circle"
         },
         "mode": "lines+markers",
         "name": "wind_onshore",
         "orientation": "v",
         "showlegend": true,
         "type": "scatter",
         "x": [
          2030,
          2050
         ],
         "xaxis": "x",
         "y": [
          285.3297804857147,
          284.8103601214247
         ],
         "yaxis": "y"
        },
        {
         "hovertemplate": "tech_name=biomass_igcc_wo_ccs<br>sited_year=%{x}<br>locational_marginal_price_usd_per_mwh=%{y}<extra></extra>",
         "legendgroup": "biomass_igcc_wo_ccs",
         "line": {
          "color": "#FECB52",
          "dash": "solid"
         },
         "marker": {
          "symbol": "circle"
         },
         "mode": "lines+markers",
         "name": "biomass_igcc_wo_ccs",
         "orientation": "v",
         "showlegend": true,
         "type": "scatter",
         "x": [
          2050
         ],
         "xaxis": "x",
         "y": [
          137.9338346164219
         ],
         "yaxis": "y"
        },
        {
         "hovertemplate": "tech_name=nuclear_gen_iii<br>sited_year=%{x}<br>locational_marginal_price_usd_per_mwh=%{y}<extra></extra>",
         "legendgroup": "nuclear_gen_iii",
         "line": {
          "color": "#636efa",
          "dash": "solid"
         },
         "marker": {
          "symbol": "circle"
         },
         "mode": "lines+markers",
         "name": "nuclear_gen_iii",
         "orientation": "v",
         "showlegend": true,
         "type": "scatter",
         "x": [
          2050
         ],
         "xaxis": "x",
         "y": [
          177.54433152838232
         ],
         "yaxis": "y"
        }
       ],
       "layout": {
        "legend": {
         "title": {
          "text": "tech_name"
         },
         "tracegroupgap": 0
        },
        "margin": {
         "t": 60
        },
        "template": {
         "data": {
          "bar": [
           {
            "error_x": {
             "color": "#2a3f5f"
            },
            "error_y": {
             "color": "#2a3f5f"
            },
            "marker": {
             "line": {
              "color": "#E5ECF6",
              "width": 0.5
             },
             "pattern": {
              "fillmode": "overlay",
              "size": 10,
              "solidity": 0.2
             }
            },
            "type": "bar"
           }
          ],
          "barpolar": [
           {
            "marker": {
             "line": {
              "color": "#E5ECF6",
              "width": 0.5
             },
             "pattern": {
              "fillmode": "overlay",
              "size": 10,
              "solidity": 0.2
             }
            },
            "type": "barpolar"
           }
          ],
          "carpet": [
           {
            "aaxis": {
             "endlinecolor": "#2a3f5f",
             "gridcolor": "white",
             "linecolor": "white",
             "minorgridcolor": "white",
             "startlinecolor": "#2a3f5f"
            },
            "baxis": {
             "endlinecolor": "#2a3f5f",
             "gridcolor": "white",
             "linecolor": "white",
             "minorgridcolor": "white",
             "startlinecolor": "#2a3f5f"
            },
            "type": "carpet"
           }
          ],
          "choropleth": [
           {
            "colorbar": {
             "outlinewidth": 0,
             "ticks": ""
            },
            "type": "choropleth"
           }
          ],
          "contour": [
           {
            "colorbar": {
             "outlinewidth": 0,
             "ticks": ""
            },
            "colorscale": [
             [
              0,
              "#0d0887"
             ],
             [
              0.1111111111111111,
              "#46039f"
             ],
             [
              0.2222222222222222,
              "#7201a8"
             ],
             [
              0.3333333333333333,
              "#9c179e"
             ],
             [
              0.4444444444444444,
              "#bd3786"
             ],
             [
              0.5555555555555556,
              "#d8576b"
             ],
             [
              0.6666666666666666,
              "#ed7953"
             ],
             [
              0.7777777777777778,
              "#fb9f3a"
             ],
             [
              0.8888888888888888,
              "#fdca26"
             ],
             [
              1,
              "#f0f921"
             ]
            ],
            "type": "contour"
           }
          ],
          "contourcarpet": [
           {
            "colorbar": {
             "outlinewidth": 0,
             "ticks": ""
            },
            "type": "contourcarpet"
           }
          ],
          "heatmap": [
           {
            "colorbar": {
             "outlinewidth": 0,
             "ticks": ""
            },
            "colorscale": [
             [
              0,
              "#0d0887"
             ],
             [
              0.1111111111111111,
              "#46039f"
             ],
             [
              0.2222222222222222,
              "#7201a8"
             ],
             [
              0.3333333333333333,
              "#9c179e"
             ],
             [
              0.4444444444444444,
              "#bd3786"
             ],
             [
              0.5555555555555556,
              "#d8576b"
             ],
             [
              0.6666666666666666,
              "#ed7953"
             ],
             [
              0.7777777777777778,
              "#fb9f3a"
             ],
             [
              0.8888888888888888,
              "#fdca26"
             ],
             [
              1,
              "#f0f921"
             ]
            ],
            "type": "heatmap"
           }
          ],
          "heatmapgl": [
           {
            "colorbar": {
             "outlinewidth": 0,
             "ticks": ""
            },
            "colorscale": [
             [
              0,
              "#0d0887"
             ],
             [
              0.1111111111111111,
              "#46039f"
             ],
             [
              0.2222222222222222,
              "#7201a8"
             ],
             [
              0.3333333333333333,
              "#9c179e"
             ],
             [
              0.4444444444444444,
              "#bd3786"
             ],
             [
              0.5555555555555556,
              "#d8576b"
             ],
             [
              0.6666666666666666,
              "#ed7953"
             ],
             [
              0.7777777777777778,
              "#fb9f3a"
             ],
             [
              0.8888888888888888,
              "#fdca26"
             ],
             [
              1,
              "#f0f921"
             ]
            ],
            "type": "heatmapgl"
           }
          ],
          "histogram": [
           {
            "marker": {
             "pattern": {
              "fillmode": "overlay",
              "size": 10,
              "solidity": 0.2
             }
            },
            "type": "histogram"
           }
          ],
          "histogram2d": [
           {
            "colorbar": {
             "outlinewidth": 0,
             "ticks": ""
            },
            "colorscale": [
             [
              0,
              "#0d0887"
             ],
             [
              0.1111111111111111,
              "#46039f"
             ],
             [
              0.2222222222222222,
              "#7201a8"
             ],
             [
              0.3333333333333333,
              "#9c179e"
             ],
             [
              0.4444444444444444,
              "#bd3786"
             ],
             [
              0.5555555555555556,
              "#d8576b"
             ],
             [
              0.6666666666666666,
              "#ed7953"
             ],
             [
              0.7777777777777778,
              "#fb9f3a"
             ],
             [
              0.8888888888888888,
              "#fdca26"
             ],
             [
              1,
              "#f0f921"
             ]
            ],
            "type": "histogram2d"
           }
          ],
          "histogram2dcontour": [
           {
            "colorbar": {
             "outlinewidth": 0,
             "ticks": ""
            },
            "colorscale": [
             [
              0,
              "#0d0887"
             ],
             [
              0.1111111111111111,
              "#46039f"
             ],
             [
              0.2222222222222222,
              "#7201a8"
             ],
             [
              0.3333333333333333,
              "#9c179e"
             ],
             [
              0.4444444444444444,
              "#bd3786"
             ],
             [
              0.5555555555555556,
              "#d8576b"
             ],
             [
              0.6666666666666666,
              "#ed7953"
             ],
             [
              0.7777777777777778,
              "#fb9f3a"
             ],
             [
              0.8888888888888888,
              "#fdca26"
             ],
             [
              1,
              "#f0f921"
             ]
            ],
            "type": "histogram2dcontour"
           }
          ],
          "mesh3d": [
           {
            "colorbar": {
             "outlinewidth": 0,
             "ticks": ""
            },
            "type": "mesh3d"
           }
          ],
          "parcoords": [
           {
            "line": {
             "colorbar": {
              "outlinewidth": 0,
              "ticks": ""
             }
            },
            "type": "parcoords"
           }
          ],
          "pie": [
           {
            "automargin": true,
            "type": "pie"
           }
          ],
          "scatter": [
           {
            "fillpattern": {
             "fillmode": "overlay",
             "size": 10,
             "solidity": 0.2
            },
            "type": "scatter"
           }
          ],
          "scatter3d": [
           {
            "line": {
             "colorbar": {
              "outlinewidth": 0,
              "ticks": ""
             }
            },
            "marker": {
             "colorbar": {
              "outlinewidth": 0,
              "ticks": ""
             }
            },
            "type": "scatter3d"
           }
          ],
          "scattercarpet": [
           {
            "marker": {
             "colorbar": {
              "outlinewidth": 0,
              "ticks": ""
             }
            },
            "type": "scattercarpet"
           }
          ],
          "scattergeo": [
           {
            "marker": {
             "colorbar": {
              "outlinewidth": 0,
              "ticks": ""
             }
            },
            "type": "scattergeo"
           }
          ],
          "scattergl": [
           {
            "marker": {
             "colorbar": {
              "outlinewidth": 0,
              "ticks": ""
             }
            },
            "type": "scattergl"
           }
          ],
          "scattermapbox": [
           {
            "marker": {
             "colorbar": {
              "outlinewidth": 0,
              "ticks": ""
             }
            },
            "type": "scattermapbox"
           }
          ],
          "scatterpolar": [
           {
            "marker": {
             "colorbar": {
              "outlinewidth": 0,
              "ticks": ""
             }
            },
            "type": "scatterpolar"
           }
          ],
          "scatterpolargl": [
           {
            "marker": {
             "colorbar": {
              "outlinewidth": 0,
              "ticks": ""
             }
            },
            "type": "scatterpolargl"
           }
          ],
          "scatterternary": [
           {
            "marker": {
             "colorbar": {
              "outlinewidth": 0,
              "ticks": ""
             }
            },
            "type": "scatterternary"
           }
          ],
          "surface": [
           {
            "colorbar": {
             "outlinewidth": 0,
             "ticks": ""
            },
            "colorscale": [
             [
              0,
              "#0d0887"
             ],
             [
              0.1111111111111111,
              "#46039f"
             ],
             [
              0.2222222222222222,
              "#7201a8"
             ],
             [
              0.3333333333333333,
              "#9c179e"
             ],
             [
              0.4444444444444444,
              "#bd3786"
             ],
             [
              0.5555555555555556,
              "#d8576b"
             ],
             [
              0.6666666666666666,
              "#ed7953"
             ],
             [
              0.7777777777777778,
              "#fb9f3a"
             ],
             [
              0.8888888888888888,
              "#fdca26"
             ],
             [
              1,
              "#f0f921"
             ]
            ],
            "type": "surface"
           }
          ],
          "table": [
           {
            "cells": {
             "fill": {
              "color": "#EBF0F8"
             },
             "line": {
              "color": "white"
             }
            },
            "header": {
             "fill": {
              "color": "#C8D4E3"
             },
             "line": {
              "color": "white"
             }
            },
            "type": "table"
           }
          ]
         },
         "layout": {
          "annotationdefaults": {
           "arrowcolor": "#2a3f5f",
           "arrowhead": 0,
           "arrowwidth": 1
          },
          "autotypenumbers": "strict",
          "coloraxis": {
           "colorbar": {
            "outlinewidth": 0,
            "ticks": ""
           }
          },
          "colorscale": {
           "diverging": [
            [
             0,
             "#8e0152"
            ],
            [
             0.1,
             "#c51b7d"
            ],
            [
             0.2,
             "#de77ae"
            ],
            [
             0.3,
             "#f1b6da"
            ],
            [
             0.4,
             "#fde0ef"
            ],
            [
             0.5,
             "#f7f7f7"
            ],
            [
             0.6,
             "#e6f5d0"
            ],
            [
             0.7,
             "#b8e186"
            ],
            [
             0.8,
             "#7fbc41"
            ],
            [
             0.9,
             "#4d9221"
            ],
            [
             1,
             "#276419"
            ]
           ],
           "sequential": [
            [
             0,
             "#0d0887"
            ],
            [
             0.1111111111111111,
             "#46039f"
            ],
            [
             0.2222222222222222,
             "#7201a8"
            ],
            [
             0.3333333333333333,
             "#9c179e"
            ],
            [
             0.4444444444444444,
             "#bd3786"
            ],
            [
             0.5555555555555556,
             "#d8576b"
            ],
            [
             0.6666666666666666,
             "#ed7953"
            ],
            [
             0.7777777777777778,
             "#fb9f3a"
            ],
            [
             0.8888888888888888,
             "#fdca26"
            ],
            [
             1,
             "#f0f921"
            ]
           ],
           "sequentialminus": [
            [
             0,
             "#0d0887"
            ],
            [
             0.1111111111111111,
             "#46039f"
            ],
            [
             0.2222222222222222,
             "#7201a8"
            ],
            [
             0.3333333333333333,
             "#9c179e"
            ],
            [
             0.4444444444444444,
             "#bd3786"
            ],
            [
             0.5555555555555556,
             "#d8576b"
            ],
            [
             0.6666666666666666,
             "#ed7953"
            ],
            [
             0.7777777777777778,
             "#fb9f3a"
            ],
            [
             0.8888888888888888,
             "#fdca26"
            ],
            [
             1,
             "#f0f921"
            ]
           ]
          },
          "colorway": [
           "#636efa",
           "#EF553B",
           "#00cc96",
           "#ab63fa",
           "#FFA15A",
           "#19d3f3",
           "#FF6692",
           "#B6E880",
           "#FF97FF",
           "#FECB52"
          ],
          "font": {
           "color": "#2a3f5f"
          },
          "geo": {
           "bgcolor": "white",
           "lakecolor": "white",
           "landcolor": "#E5ECF6",
           "showlakes": true,
           "showland": true,
           "subunitcolor": "white"
          },
          "hoverlabel": {
           "align": "left"
          },
          "hovermode": "closest",
          "mapbox": {
           "style": "light"
          },
          "paper_bgcolor": "white",
          "plot_bgcolor": "#E5ECF6",
          "polar": {
           "angularaxis": {
            "gridcolor": "white",
            "linecolor": "white",
            "ticks": ""
           },
           "bgcolor": "#E5ECF6",
           "radialaxis": {
            "gridcolor": "white",
            "linecolor": "white",
            "ticks": ""
           }
          },
          "scene": {
           "xaxis": {
            "backgroundcolor": "#E5ECF6",
            "gridcolor": "white",
            "gridwidth": 2,
            "linecolor": "white",
            "showbackground": true,
            "ticks": "",
            "zerolinecolor": "white"
           },
           "yaxis": {
            "backgroundcolor": "#E5ECF6",
            "gridcolor": "white",
            "gridwidth": 2,
            "linecolor": "white",
            "showbackground": true,
            "ticks": "",
            "zerolinecolor": "white"
           },
           "zaxis": {
            "backgroundcolor": "#E5ECF6",
            "gridcolor": "white",
            "gridwidth": 2,
            "linecolor": "white",
            "showbackground": true,
            "ticks": "",
            "zerolinecolor": "white"
           }
          },
          "shapedefaults": {
           "line": {
            "color": "#2a3f5f"
           }
          },
          "ternary": {
           "aaxis": {
            "gridcolor": "white",
            "linecolor": "white",
            "ticks": ""
           },
           "baxis": {
            "gridcolor": "white",
            "linecolor": "white",
            "ticks": ""
           },
           "bgcolor": "#E5ECF6",
           "caxis": {
            "gridcolor": "white",
            "linecolor": "white",
            "ticks": ""
           }
          },
          "title": {
           "x": 0.05
          },
          "xaxis": {
           "automargin": true,
           "gridcolor": "white",
           "linecolor": "white",
           "ticks": "",
           "title": {
            "standoff": 15
           },
           "zerolinecolor": "white",
           "zerolinewidth": 2
          },
          "yaxis": {
           "automargin": true,
           "gridcolor": "white",
           "linecolor": "white",
           "ticks": "",
           "title": {
            "standoff": 15
           },
           "zerolinecolor": "white",
           "zerolinewidth": 2
          }
         }
        },
        "xaxis": {
         "anchor": "y",
         "domain": [
          0,
          1
         ],
         "title": {
          "text": "sited_year"
         }
        },
        "yaxis": {
         "anchor": "x",
         "domain": [
          0,
          1
         ],
         "title": {
          "text": "locational_marginal_price_usd_per_mwh"
         }
        }
       }
      },
      "text/html": [
       "<div>                            <div id=\"44232e37-3f45-477a-830b-5ca36d9538de\" class=\"plotly-graph-div\" style=\"height:525px; width:100%;\"></div>            <script type=\"text/javascript\">                require([\"plotly\"], function(Plotly) {                    window.PLOTLYENV=window.PLOTLYENV || {};                                    if (document.getElementById(\"44232e37-3f45-477a-830b-5ca36d9538de\")) {                    Plotly.newPlot(                        \"44232e37-3f45-477a-830b-5ca36d9538de\",                        [{\"hovertemplate\":\"tech_name=biomass_conv_wo_ccs<br>sited_year=%{x}<br>locational_marginal_price_usd_per_mwh=%{y}<extra></extra>\",\"legendgroup\":\"biomass_conv_wo_ccs\",\"line\":{\"color\":\"#636efa\",\"dash\":\"solid\"},\"marker\":{\"symbol\":\"circle\"},\"mode\":\"lines+markers\",\"name\":\"biomass_conv_wo_ccs\",\"orientation\":\"v\",\"showlegend\":true,\"x\":[2010,2030,2050],\"xaxis\":\"x\",\"y\":[125.51765951996917,126.43839183507158,137.50246482361865],\"yaxis\":\"y\",\"type\":\"scatter\"},{\"hovertemplate\":\"tech_name=coal_conv_pul_wo_ccs<br>sited_year=%{x}<br>locational_marginal_price_usd_per_mwh=%{y}<extra></extra>\",\"legendgroup\":\"coal_conv_pul_wo_ccs\",\"line\":{\"color\":\"#EF553B\",\"dash\":\"solid\"},\"marker\":{\"symbol\":\"circle\"},\"mode\":\"lines+markers\",\"name\":\"coal_conv_pul_wo_ccs\",\"orientation\":\"v\",\"showlegend\":true,\"x\":[2010,2030,2050],\"xaxis\":\"x\",\"y\":[150.77081232064506,148.41116757900255,148.58448941948384],\"yaxis\":\"y\",\"type\":\"scatter\"},{\"hovertemplate\":\"tech_name=gas_cc_w_ccs<br>sited_year=%{x}<br>locational_marginal_price_usd_per_mwh=%{y}<extra></extra>\",\"legendgroup\":\"gas_cc_w_ccs\",\"line\":{\"color\":\"#00cc96\",\"dash\":\"solid\"},\"marker\":{\"symbol\":\"circle\"},\"mode\":\"lines+markers\",\"name\":\"gas_cc_w_ccs\",\"orientation\":\"v\",\"showlegend\":true,\"x\":[2010,2030,2050],\"xaxis\":\"x\",\"y\":[296.2765611643518,160.92290481446526,156.31476931464547],\"yaxis\":\"y\",\"type\":\"scatter\"},{\"hovertemplate\":\"tech_name=gas_cc_wo_ccs<br>sited_year=%{x}<br>locational_marginal_price_usd_per_mwh=%{y}<extra></extra>\",\"legendgroup\":\"gas_cc_wo_ccs\",\"line\":{\"color\":\"#ab63fa\",\"dash\":\"solid\"},\"marker\":{\"symbol\":\"circle\"},\"mode\":\"lines+markers\",\"name\":\"gas_cc_wo_ccs\",\"orientation\":\"v\",\"showlegend\":true,\"x\":[2010,2030,2050],\"xaxis\":\"x\",\"y\":[337.5328386746203,281.27270621285317,137.15907708387007],\"yaxis\":\"y\",\"type\":\"scatter\"},{\"hovertemplate\":\"tech_name=nuclear_gen_ii<br>sited_year=%{x}<br>locational_marginal_price_usd_per_mwh=%{y}<extra></extra>\",\"legendgroup\":\"nuclear_gen_ii\",\"line\":{\"color\":\"#FFA15A\",\"dash\":\"solid\"},\"marker\":{\"symbol\":\"circle\"},\"mode\":\"lines+markers\",\"name\":\"nuclear_gen_ii\",\"orientation\":\"v\",\"showlegend\":true,\"x\":[2010,2030],\"xaxis\":\"x\",\"y\":[175.76676399652413,174.51149318955132],\"yaxis\":\"y\",\"type\":\"scatter\"},{\"hovertemplate\":\"tech_name=oil_ct_wo_ccs<br>sited_year=%{x}<br>locational_marginal_price_usd_per_mwh=%{y}<extra></extra>\",\"legendgroup\":\"oil_ct_wo_ccs\",\"line\":{\"color\":\"#19d3f3\",\"dash\":\"solid\"},\"marker\":{\"symbol\":\"circle\"},\"mode\":\"lines+markers\",\"name\":\"oil_ct_wo_ccs\",\"orientation\":\"v\",\"showlegend\":true,\"x\":[2010,2030,2050],\"xaxis\":\"x\",\"y\":[455.57009444480326,456.91796781503064,461.45049969161084],\"yaxis\":\"y\",\"type\":\"scatter\"},{\"hovertemplate\":\"tech_name=solar_csp<br>sited_year=%{x}<br>locational_marginal_price_usd_per_mwh=%{y}<extra></extra>\",\"legendgroup\":\"solar_csp\",\"line\":{\"color\":\"#FF6692\",\"dash\":\"solid\"},\"marker\":{\"symbol\":\"circle\"},\"mode\":\"lines+markers\",\"name\":\"solar_csp\",\"orientation\":\"v\",\"showlegend\":true,\"x\":[2030,2050],\"xaxis\":\"x\",\"y\":[285.58821400753203,277.6665792472336],\"yaxis\":\"y\",\"type\":\"scatter\"},{\"hovertemplate\":\"tech_name=solar_pv_non_dist<br>sited_year=%{x}<br>locational_marginal_price_usd_per_mwh=%{y}<extra></extra>\",\"legendgroup\":\"solar_pv_non_dist\",\"line\":{\"color\":\"#B6E880\",\"dash\":\"solid\"},\"marker\":{\"symbol\":\"circle\"},\"mode\":\"lines+markers\",\"name\":\"solar_pv_non_dist\",\"orientation\":\"v\",\"showlegend\":true,\"x\":[2030,2050],\"xaxis\":\"x\",\"y\":[366.95598394670515,362.9317288416123],\"yaxis\":\"y\",\"type\":\"scatter\"},{\"hovertemplate\":\"tech_name=wind_onshore<br>sited_year=%{x}<br>locational_marginal_price_usd_per_mwh=%{y}<extra></extra>\",\"legendgroup\":\"wind_onshore\",\"line\":{\"color\":\"#FF97FF\",\"dash\":\"solid\"},\"marker\":{\"symbol\":\"circle\"},\"mode\":\"lines+markers\",\"name\":\"wind_onshore\",\"orientation\":\"v\",\"showlegend\":true,\"x\":[2030,2050],\"xaxis\":\"x\",\"y\":[285.3297804857147,284.8103601214247],\"yaxis\":\"y\",\"type\":\"scatter\"},{\"hovertemplate\":\"tech_name=biomass_igcc_wo_ccs<br>sited_year=%{x}<br>locational_marginal_price_usd_per_mwh=%{y}<extra></extra>\",\"legendgroup\":\"biomass_igcc_wo_ccs\",\"line\":{\"color\":\"#FECB52\",\"dash\":\"solid\"},\"marker\":{\"symbol\":\"circle\"},\"mode\":\"lines+markers\",\"name\":\"biomass_igcc_wo_ccs\",\"orientation\":\"v\",\"showlegend\":true,\"x\":[2050],\"xaxis\":\"x\",\"y\":[137.9338346164219],\"yaxis\":\"y\",\"type\":\"scatter\"},{\"hovertemplate\":\"tech_name=nuclear_gen_iii<br>sited_year=%{x}<br>locational_marginal_price_usd_per_mwh=%{y}<extra></extra>\",\"legendgroup\":\"nuclear_gen_iii\",\"line\":{\"color\":\"#636efa\",\"dash\":\"solid\"},\"marker\":{\"symbol\":\"circle\"},\"mode\":\"lines+markers\",\"name\":\"nuclear_gen_iii\",\"orientation\":\"v\",\"showlegend\":true,\"x\":[2050],\"xaxis\":\"x\",\"y\":[177.54433152838232],\"yaxis\":\"y\",\"type\":\"scatter\"}],                        {\"template\":{\"data\":{\"histogram2dcontour\":[{\"type\":\"histogram2dcontour\",\"colorbar\":{\"outlinewidth\":0,\"ticks\":\"\"},\"colorscale\":[[0.0,\"#0d0887\"],[0.1111111111111111,\"#46039f\"],[0.2222222222222222,\"#7201a8\"],[0.3333333333333333,\"#9c179e\"],[0.4444444444444444,\"#bd3786\"],[0.5555555555555556,\"#d8576b\"],[0.6666666666666666,\"#ed7953\"],[0.7777777777777778,\"#fb9f3a\"],[0.8888888888888888,\"#fdca26\"],[1.0,\"#f0f921\"]]}],\"choropleth\":[{\"type\":\"choropleth\",\"colorbar\":{\"outlinewidth\":0,\"ticks\":\"\"}}],\"histogram2d\":[{\"type\":\"histogram2d\",\"colorbar\":{\"outlinewidth\":0,\"ticks\":\"\"},\"colorscale\":[[0.0,\"#0d0887\"],[0.1111111111111111,\"#46039f\"],[0.2222222222222222,\"#7201a8\"],[0.3333333333333333,\"#9c179e\"],[0.4444444444444444,\"#bd3786\"],[0.5555555555555556,\"#d8576b\"],[0.6666666666666666,\"#ed7953\"],[0.7777777777777778,\"#fb9f3a\"],[0.8888888888888888,\"#fdca26\"],[1.0,\"#f0f921\"]]}],\"heatmap\":[{\"type\":\"heatmap\",\"colorbar\":{\"outlinewidth\":0,\"ticks\":\"\"},\"colorscale\":[[0.0,\"#0d0887\"],[0.1111111111111111,\"#46039f\"],[0.2222222222222222,\"#7201a8\"],[0.3333333333333333,\"#9c179e\"],[0.4444444444444444,\"#bd3786\"],[0.5555555555555556,\"#d8576b\"],[0.6666666666666666,\"#ed7953\"],[0.7777777777777778,\"#fb9f3a\"],[0.8888888888888888,\"#fdca26\"],[1.0,\"#f0f921\"]]}],\"heatmapgl\":[{\"type\":\"heatmapgl\",\"colorbar\":{\"outlinewidth\":0,\"ticks\":\"\"},\"colorscale\":[[0.0,\"#0d0887\"],[0.1111111111111111,\"#46039f\"],[0.2222222222222222,\"#7201a8\"],[0.3333333333333333,\"#9c179e\"],[0.4444444444444444,\"#bd3786\"],[0.5555555555555556,\"#d8576b\"],[0.6666666666666666,\"#ed7953\"],[0.7777777777777778,\"#fb9f3a\"],[0.8888888888888888,\"#fdca26\"],[1.0,\"#f0f921\"]]}],\"contourcarpet\":[{\"type\":\"contourcarpet\",\"colorbar\":{\"outlinewidth\":0,\"ticks\":\"\"}}],\"contour\":[{\"type\":\"contour\",\"colorbar\":{\"outlinewidth\":0,\"ticks\":\"\"},\"colorscale\":[[0.0,\"#0d0887\"],[0.1111111111111111,\"#46039f\"],[0.2222222222222222,\"#7201a8\"],[0.3333333333333333,\"#9c179e\"],[0.4444444444444444,\"#bd3786\"],[0.5555555555555556,\"#d8576b\"],[0.6666666666666666,\"#ed7953\"],[0.7777777777777778,\"#fb9f3a\"],[0.8888888888888888,\"#fdca26\"],[1.0,\"#f0f921\"]]}],\"surface\":[{\"type\":\"surface\",\"colorbar\":{\"outlinewidth\":0,\"ticks\":\"\"},\"colorscale\":[[0.0,\"#0d0887\"],[0.1111111111111111,\"#46039f\"],[0.2222222222222222,\"#7201a8\"],[0.3333333333333333,\"#9c179e\"],[0.4444444444444444,\"#bd3786\"],[0.5555555555555556,\"#d8576b\"],[0.6666666666666666,\"#ed7953\"],[0.7777777777777778,\"#fb9f3a\"],[0.8888888888888888,\"#fdca26\"],[1.0,\"#f0f921\"]]}],\"mesh3d\":[{\"type\":\"mesh3d\",\"colorbar\":{\"outlinewidth\":0,\"ticks\":\"\"}}],\"scatter\":[{\"fillpattern\":{\"fillmode\":\"overlay\",\"size\":10,\"solidity\":0.2},\"type\":\"scatter\"}],\"parcoords\":[{\"type\":\"parcoords\",\"line\":{\"colorbar\":{\"outlinewidth\":0,\"ticks\":\"\"}}}],\"scatterpolargl\":[{\"type\":\"scatterpolargl\",\"marker\":{\"colorbar\":{\"outlinewidth\":0,\"ticks\":\"\"}}}],\"bar\":[{\"error_x\":{\"color\":\"#2a3f5f\"},\"error_y\":{\"color\":\"#2a3f5f\"},\"marker\":{\"line\":{\"color\":\"#E5ECF6\",\"width\":0.5},\"pattern\":{\"fillmode\":\"overlay\",\"size\":10,\"solidity\":0.2}},\"type\":\"bar\"}],\"scattergeo\":[{\"type\":\"scattergeo\",\"marker\":{\"colorbar\":{\"outlinewidth\":0,\"ticks\":\"\"}}}],\"scatterpolar\":[{\"type\":\"scatterpolar\",\"marker\":{\"colorbar\":{\"outlinewidth\":0,\"ticks\":\"\"}}}],\"histogram\":[{\"marker\":{\"pattern\":{\"fillmode\":\"overlay\",\"size\":10,\"solidity\":0.2}},\"type\":\"histogram\"}],\"scattergl\":[{\"type\":\"scattergl\",\"marker\":{\"colorbar\":{\"outlinewidth\":0,\"ticks\":\"\"}}}],\"scatter3d\":[{\"type\":\"scatter3d\",\"line\":{\"colorbar\":{\"outlinewidth\":0,\"ticks\":\"\"}},\"marker\":{\"colorbar\":{\"outlinewidth\":0,\"ticks\":\"\"}}}],\"scattermapbox\":[{\"type\":\"scattermapbox\",\"marker\":{\"colorbar\":{\"outlinewidth\":0,\"ticks\":\"\"}}}],\"scatterternary\":[{\"type\":\"scatterternary\",\"marker\":{\"colorbar\":{\"outlinewidth\":0,\"ticks\":\"\"}}}],\"scattercarpet\":[{\"type\":\"scattercarpet\",\"marker\":{\"colorbar\":{\"outlinewidth\":0,\"ticks\":\"\"}}}],\"carpet\":[{\"aaxis\":{\"endlinecolor\":\"#2a3f5f\",\"gridcolor\":\"white\",\"linecolor\":\"white\",\"minorgridcolor\":\"white\",\"startlinecolor\":\"#2a3f5f\"},\"baxis\":{\"endlinecolor\":\"#2a3f5f\",\"gridcolor\":\"white\",\"linecolor\":\"white\",\"minorgridcolor\":\"white\",\"startlinecolor\":\"#2a3f5f\"},\"type\":\"carpet\"}],\"table\":[{\"cells\":{\"fill\":{\"color\":\"#EBF0F8\"},\"line\":{\"color\":\"white\"}},\"header\":{\"fill\":{\"color\":\"#C8D4E3\"},\"line\":{\"color\":\"white\"}},\"type\":\"table\"}],\"barpolar\":[{\"marker\":{\"line\":{\"color\":\"#E5ECF6\",\"width\":0.5},\"pattern\":{\"fillmode\":\"overlay\",\"size\":10,\"solidity\":0.2}},\"type\":\"barpolar\"}],\"pie\":[{\"automargin\":true,\"type\":\"pie\"}]},\"layout\":{\"autotypenumbers\":\"strict\",\"colorway\":[\"#636efa\",\"#EF553B\",\"#00cc96\",\"#ab63fa\",\"#FFA15A\",\"#19d3f3\",\"#FF6692\",\"#B6E880\",\"#FF97FF\",\"#FECB52\"],\"font\":{\"color\":\"#2a3f5f\"},\"hovermode\":\"closest\",\"hoverlabel\":{\"align\":\"left\"},\"paper_bgcolor\":\"white\",\"plot_bgcolor\":\"#E5ECF6\",\"polar\":{\"bgcolor\":\"#E5ECF6\",\"angularaxis\":{\"gridcolor\":\"white\",\"linecolor\":\"white\",\"ticks\":\"\"},\"radialaxis\":{\"gridcolor\":\"white\",\"linecolor\":\"white\",\"ticks\":\"\"}},\"ternary\":{\"bgcolor\":\"#E5ECF6\",\"aaxis\":{\"gridcolor\":\"white\",\"linecolor\":\"white\",\"ticks\":\"\"},\"baxis\":{\"gridcolor\":\"white\",\"linecolor\":\"white\",\"ticks\":\"\"},\"caxis\":{\"gridcolor\":\"white\",\"linecolor\":\"white\",\"ticks\":\"\"}},\"coloraxis\":{\"colorbar\":{\"outlinewidth\":0,\"ticks\":\"\"}},\"colorscale\":{\"sequential\":[[0.0,\"#0d0887\"],[0.1111111111111111,\"#46039f\"],[0.2222222222222222,\"#7201a8\"],[0.3333333333333333,\"#9c179e\"],[0.4444444444444444,\"#bd3786\"],[0.5555555555555556,\"#d8576b\"],[0.6666666666666666,\"#ed7953\"],[0.7777777777777778,\"#fb9f3a\"],[0.8888888888888888,\"#fdca26\"],[1.0,\"#f0f921\"]],\"sequentialminus\":[[0.0,\"#0d0887\"],[0.1111111111111111,\"#46039f\"],[0.2222222222222222,\"#7201a8\"],[0.3333333333333333,\"#9c179e\"],[0.4444444444444444,\"#bd3786\"],[0.5555555555555556,\"#d8576b\"],[0.6666666666666666,\"#ed7953\"],[0.7777777777777778,\"#fb9f3a\"],[0.8888888888888888,\"#fdca26\"],[1.0,\"#f0f921\"]],\"diverging\":[[0,\"#8e0152\"],[0.1,\"#c51b7d\"],[0.2,\"#de77ae\"],[0.3,\"#f1b6da\"],[0.4,\"#fde0ef\"],[0.5,\"#f7f7f7\"],[0.6,\"#e6f5d0\"],[0.7,\"#b8e186\"],[0.8,\"#7fbc41\"],[0.9,\"#4d9221\"],[1,\"#276419\"]]},\"xaxis\":{\"gridcolor\":\"white\",\"linecolor\":\"white\",\"ticks\":\"\",\"title\":{\"standoff\":15},\"zerolinecolor\":\"white\",\"automargin\":true,\"zerolinewidth\":2},\"yaxis\":{\"gridcolor\":\"white\",\"linecolor\":\"white\",\"ticks\":\"\",\"title\":{\"standoff\":15},\"zerolinecolor\":\"white\",\"automargin\":true,\"zerolinewidth\":2},\"scene\":{\"xaxis\":{\"backgroundcolor\":\"#E5ECF6\",\"gridcolor\":\"white\",\"linecolor\":\"white\",\"showbackground\":true,\"ticks\":\"\",\"zerolinecolor\":\"white\",\"gridwidth\":2},\"yaxis\":{\"backgroundcolor\":\"#E5ECF6\",\"gridcolor\":\"white\",\"linecolor\":\"white\",\"showbackground\":true,\"ticks\":\"\",\"zerolinecolor\":\"white\",\"gridwidth\":2},\"zaxis\":{\"backgroundcolor\":\"#E5ECF6\",\"gridcolor\":\"white\",\"linecolor\":\"white\",\"showbackground\":true,\"ticks\":\"\",\"zerolinecolor\":\"white\",\"gridwidth\":2}},\"shapedefaults\":{\"line\":{\"color\":\"#2a3f5f\"}},\"annotationdefaults\":{\"arrowcolor\":\"#2a3f5f\",\"arrowhead\":0,\"arrowwidth\":1},\"geo\":{\"bgcolor\":\"white\",\"landcolor\":\"#E5ECF6\",\"subunitcolor\":\"white\",\"showland\":true,\"showlakes\":true,\"lakecolor\":\"white\"},\"title\":{\"x\":0.05},\"mapbox\":{\"style\":\"light\"}}},\"xaxis\":{\"anchor\":\"y\",\"domain\":[0.0,1.0],\"title\":{\"text\":\"sited_year\"}},\"yaxis\":{\"anchor\":\"x\",\"domain\":[0.0,1.0],\"title\":{\"text\":\"locational_marginal_price_usd_per_mwh\"}},\"legend\":{\"title\":{\"text\":\"tech_name\"},\"tracegroupgap\":0},\"margin\":{\"t\":60}},                        {\"responsive\": true}                    ).then(function(){\n",
       "                            \n",
       "var gd = document.getElementById('44232e37-3f45-477a-830b-5ca36d9538de');\n",
       "var x = new MutationObserver(function (mutations, observer) {{\n",
       "        var display = window.getComputedStyle(gd).display;\n",
       "        if (!display || display === 'none') {{\n",
       "            console.log([gd, 'removed!']);\n",
       "            Plotly.purge(gd);\n",
       "            observer.disconnect();\n",
       "        }}\n",
       "}});\n",
       "\n",
       "// Listen for the removal of the full notebook cells\n",
       "var notebookContainer = gd.closest('#notebook-container');\n",
       "if (notebookContainer) {{\n",
       "    x.observe(notebookContainer, {childList: true});\n",
       "}}\n",
       "\n",
       "// Listen for the clearing of the current output cell\n",
       "var outputEl = gd.closest('.output');\n",
       "if (outputEl) {{\n",
       "    x.observe(outputEl, {childList: true});\n",
       "}}\n",
       "\n",
       "                        })                };                });            </script>        </div>"
      ]
     },
     "metadata": {},
     "output_type": "display_data"
    }
   ],
   "source": [
    "fig = px.line(icu_df, x=\"sited_year\", y=\"locational_marginal_price_usd_per_mwh\",color=\"tech_name\",markers=True)\n",
    "fig.show()"
   ]
  },
  {
   "cell_type": "code",
   "execution_count": null,
   "id": "f021e5dc",
   "metadata": {
    "scrolled": false
   },
   "outputs": [],
   "source": []
  },
  {
   "cell_type": "code",
   "execution_count": null,
   "id": "ae5fe111",
   "metadata": {},
   "outputs": [],
   "source": []
  },
  {
   "cell_type": "code",
   "execution_count": null,
   "id": "2e5be984",
   "metadata": {},
   "outputs": [],
   "source": []
  },
  {
   "cell_type": "code",
   "execution_count": null,
   "id": "6828e7c7",
   "metadata": {},
   "outputs": [],
   "source": []
  },
  {
   "cell_type": "code",
   "execution_count": null,
   "id": "b23d4546",
   "metadata": {},
   "outputs": [],
   "source": []
  },
  {
   "cell_type": "code",
   "execution_count": null,
   "id": "30cd1764",
   "metadata": {},
   "outputs": [],
   "source": []
  },
  {
   "cell_type": "code",
   "execution_count": null,
   "id": "f8ae4794",
   "metadata": {},
   "outputs": [],
   "source": []
  },
  {
   "cell_type": "code",
   "execution_count": null,
   "id": "f3a641e5",
   "metadata": {},
   "outputs": [],
   "source": []
  },
  {
   "cell_type": "code",
   "execution_count": null,
   "id": "98f2dd14",
   "metadata": {},
   "outputs": [],
   "source": []
  },
  {
   "cell_type": "code",
   "execution_count": null,
   "id": "dbcec786",
   "metadata": {},
   "outputs": [],
   "source": []
  },
  {
   "cell_type": "code",
   "execution_count": null,
   "id": "1c835bc2",
   "metadata": {},
   "outputs": [],
   "source": []
  }
 ],
 "metadata": {
  "kernelspec": {
   "display_name": "Python 3 (ipykernel)",
   "language": "python",
   "name": "python3"
  },
  "language_info": {
   "codemirror_mode": {
    "name": "ipython",
    "version": 3
   },
   "file_extension": ".py",
   "mimetype": "text/x-python",
   "name": "python",
   "nbconvert_exporter": "python",
   "pygments_lexer": "ipython3",
   "version": "3.9.12"
  }
 },
 "nbformat": 4,
 "nbformat_minor": 5
}
