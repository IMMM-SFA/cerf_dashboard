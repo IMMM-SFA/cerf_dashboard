{
 "cells": [
  {
   "cell_type": "code",
   "execution_count": 2,
   "id": "2ead6a60",
   "metadata": {},
   "outputs": [],
   "source": [
    "import cerf\n",
    "import pandas as pd\n",
    "import plotly.express as px"
   ]
  },
  {
   "cell_type": "code",
   "execution_count": 3,
   "id": "d9ccc740",
   "metadata": {},
   "outputs": [
    {
     "data": {
      "text/html": [
       "<div>\n",
       "<style scoped>\n",
       "    .dataframe tbody tr th:only-of-type {\n",
       "        vertical-align: middle;\n",
       "    }\n",
       "\n",
       "    .dataframe tbody tr th {\n",
       "        vertical-align: top;\n",
       "    }\n",
       "\n",
       "    .dataframe thead th {\n",
       "        text-align: right;\n",
       "    }\n",
       "</style>\n",
       "<table border=\"1\" class=\"dataframe\">\n",
       "  <thead>\n",
       "    <tr style=\"text-align: right;\">\n",
       "      <th></th>\n",
       "      <th>region_name</th>\n",
       "      <th>tech_id</th>\n",
       "      <th>tech_name</th>\n",
       "      <th>unit_size_mw</th>\n",
       "      <th>xcoord</th>\n",
       "      <th>ycoord</th>\n",
       "      <th>index</th>\n",
       "      <th>buffer_in_km</th>\n",
       "      <th>sited_year</th>\n",
       "      <th>retirement_year</th>\n",
       "      <th>...</th>\n",
       "      <th>carbon_capture_rate_fraction</th>\n",
       "      <th>fuel_co2_content_tons_per_btu</th>\n",
       "      <th>fuel_price_usd_per_mmbtu</th>\n",
       "      <th>fuel_price_esc_rate_fraction</th>\n",
       "      <th>heat_rate_btu_per_kWh</th>\n",
       "      <th>lifetime_yrs</th>\n",
       "      <th>variable_om_usd_per_mwh</th>\n",
       "      <th>variable_om_esc_rate_fraction</th>\n",
       "      <th>carbon_tax_usd_per_ton</th>\n",
       "      <th>carbon_tax_esc_rate_fraction</th>\n",
       "    </tr>\n",
       "  </thead>\n",
       "  <tbody>\n",
       "    <tr>\n",
       "      <th>0</th>\n",
       "      <td>alabama</td>\n",
       "      <td>4</td>\n",
       "      <td>coal_conv_pul_wo_ccs</td>\n",
       "      <td>600.0</td>\n",
       "      <td>7.449472e+05</td>\n",
       "      <td>-364565.2005</td>\n",
       "      <td>9267132</td>\n",
       "      <td>5</td>\n",
       "      <td>2010</td>\n",
       "      <td>2070</td>\n",
       "      <td>...</td>\n",
       "      <td>0.0</td>\n",
       "      <td>0.36036</td>\n",
       "      <td>2.39413</td>\n",
       "      <td>0.09122</td>\n",
       "      <td>8594.5</td>\n",
       "      <td>60.0</td>\n",
       "      <td>4.002582</td>\n",
       "      <td>-0.003990</td>\n",
       "      <td>0.0</td>\n",
       "      <td>0.0</td>\n",
       "    </tr>\n",
       "    <tr>\n",
       "      <th>1</th>\n",
       "      <td>alabama</td>\n",
       "      <td>4</td>\n",
       "      <td>coal_conv_pul_wo_ccs</td>\n",
       "      <td>600.0</td>\n",
       "      <td>7.909472e+05</td>\n",
       "      <td>-386565.2005</td>\n",
       "      <td>9370424</td>\n",
       "      <td>5</td>\n",
       "      <td>2010</td>\n",
       "      <td>2070</td>\n",
       "      <td>...</td>\n",
       "      <td>0.0</td>\n",
       "      <td>0.36036</td>\n",
       "      <td>2.39413</td>\n",
       "      <td>0.09122</td>\n",
       "      <td>8594.5</td>\n",
       "      <td>60.0</td>\n",
       "      <td>4.002582</td>\n",
       "      <td>-0.003990</td>\n",
       "      <td>0.0</td>\n",
       "      <td>0.0</td>\n",
       "    </tr>\n",
       "    <tr>\n",
       "      <th>2</th>\n",
       "      <td>alabama</td>\n",
       "      <td>4</td>\n",
       "      <td>coal_conv_pul_wo_ccs</td>\n",
       "      <td>600.0</td>\n",
       "      <td>8.549472e+05</td>\n",
       "      <td>-470565.2005</td>\n",
       "      <td>9764700</td>\n",
       "      <td>5</td>\n",
       "      <td>2010</td>\n",
       "      <td>2070</td>\n",
       "      <td>...</td>\n",
       "      <td>0.0</td>\n",
       "      <td>0.36036</td>\n",
       "      <td>2.39413</td>\n",
       "      <td>0.09122</td>\n",
       "      <td>8594.5</td>\n",
       "      <td>60.0</td>\n",
       "      <td>4.002582</td>\n",
       "      <td>-0.003990</td>\n",
       "      <td>0.0</td>\n",
       "      <td>0.0</td>\n",
       "    </tr>\n",
       "    <tr>\n",
       "      <th>3</th>\n",
       "      <td>alabama</td>\n",
       "      <td>4</td>\n",
       "      <td>coal_conv_pul_wo_ccs</td>\n",
       "      <td>600.0</td>\n",
       "      <td>9.579472e+05</td>\n",
       "      <td>-376565.2005</td>\n",
       "      <td>9323661</td>\n",
       "      <td>5</td>\n",
       "      <td>2010</td>\n",
       "      <td>2070</td>\n",
       "      <td>...</td>\n",
       "      <td>0.0</td>\n",
       "      <td>0.36036</td>\n",
       "      <td>2.39413</td>\n",
       "      <td>0.09122</td>\n",
       "      <td>8594.5</td>\n",
       "      <td>60.0</td>\n",
       "      <td>4.002582</td>\n",
       "      <td>-0.003990</td>\n",
       "      <td>0.0</td>\n",
       "      <td>0.0</td>\n",
       "    </tr>\n",
       "    <tr>\n",
       "      <th>4</th>\n",
       "      <td>alabama</td>\n",
       "      <td>4</td>\n",
       "      <td>coal_conv_pul_wo_ccs</td>\n",
       "      <td>600.0</td>\n",
       "      <td>7.749472e+05</td>\n",
       "      <td>-473565.2005</td>\n",
       "      <td>9778699</td>\n",
       "      <td>5</td>\n",
       "      <td>2010</td>\n",
       "      <td>2070</td>\n",
       "      <td>...</td>\n",
       "      <td>0.0</td>\n",
       "      <td>0.36036</td>\n",
       "      <td>2.39413</td>\n",
       "      <td>0.09122</td>\n",
       "      <td>8594.5</td>\n",
       "      <td>60.0</td>\n",
       "      <td>4.002582</td>\n",
       "      <td>-0.003990</td>\n",
       "      <td>0.0</td>\n",
       "      <td>0.0</td>\n",
       "    </tr>\n",
       "    <tr>\n",
       "      <th>...</th>\n",
       "      <td>...</td>\n",
       "      <td>...</td>\n",
       "      <td>...</td>\n",
       "      <td>...</td>\n",
       "      <td>...</td>\n",
       "      <td>...</td>\n",
       "      <td>...</td>\n",
       "      <td>...</td>\n",
       "      <td>...</td>\n",
       "      <td>...</td>\n",
       "      <td>...</td>\n",
       "      <td>...</td>\n",
       "      <td>...</td>\n",
       "      <td>...</td>\n",
       "      <td>...</td>\n",
       "      <td>...</td>\n",
       "      <td>...</td>\n",
       "      <td>...</td>\n",
       "      <td>...</td>\n",
       "      <td>...</td>\n",
       "      <td>...</td>\n",
       "    </tr>\n",
       "    <tr>\n",
       "      <th>8364</th>\n",
       "      <td>wyoming</td>\n",
       "      <td>18</td>\n",
       "      <td>wind_onshore</td>\n",
       "      <td>251.0</td>\n",
       "      <td>-7.290528e+05</td>\n",
       "      <td>550434.7995</td>\n",
       "      <td>4971563</td>\n",
       "      <td>5</td>\n",
       "      <td>2050</td>\n",
       "      <td>2080</td>\n",
       "      <td>...</td>\n",
       "      <td>0.0</td>\n",
       "      <td>0.00000</td>\n",
       "      <td>0.00000</td>\n",
       "      <td>0.00000</td>\n",
       "      <td>3412.0</td>\n",
       "      <td>30.0</td>\n",
       "      <td>0.000000</td>\n",
       "      <td>-0.002496</td>\n",
       "      <td>0.0</td>\n",
       "      <td>0.0</td>\n",
       "    </tr>\n",
       "    <tr>\n",
       "      <th>8365</th>\n",
       "      <td>wyoming</td>\n",
       "      <td>18</td>\n",
       "      <td>wind_onshore</td>\n",
       "      <td>251.0</td>\n",
       "      <td>-7.220528e+05</td>\n",
       "      <td>501434.7995</td>\n",
       "      <td>5201527</td>\n",
       "      <td>5</td>\n",
       "      <td>2050</td>\n",
       "      <td>2080</td>\n",
       "      <td>...</td>\n",
       "      <td>0.0</td>\n",
       "      <td>0.00000</td>\n",
       "      <td>0.00000</td>\n",
       "      <td>0.00000</td>\n",
       "      <td>3412.0</td>\n",
       "      <td>30.0</td>\n",
       "      <td>0.000000</td>\n",
       "      <td>-0.002496</td>\n",
       "      <td>0.0</td>\n",
       "      <td>0.0</td>\n",
       "    </tr>\n",
       "    <tr>\n",
       "      <th>8366</th>\n",
       "      <td>wyoming</td>\n",
       "      <td>18</td>\n",
       "      <td>wind_onshore</td>\n",
       "      <td>251.0</td>\n",
       "      <td>-8.190528e+05</td>\n",
       "      <td>479434.7995</td>\n",
       "      <td>5304676</td>\n",
       "      <td>5</td>\n",
       "      <td>2050</td>\n",
       "      <td>2080</td>\n",
       "      <td>...</td>\n",
       "      <td>0.0</td>\n",
       "      <td>0.00000</td>\n",
       "      <td>0.00000</td>\n",
       "      <td>0.00000</td>\n",
       "      <td>3412.0</td>\n",
       "      <td>30.0</td>\n",
       "      <td>0.000000</td>\n",
       "      <td>-0.002496</td>\n",
       "      <td>0.0</td>\n",
       "      <td>0.0</td>\n",
       "    </tr>\n",
       "    <tr>\n",
       "      <th>8367</th>\n",
       "      <td>wyoming</td>\n",
       "      <td>18</td>\n",
       "      <td>wind_onshore</td>\n",
       "      <td>251.0</td>\n",
       "      <td>-8.930528e+05</td>\n",
       "      <td>572434.7995</td>\n",
       "      <td>4868153</td>\n",
       "      <td>5</td>\n",
       "      <td>2050</td>\n",
       "      <td>2080</td>\n",
       "      <td>...</td>\n",
       "      <td>0.0</td>\n",
       "      <td>0.00000</td>\n",
       "      <td>0.00000</td>\n",
       "      <td>0.00000</td>\n",
       "      <td>3412.0</td>\n",
       "      <td>30.0</td>\n",
       "      <td>0.000000</td>\n",
       "      <td>-0.002496</td>\n",
       "      <td>0.0</td>\n",
       "      <td>0.0</td>\n",
       "    </tr>\n",
       "    <tr>\n",
       "      <th>8368</th>\n",
       "      <td>wyoming</td>\n",
       "      <td>18</td>\n",
       "      <td>wind_onshore</td>\n",
       "      <td>251.0</td>\n",
       "      <td>-1.223053e+06</td>\n",
       "      <td>538434.7995</td>\n",
       "      <td>5027385</td>\n",
       "      <td>5</td>\n",
       "      <td>2050</td>\n",
       "      <td>2080</td>\n",
       "      <td>...</td>\n",
       "      <td>0.0</td>\n",
       "      <td>0.00000</td>\n",
       "      <td>0.00000</td>\n",
       "      <td>0.00000</td>\n",
       "      <td>3412.0</td>\n",
       "      <td>30.0</td>\n",
       "      <td>0.000000</td>\n",
       "      <td>-0.002496</td>\n",
       "      <td>0.0</td>\n",
       "      <td>0.0</td>\n",
       "    </tr>\n",
       "  </tbody>\n",
       "</table>\n",
       "<p>8369 rows × 28 columns</p>\n",
       "</div>"
      ],
      "text/plain": [
       "     region_name  tech_id             tech_name  unit_size_mw        xcoord  \\\n",
       "0        alabama        4  coal_conv_pul_wo_ccs         600.0  7.449472e+05   \n",
       "1        alabama        4  coal_conv_pul_wo_ccs         600.0  7.909472e+05   \n",
       "2        alabama        4  coal_conv_pul_wo_ccs         600.0  8.549472e+05   \n",
       "3        alabama        4  coal_conv_pul_wo_ccs         600.0  9.579472e+05   \n",
       "4        alabama        4  coal_conv_pul_wo_ccs         600.0  7.749472e+05   \n",
       "...          ...      ...                   ...           ...           ...   \n",
       "8364     wyoming       18          wind_onshore         251.0 -7.290528e+05   \n",
       "8365     wyoming       18          wind_onshore         251.0 -7.220528e+05   \n",
       "8366     wyoming       18          wind_onshore         251.0 -8.190528e+05   \n",
       "8367     wyoming       18          wind_onshore         251.0 -8.930528e+05   \n",
       "8368     wyoming       18          wind_onshore         251.0 -1.223053e+06   \n",
       "\n",
       "           ycoord    index  buffer_in_km  sited_year  retirement_year  ...  \\\n",
       "0    -364565.2005  9267132             5        2010             2070  ...   \n",
       "1    -386565.2005  9370424             5        2010             2070  ...   \n",
       "2    -470565.2005  9764700             5        2010             2070  ...   \n",
       "3    -376565.2005  9323661             5        2010             2070  ...   \n",
       "4    -473565.2005  9778699             5        2010             2070  ...   \n",
       "...           ...      ...           ...         ...              ...  ...   \n",
       "8364  550434.7995  4971563             5        2050             2080  ...   \n",
       "8365  501434.7995  5201527             5        2050             2080  ...   \n",
       "8366  479434.7995  5304676             5        2050             2080  ...   \n",
       "8367  572434.7995  4868153             5        2050             2080  ...   \n",
       "8368  538434.7995  5027385             5        2050             2080  ...   \n",
       "\n",
       "      carbon_capture_rate_fraction  fuel_co2_content_tons_per_btu  \\\n",
       "0                              0.0                        0.36036   \n",
       "1                              0.0                        0.36036   \n",
       "2                              0.0                        0.36036   \n",
       "3                              0.0                        0.36036   \n",
       "4                              0.0                        0.36036   \n",
       "...                            ...                            ...   \n",
       "8364                           0.0                        0.00000   \n",
       "8365                           0.0                        0.00000   \n",
       "8366                           0.0                        0.00000   \n",
       "8367                           0.0                        0.00000   \n",
       "8368                           0.0                        0.00000   \n",
       "\n",
       "      fuel_price_usd_per_mmbtu  fuel_price_esc_rate_fraction  \\\n",
       "0                      2.39413                       0.09122   \n",
       "1                      2.39413                       0.09122   \n",
       "2                      2.39413                       0.09122   \n",
       "3                      2.39413                       0.09122   \n",
       "4                      2.39413                       0.09122   \n",
       "...                        ...                           ...   \n",
       "8364                   0.00000                       0.00000   \n",
       "8365                   0.00000                       0.00000   \n",
       "8366                   0.00000                       0.00000   \n",
       "8367                   0.00000                       0.00000   \n",
       "8368                   0.00000                       0.00000   \n",
       "\n",
       "      heat_rate_btu_per_kWh  lifetime_yrs  variable_om_usd_per_mwh  \\\n",
       "0                    8594.5          60.0                 4.002582   \n",
       "1                    8594.5          60.0                 4.002582   \n",
       "2                    8594.5          60.0                 4.002582   \n",
       "3                    8594.5          60.0                 4.002582   \n",
       "4                    8594.5          60.0                 4.002582   \n",
       "...                     ...           ...                      ...   \n",
       "8364                 3412.0          30.0                 0.000000   \n",
       "8365                 3412.0          30.0                 0.000000   \n",
       "8366                 3412.0          30.0                 0.000000   \n",
       "8367                 3412.0          30.0                 0.000000   \n",
       "8368                 3412.0          30.0                 0.000000   \n",
       "\n",
       "      variable_om_esc_rate_fraction  carbon_tax_usd_per_ton  \\\n",
       "0                         -0.003990                     0.0   \n",
       "1                         -0.003990                     0.0   \n",
       "2                         -0.003990                     0.0   \n",
       "3                         -0.003990                     0.0   \n",
       "4                         -0.003990                     0.0   \n",
       "...                             ...                     ...   \n",
       "8364                      -0.002496                     0.0   \n",
       "8365                      -0.002496                     0.0   \n",
       "8366                      -0.002496                     0.0   \n",
       "8367                      -0.002496                     0.0   \n",
       "8368                      -0.002496                     0.0   \n",
       "\n",
       "      carbon_tax_esc_rate_fraction  \n",
       "0                              0.0  \n",
       "1                              0.0  \n",
       "2                              0.0  \n",
       "3                              0.0  \n",
       "4                              0.0  \n",
       "...                            ...  \n",
       "8364                           0.0  \n",
       "8365                           0.0  \n",
       "8366                           0.0  \n",
       "8367                           0.0  \n",
       "8368                           0.0  \n",
       "\n",
       "[8369 rows x 28 columns]"
      ]
     },
     "execution_count": 3,
     "metadata": {},
     "output_type": "execute_result"
    }
   ],
   "source": [
    "df = pd.read_csv('example_cerf_output.csv')\n",
    "df"
   ]
  },
  {
   "cell_type": "code",
   "execution_count": 4,
   "id": "d0df145e",
   "metadata": {},
   "outputs": [
    {
     "name": "stdout",
     "output_type": "stream",
     "text": [
      "<class 'pandas.core.frame.DataFrame'>\n",
      "RangeIndex: 8369 entries, 0 to 8368\n",
      "Data columns (total 28 columns):\n",
      " #   Column                                 Non-Null Count  Dtype  \n",
      "---  ------                                 --------------  -----  \n",
      " 0   region_name                            8369 non-null   object \n",
      " 1   tech_id                                8369 non-null   int64  \n",
      " 2   tech_name                              8369 non-null   object \n",
      " 3   unit_size_mw                           8369 non-null   float64\n",
      " 4   xcoord                                 8369 non-null   float64\n",
      " 5   ycoord                                 8369 non-null   float64\n",
      " 6   index                                  8369 non-null   int64  \n",
      " 7   buffer_in_km                           8369 non-null   int64  \n",
      " 8   sited_year                             8369 non-null   int64  \n",
      " 9   retirement_year                        8369 non-null   int64  \n",
      " 10  lmp_zone                               8369 non-null   int64  \n",
      " 11  locational_marginal_price_usd_per_mwh  8367 non-null   float64\n",
      " 12  generation_mwh_per_year                8369 non-null   float64\n",
      " 13  operating_cost_usd_per_year            8367 non-null   float64\n",
      " 14  net_operational_value_usd_per_year     8367 non-null   float64\n",
      " 15  interconnection_cost_usd_per_year      8369 non-null   float64\n",
      " 16  net_locational_cost_usd_per_year       8369 non-null   float64\n",
      " 17  capacity_factor_fraction               8369 non-null   float64\n",
      " 18  carbon_capture_rate_fraction           8369 non-null   float64\n",
      " 19  fuel_co2_content_tons_per_btu          8369 non-null   float64\n",
      " 20  fuel_price_usd_per_mmbtu               8369 non-null   float64\n",
      " 21  fuel_price_esc_rate_fraction           8369 non-null   float64\n",
      " 22  heat_rate_btu_per_kWh                  8369 non-null   float64\n",
      " 23  lifetime_yrs                           8369 non-null   float64\n",
      " 24  variable_om_usd_per_mwh                8369 non-null   float64\n",
      " 25  variable_om_esc_rate_fraction          8369 non-null   float64\n",
      " 26  carbon_tax_usd_per_ton                 8369 non-null   float64\n",
      " 27  carbon_tax_esc_rate_fraction           8369 non-null   float64\n",
      "dtypes: float64(20), int64(6), object(2)\n",
      "memory usage: 1.8+ MB\n",
      "None\n"
     ]
    }
   ],
   "source": [
    "print(df.info())"
   ]
  },
  {
   "cell_type": "code",
   "execution_count": 5,
   "id": "033811dc",
   "metadata": {},
   "outputs": [
    {
     "data": {
      "text/html": [
       "<div>\n",
       "<style scoped>\n",
       "    .dataframe tbody tr th:only-of-type {\n",
       "        vertical-align: middle;\n",
       "    }\n",
       "\n",
       "    .dataframe tbody tr th {\n",
       "        vertical-align: top;\n",
       "    }\n",
       "\n",
       "    .dataframe thead th {\n",
       "        text-align: right;\n",
       "    }\n",
       "</style>\n",
       "<table border=\"1\" class=\"dataframe\">\n",
       "  <thead>\n",
       "    <tr style=\"text-align: right;\">\n",
       "      <th></th>\n",
       "      <th>region_name</th>\n",
       "      <th>tech_id</th>\n",
       "      <th>tech_name</th>\n",
       "      <th>unit_size_mw</th>\n",
       "      <th>xcoord</th>\n",
       "      <th>ycoord</th>\n",
       "      <th>index</th>\n",
       "      <th>buffer_in_km</th>\n",
       "      <th>sited_year</th>\n",
       "      <th>retirement_year</th>\n",
       "      <th>...</th>\n",
       "      <th>carbon_capture_rate_fraction</th>\n",
       "      <th>fuel_co2_content_tons_per_btu</th>\n",
       "      <th>fuel_price_usd_per_mmbtu</th>\n",
       "      <th>fuel_price_esc_rate_fraction</th>\n",
       "      <th>heat_rate_btu_per_kWh</th>\n",
       "      <th>lifetime_yrs</th>\n",
       "      <th>variable_om_usd_per_mwh</th>\n",
       "      <th>variable_om_esc_rate_fraction</th>\n",
       "      <th>carbon_tax_usd_per_ton</th>\n",
       "      <th>carbon_tax_esc_rate_fraction</th>\n",
       "    </tr>\n",
       "  </thead>\n",
       "  <tbody>\n",
       "    <tr>\n",
       "      <th>1553</th>\n",
       "      <td>alabama</td>\n",
       "      <td>4</td>\n",
       "      <td>coal_conv_pul_wo_ccs</td>\n",
       "      <td>600.0</td>\n",
       "      <td>8.569472e+05</td>\n",
       "      <td>-638565.2005</td>\n",
       "      <td>10553126</td>\n",
       "      <td>5</td>\n",
       "      <td>2030</td>\n",
       "      <td>2090</td>\n",
       "      <td>...</td>\n",
       "      <td>0.0</td>\n",
       "      <td>0.36036</td>\n",
       "      <td>2.45646</td>\n",
       "      <td>0.00804</td>\n",
       "      <td>7861.8</td>\n",
       "      <td>60.0</td>\n",
       "      <td>3.873467</td>\n",
       "      <td>-0.003990</td>\n",
       "      <td>0.0</td>\n",
       "      <td>0.0</td>\n",
       "    </tr>\n",
       "    <tr>\n",
       "      <th>1554</th>\n",
       "      <td>alabama</td>\n",
       "      <td>4</td>\n",
       "      <td>coal_conv_pul_wo_ccs</td>\n",
       "      <td>600.0</td>\n",
       "      <td>8.159472e+05</td>\n",
       "      <td>-360565.2005</td>\n",
       "      <td>9248431</td>\n",
       "      <td>5</td>\n",
       "      <td>2030</td>\n",
       "      <td>2090</td>\n",
       "      <td>...</td>\n",
       "      <td>0.0</td>\n",
       "      <td>0.36036</td>\n",
       "      <td>2.45646</td>\n",
       "      <td>0.00804</td>\n",
       "      <td>7861.8</td>\n",
       "      <td>60.0</td>\n",
       "      <td>3.873467</td>\n",
       "      <td>-0.003990</td>\n",
       "      <td>0.0</td>\n",
       "      <td>0.0</td>\n",
       "    </tr>\n",
       "    <tr>\n",
       "      <th>1555</th>\n",
       "      <td>alabama</td>\n",
       "      <td>4</td>\n",
       "      <td>coal_conv_pul_wo_ccs</td>\n",
       "      <td>600.0</td>\n",
       "      <td>9.789472e+05</td>\n",
       "      <td>-492565.2005</td>\n",
       "      <td>9868070</td>\n",
       "      <td>5</td>\n",
       "      <td>2030</td>\n",
       "      <td>2090</td>\n",
       "      <td>...</td>\n",
       "      <td>0.0</td>\n",
       "      <td>0.36036</td>\n",
       "      <td>2.45646</td>\n",
       "      <td>0.00804</td>\n",
       "      <td>7861.8</td>\n",
       "      <td>60.0</td>\n",
       "      <td>3.873467</td>\n",
       "      <td>-0.003990</td>\n",
       "      <td>0.0</td>\n",
       "      <td>0.0</td>\n",
       "    </tr>\n",
       "    <tr>\n",
       "      <th>1556</th>\n",
       "      <td>alabama</td>\n",
       "      <td>4</td>\n",
       "      <td>coal_conv_pul_wo_ccs</td>\n",
       "      <td>600.0</td>\n",
       "      <td>8.479472e+05</td>\n",
       "      <td>-674565.2005</td>\n",
       "      <td>10722065</td>\n",
       "      <td>5</td>\n",
       "      <td>2030</td>\n",
       "      <td>2090</td>\n",
       "      <td>...</td>\n",
       "      <td>0.0</td>\n",
       "      <td>0.36036</td>\n",
       "      <td>2.45646</td>\n",
       "      <td>0.00804</td>\n",
       "      <td>7861.8</td>\n",
       "      <td>60.0</td>\n",
       "      <td>3.873467</td>\n",
       "      <td>-0.003990</td>\n",
       "      <td>0.0</td>\n",
       "      <td>0.0</td>\n",
       "    </tr>\n",
       "    <tr>\n",
       "      <th>1557</th>\n",
       "      <td>alabama</td>\n",
       "      <td>4</td>\n",
       "      <td>coal_conv_pul_wo_ccs</td>\n",
       "      <td>600.0</td>\n",
       "      <td>7.929472e+05</td>\n",
       "      <td>-462565.2005</td>\n",
       "      <td>9727094</td>\n",
       "      <td>5</td>\n",
       "      <td>2030</td>\n",
       "      <td>2090</td>\n",
       "      <td>...</td>\n",
       "      <td>0.0</td>\n",
       "      <td>0.36036</td>\n",
       "      <td>2.45646</td>\n",
       "      <td>0.00804</td>\n",
       "      <td>7861.8</td>\n",
       "      <td>60.0</td>\n",
       "      <td>3.873467</td>\n",
       "      <td>-0.003990</td>\n",
       "      <td>0.0</td>\n",
       "      <td>0.0</td>\n",
       "    </tr>\n",
       "    <tr>\n",
       "      <th>...</th>\n",
       "      <td>...</td>\n",
       "      <td>...</td>\n",
       "      <td>...</td>\n",
       "      <td>...</td>\n",
       "      <td>...</td>\n",
       "      <td>...</td>\n",
       "      <td>...</td>\n",
       "      <td>...</td>\n",
       "      <td>...</td>\n",
       "      <td>...</td>\n",
       "      <td>...</td>\n",
       "      <td>...</td>\n",
       "      <td>...</td>\n",
       "      <td>...</td>\n",
       "      <td>...</td>\n",
       "      <td>...</td>\n",
       "      <td>...</td>\n",
       "      <td>...</td>\n",
       "      <td>...</td>\n",
       "      <td>...</td>\n",
       "      <td>...</td>\n",
       "    </tr>\n",
       "    <tr>\n",
       "      <th>3911</th>\n",
       "      <td>wyoming</td>\n",
       "      <td>17</td>\n",
       "      <td>solar_pv_non_dist</td>\n",
       "      <td>80.0</td>\n",
       "      <td>-1.123053e+06</td>\n",
       "      <td>662434.7995</td>\n",
       "      <td>4445553</td>\n",
       "      <td>5</td>\n",
       "      <td>2030</td>\n",
       "      <td>2060</td>\n",
       "      <td>...</td>\n",
       "      <td>0.0</td>\n",
       "      <td>0.00000</td>\n",
       "      <td>0.00000</td>\n",
       "      <td>0.00000</td>\n",
       "      <td>3412.0</td>\n",
       "      <td>30.0</td>\n",
       "      <td>0.000000</td>\n",
       "      <td>1.000000</td>\n",
       "      <td>0.0</td>\n",
       "      <td>0.0</td>\n",
       "    </tr>\n",
       "    <tr>\n",
       "      <th>3912</th>\n",
       "      <td>wyoming</td>\n",
       "      <td>18</td>\n",
       "      <td>wind_onshore</td>\n",
       "      <td>251.0</td>\n",
       "      <td>-7.150528e+05</td>\n",
       "      <td>568434.7995</td>\n",
       "      <td>4887103</td>\n",
       "      <td>5</td>\n",
       "      <td>2030</td>\n",
       "      <td>2060</td>\n",
       "      <td>...</td>\n",
       "      <td>0.0</td>\n",
       "      <td>0.00000</td>\n",
       "      <td>0.00000</td>\n",
       "      <td>0.00000</td>\n",
       "      <td>3412.0</td>\n",
       "      <td>30.0</td>\n",
       "      <td>0.000000</td>\n",
       "      <td>-0.002496</td>\n",
       "      <td>0.0</td>\n",
       "      <td>0.0</td>\n",
       "    </tr>\n",
       "    <tr>\n",
       "      <th>3913</th>\n",
       "      <td>wyoming</td>\n",
       "      <td>18</td>\n",
       "      <td>wind_onshore</td>\n",
       "      <td>251.0</td>\n",
       "      <td>-7.540528e+05</td>\n",
       "      <td>818434.7995</td>\n",
       "      <td>3713814</td>\n",
       "      <td>5</td>\n",
       "      <td>2030</td>\n",
       "      <td>2060</td>\n",
       "      <td>...</td>\n",
       "      <td>0.0</td>\n",
       "      <td>0.00000</td>\n",
       "      <td>0.00000</td>\n",
       "      <td>0.00000</td>\n",
       "      <td>3412.0</td>\n",
       "      <td>30.0</td>\n",
       "      <td>0.000000</td>\n",
       "      <td>-0.002496</td>\n",
       "      <td>0.0</td>\n",
       "      <td>0.0</td>\n",
       "    </tr>\n",
       "    <tr>\n",
       "      <th>3914</th>\n",
       "      <td>wyoming</td>\n",
       "      <td>18</td>\n",
       "      <td>wind_onshore</td>\n",
       "      <td>251.0</td>\n",
       "      <td>-1.240053e+06</td>\n",
       "      <td>523434.7995</td>\n",
       "      <td>5097763</td>\n",
       "      <td>5</td>\n",
       "      <td>2030</td>\n",
       "      <td>2060</td>\n",
       "      <td>...</td>\n",
       "      <td>0.0</td>\n",
       "      <td>0.00000</td>\n",
       "      <td>0.00000</td>\n",
       "      <td>0.00000</td>\n",
       "      <td>3412.0</td>\n",
       "      <td>30.0</td>\n",
       "      <td>0.000000</td>\n",
       "      <td>-0.002496</td>\n",
       "      <td>0.0</td>\n",
       "      <td>0.0</td>\n",
       "    </tr>\n",
       "    <tr>\n",
       "      <th>3915</th>\n",
       "      <td>wyoming</td>\n",
       "      <td>18</td>\n",
       "      <td>wind_onshore</td>\n",
       "      <td>251.0</td>\n",
       "      <td>-1.196053e+06</td>\n",
       "      <td>572434.7995</td>\n",
       "      <td>4867850</td>\n",
       "      <td>5</td>\n",
       "      <td>2030</td>\n",
       "      <td>2060</td>\n",
       "      <td>...</td>\n",
       "      <td>0.0</td>\n",
       "      <td>0.00000</td>\n",
       "      <td>0.00000</td>\n",
       "      <td>0.00000</td>\n",
       "      <td>3412.0</td>\n",
       "      <td>30.0</td>\n",
       "      <td>0.000000</td>\n",
       "      <td>-0.002496</td>\n",
       "      <td>0.0</td>\n",
       "      <td>0.0</td>\n",
       "    </tr>\n",
       "  </tbody>\n",
       "</table>\n",
       "<p>2363 rows × 28 columns</p>\n",
       "</div>"
      ],
      "text/plain": [
       "     region_name  tech_id             tech_name  unit_size_mw        xcoord  \\\n",
       "1553     alabama        4  coal_conv_pul_wo_ccs         600.0  8.569472e+05   \n",
       "1554     alabama        4  coal_conv_pul_wo_ccs         600.0  8.159472e+05   \n",
       "1555     alabama        4  coal_conv_pul_wo_ccs         600.0  9.789472e+05   \n",
       "1556     alabama        4  coal_conv_pul_wo_ccs         600.0  8.479472e+05   \n",
       "1557     alabama        4  coal_conv_pul_wo_ccs         600.0  7.929472e+05   \n",
       "...          ...      ...                   ...           ...           ...   \n",
       "3911     wyoming       17     solar_pv_non_dist          80.0 -1.123053e+06   \n",
       "3912     wyoming       18          wind_onshore         251.0 -7.150528e+05   \n",
       "3913     wyoming       18          wind_onshore         251.0 -7.540528e+05   \n",
       "3914     wyoming       18          wind_onshore         251.0 -1.240053e+06   \n",
       "3915     wyoming       18          wind_onshore         251.0 -1.196053e+06   \n",
       "\n",
       "           ycoord     index  buffer_in_km  sited_year  retirement_year  ...  \\\n",
       "1553 -638565.2005  10553126             5        2030             2090  ...   \n",
       "1554 -360565.2005   9248431             5        2030             2090  ...   \n",
       "1555 -492565.2005   9868070             5        2030             2090  ...   \n",
       "1556 -674565.2005  10722065             5        2030             2090  ...   \n",
       "1557 -462565.2005   9727094             5        2030             2090  ...   \n",
       "...           ...       ...           ...         ...              ...  ...   \n",
       "3911  662434.7995   4445553             5        2030             2060  ...   \n",
       "3912  568434.7995   4887103             5        2030             2060  ...   \n",
       "3913  818434.7995   3713814             5        2030             2060  ...   \n",
       "3914  523434.7995   5097763             5        2030             2060  ...   \n",
       "3915  572434.7995   4867850             5        2030             2060  ...   \n",
       "\n",
       "      carbon_capture_rate_fraction  fuel_co2_content_tons_per_btu  \\\n",
       "1553                           0.0                        0.36036   \n",
       "1554                           0.0                        0.36036   \n",
       "1555                           0.0                        0.36036   \n",
       "1556                           0.0                        0.36036   \n",
       "1557                           0.0                        0.36036   \n",
       "...                            ...                            ...   \n",
       "3911                           0.0                        0.00000   \n",
       "3912                           0.0                        0.00000   \n",
       "3913                           0.0                        0.00000   \n",
       "3914                           0.0                        0.00000   \n",
       "3915                           0.0                        0.00000   \n",
       "\n",
       "      fuel_price_usd_per_mmbtu  fuel_price_esc_rate_fraction  \\\n",
       "1553                   2.45646                       0.00804   \n",
       "1554                   2.45646                       0.00804   \n",
       "1555                   2.45646                       0.00804   \n",
       "1556                   2.45646                       0.00804   \n",
       "1557                   2.45646                       0.00804   \n",
       "...                        ...                           ...   \n",
       "3911                   0.00000                       0.00000   \n",
       "3912                   0.00000                       0.00000   \n",
       "3913                   0.00000                       0.00000   \n",
       "3914                   0.00000                       0.00000   \n",
       "3915                   0.00000                       0.00000   \n",
       "\n",
       "      heat_rate_btu_per_kWh  lifetime_yrs  variable_om_usd_per_mwh  \\\n",
       "1553                 7861.8          60.0                 3.873467   \n",
       "1554                 7861.8          60.0                 3.873467   \n",
       "1555                 7861.8          60.0                 3.873467   \n",
       "1556                 7861.8          60.0                 3.873467   \n",
       "1557                 7861.8          60.0                 3.873467   \n",
       "...                     ...           ...                      ...   \n",
       "3911                 3412.0          30.0                 0.000000   \n",
       "3912                 3412.0          30.0                 0.000000   \n",
       "3913                 3412.0          30.0                 0.000000   \n",
       "3914                 3412.0          30.0                 0.000000   \n",
       "3915                 3412.0          30.0                 0.000000   \n",
       "\n",
       "      variable_om_esc_rate_fraction  carbon_tax_usd_per_ton  \\\n",
       "1553                      -0.003990                     0.0   \n",
       "1554                      -0.003990                     0.0   \n",
       "1555                      -0.003990                     0.0   \n",
       "1556                      -0.003990                     0.0   \n",
       "1557                      -0.003990                     0.0   \n",
       "...                             ...                     ...   \n",
       "3911                       1.000000                     0.0   \n",
       "3912                      -0.002496                     0.0   \n",
       "3913                      -0.002496                     0.0   \n",
       "3914                      -0.002496                     0.0   \n",
       "3915                      -0.002496                     0.0   \n",
       "\n",
       "      carbon_tax_esc_rate_fraction  \n",
       "1553                           0.0  \n",
       "1554                           0.0  \n",
       "1555                           0.0  \n",
       "1556                           0.0  \n",
       "1557                           0.0  \n",
       "...                            ...  \n",
       "3911                           0.0  \n",
       "3912                           0.0  \n",
       "3913                           0.0  \n",
       "3914                           0.0  \n",
       "3915                           0.0  \n",
       "\n",
       "[2363 rows x 28 columns]"
      ]
     },
     "execution_count": 5,
     "metadata": {},
     "output_type": "execute_result"
    }
   ],
   "source": [
    "new_df = df.loc[(df[\"sited_year\"] == 2030)].copy()\n",
    "new_df"
   ]
  },
  {
   "cell_type": "code",
   "execution_count": null,
   "id": "1e6725f4",
   "metadata": {},
   "outputs": [],
   "source": []
  },
  {
   "cell_type": "code",
   "execution_count": 6,
   "id": "4ff368b7",
   "metadata": {},
   "outputs": [],
   "source": [
    "specific_df = new_df.loc[(df[\"region_name\"] == \"california\")].copy()"
   ]
  },
  {
   "cell_type": "code",
   "execution_count": 7,
   "id": "b6a043d0",
   "metadata": {},
   "outputs": [
    {
     "data": {
      "text/html": [
       "<div>\n",
       "<style scoped>\n",
       "    .dataframe tbody tr th:only-of-type {\n",
       "        vertical-align: middle;\n",
       "    }\n",
       "\n",
       "    .dataframe tbody tr th {\n",
       "        vertical-align: top;\n",
       "    }\n",
       "\n",
       "    .dataframe thead th {\n",
       "        text-align: right;\n",
       "    }\n",
       "</style>\n",
       "<table border=\"1\" class=\"dataframe\">\n",
       "  <thead>\n",
       "    <tr style=\"text-align: right;\">\n",
       "      <th></th>\n",
       "      <th>region_name</th>\n",
       "      <th>tech_name</th>\n",
       "      <th>locational_marginal_price_usd_per_mwh</th>\n",
       "    </tr>\n",
       "  </thead>\n",
       "  <tbody>\n",
       "    <tr>\n",
       "      <th>0</th>\n",
       "      <td>alabama</td>\n",
       "      <td>coal_conv_pul_wo_ccs</td>\n",
       "      <td>1417.011633</td>\n",
       "    </tr>\n",
       "    <tr>\n",
       "      <th>1</th>\n",
       "      <td>alabama</td>\n",
       "      <td>gas_cc_w_ccs</td>\n",
       "      <td>6765.062859</td>\n",
       "    </tr>\n",
       "    <tr>\n",
       "      <th>2</th>\n",
       "      <td>alabama</td>\n",
       "      <td>gas_cc_wo_ccs</td>\n",
       "      <td>4267.669584</td>\n",
       "    </tr>\n",
       "    <tr>\n",
       "      <th>3</th>\n",
       "      <td>alabama</td>\n",
       "      <td>nuclear_gen_ii</td>\n",
       "      <td>536.333136</td>\n",
       "    </tr>\n",
       "    <tr>\n",
       "      <th>4</th>\n",
       "      <td>alabama</td>\n",
       "      <td>solar_pv_non_dist</td>\n",
       "      <td>6405.158765</td>\n",
       "    </tr>\n",
       "    <tr>\n",
       "      <th>...</th>\n",
       "      <td>...</td>\n",
       "      <td>...</td>\n",
       "      <td>...</td>\n",
       "    </tr>\n",
       "    <tr>\n",
       "      <th>249</th>\n",
       "      <td>wyoming</td>\n",
       "      <td>coal_conv_pul_wo_ccs</td>\n",
       "      <td>2151.098888</td>\n",
       "    </tr>\n",
       "    <tr>\n",
       "      <th>250</th>\n",
       "      <td>wyoming</td>\n",
       "      <td>gas_cc_w_ccs</td>\n",
       "      <td>864.994395</td>\n",
       "    </tr>\n",
       "    <tr>\n",
       "      <th>251</th>\n",
       "      <td>wyoming</td>\n",
       "      <td>solar_csp</td>\n",
       "      <td>301.068461</td>\n",
       "    </tr>\n",
       "    <tr>\n",
       "      <th>252</th>\n",
       "      <td>wyoming</td>\n",
       "      <td>solar_pv_non_dist</td>\n",
       "      <td>382.334907</td>\n",
       "    </tr>\n",
       "    <tr>\n",
       "      <th>253</th>\n",
       "      <td>wyoming</td>\n",
       "      <td>wind_onshore</td>\n",
       "      <td>1195.912271</td>\n",
       "    </tr>\n",
       "  </tbody>\n",
       "</table>\n",
       "<p>254 rows × 3 columns</p>\n",
       "</div>"
      ],
      "text/plain": [
       "    region_name             tech_name  locational_marginal_price_usd_per_mwh\n",
       "0       alabama  coal_conv_pul_wo_ccs                            1417.011633\n",
       "1       alabama          gas_cc_w_ccs                            6765.062859\n",
       "2       alabama         gas_cc_wo_ccs                            4267.669584\n",
       "3       alabama        nuclear_gen_ii                             536.333136\n",
       "4       alabama     solar_pv_non_dist                            6405.158765\n",
       "..          ...                   ...                                    ...\n",
       "249     wyoming  coal_conv_pul_wo_ccs                            2151.098888\n",
       "250     wyoming          gas_cc_w_ccs                             864.994395\n",
       "251     wyoming             solar_csp                             301.068461\n",
       "252     wyoming     solar_pv_non_dist                             382.334907\n",
       "253     wyoming          wind_onshore                            1195.912271\n",
       "\n",
       "[254 rows x 3 columns]"
      ]
     },
     "execution_count": 7,
     "metadata": {},
     "output_type": "execute_result"
    }
   ],
   "source": [
    "sum_df = new_df.groupby(by=['region_name','tech_name'])['locational_marginal_price_usd_per_mwh'].sum().reset_index()\n",
    "sum_df"
   ]
  },
  {
   "cell_type": "code",
   "execution_count": 18,
   "id": "c310af41",
   "metadata": {
    "scrolled": false
   },
   "outputs": [
    {
     "data": {
      "application/vnd.plotly.v1+json": {
       "config": {
        "plotlyServerURL": "https://plot.ly"
       },
       "data": [
        {
         "alignmentgroup": "True",
         "hovertemplate": "Type of Power Plant=coal_conv_pul_wo_ccs<br>State=%{x}<br>Locational Marginal Price Per MWH=%{y}<extra></extra>",
         "legendgroup": "coal_conv_pul_wo_ccs",
         "marker": {
          "color": "#F4B183",
          "pattern": {
           "shape": ""
          }
         },
         "name": "coal_conv_pul_wo_ccs",
         "offsetgroup": "coal_conv_pul_wo_ccs",
         "orientation": "v",
         "showlegend": true,
         "textposition": "auto",
         "type": "bar",
         "x": [
          "alabama",
          "arizona",
          "arkansas",
          "colorado",
          "florida",
          "georgia",
          "illinois",
          "indiana",
          "iowa",
          "kansas",
          "kentucky",
          "louisiana",
          "maryland",
          "michigan",
          "minnesota",
          "mississippi",
          "missouri",
          "montana",
          "nebraska",
          "new_mexico",
          "north_carolina",
          "north_dakota",
          "ohio",
          "oklahoma",
          "pennsylvania",
          "south_carolina",
          "tennessee",
          "texas",
          "utah",
          "virginia",
          "west_virginia",
          "wisconsin",
          "wyoming"
         ],
         "xaxis": "x",
         "y": [
          1417.0116330003852,
          1514.0811290967008,
          497.57591862225183,
          829.6329445782784,
          1530.728571789359,
          1417.0116330003852,
          2980.024524680414,
          3218.868486661397,
          1584.9149867200945,
          572.1827038064416,
          2730.0917830616813,
          516.744268953585,
          228.8132101576732,
          2030.7806537576353,
          1193.5288063331982,
          157.4457370000428,
          2369.980335420291,
          628.6807567573783,
          958.4317063052788,
          274.0168963543834,
          1455.7739528658024,
          1232.2693366782157,
          3211.872685954919,
          597.0911023467022,
          2340.2619344776967,
          466.63529820117515,
          740.0196545244835,
          5716.3128484659555,
          970.4421774211488,
          647.0106457181344,
          2890.685417359427,
          1092.9540141293753,
          2151.098887502978
         ],
         "yaxis": "y"
        },
        {
         "alignmentgroup": "True",
         "hovertemplate": "Type of Power Plant=gas_cc_w_ccs<br>State=%{x}<br>Locational Marginal Price Per MWH=%{y}<extra></extra>",
         "legendgroup": "gas_cc_w_ccs",
         "marker": {
          "color": "#FFE699",
          "pattern": {
           "shape": ""
          }
         },
         "name": "gas_cc_w_ccs",
         "offsetgroup": "gas_cc_w_ccs",
         "orientation": "v",
         "showlegend": true,
         "textposition": "auto",
         "type": "bar",
         "x": [
          "alabama",
          "arizona",
          "arkansas",
          "california",
          "colorado",
          "connecticut",
          "delaware",
          "florida",
          "georgia",
          "idaho",
          "illinois",
          "indiana",
          "iowa",
          "kansas",
          "kentucky",
          "louisiana",
          "maine",
          "maryland",
          "massachusetts",
          "michigan",
          "minnesota",
          "mississippi",
          "missouri",
          "montana",
          "nebraska",
          "nevada",
          "new_hampshire",
          "new_jersey",
          "new_mexico",
          "new_york",
          "north_carolina",
          "north_dakota",
          "ohio",
          "oklahoma",
          "oregon",
          "pennsylvania",
          "rhode_island",
          "south_carolina",
          "tennessee",
          "texas",
          "utah",
          "vermont",
          "virginia",
          "washington",
          "west_virginia",
          "wisconsin",
          "wyoming"
         ],
         "xaxis": "x",
         "y": [
          6765.062859320536,
          3495.1311162760903,
          1605.0698163917336,
          6682.768296264319,
          1000.8462837837808,
          1186.4997680900062,
          390.0469879697041,
          13317.48168973765,
          5610.05212724142,
          172.27576400601504,
          6189.280787522663,
          3865.019251043308,
          1101.7708060800487,
          308.57296423135523,
          3024.797674729545,
          4506.505191835687,
          315.40977152952024,
          1365.1644578939645,
          1713.8329983522312,
          4596.236233493768,
          1285.3992737600568,
          4125.038328853985,
          2014.6803790091385,
          494.04104018401927,
          433.1558685397733,
          1996.022170172454,
          746.7020710779263,
          4485.540361651597,
          1011.290071749834,
          6513.32234266228,
          4568.431289337272,
          433.1558685397733,
          4873.285142619823,
          2140.0930885223115,
          1183.45299523268,
          8452.307084653148,
          448.0212426467558,
          2420.8705664568633,
          2419.8808103194574,
          24551.104050625872,
          1158.4512320539711,
          101.15215626585504,
          3722.4254950155546,
          992.2658732362507,
          2184.576098415783,
          1401.5838125796995,
          864.9943945086645
         ],
         "yaxis": "y"
        },
        {
         "alignmentgroup": "True",
         "hovertemplate": "Type of Power Plant=gas_cc_wo_ccs<br>State=%{x}<br>Locational Marginal Price Per MWH=%{y}<extra></extra>",
         "legendgroup": "gas_cc_wo_ccs",
         "marker": {
          "color": "#AFABAB",
          "pattern": {
           "shape": ""
          }
         },
         "name": "gas_cc_wo_ccs",
         "offsetgroup": "gas_cc_wo_ccs",
         "orientation": "v",
         "showlegend": true,
         "textposition": "auto",
         "type": "bar",
         "x": [
          "alabama",
          "arizona",
          "arkansas",
          "california",
          "colorado",
          "connecticut",
          "delaware",
          "florida",
          "georgia",
          "illinois",
          "indiana",
          "iowa",
          "kentucky",
          "louisiana",
          "maine",
          "maryland",
          "massachusetts",
          "michigan",
          "minnesota",
          "mississippi",
          "missouri",
          "nevada",
          "new_jersey",
          "new_york",
          "north_carolina",
          "ohio",
          "oklahoma",
          "oregon",
          "pennsylvania",
          "rhode_island",
          "south_carolina",
          "tennessee",
          "texas",
          "utah",
          "virginia",
          "washington",
          "wisconsin"
         ],
         "xaxis": "x",
         "y": [
          4267.669583631679,
          558.5811671190583,
          1134.4101409635173,
          1768.1021810165118,
          230.84559120118303,
          503.2691062596765,
          315.9335188238149,
          3569.7654565841262,
          2560.601750179008,
          910.1752539508066,
          572.549867705041,
          303.39175131693554,
          572.549867705041,
          4336.960436638127,
          276.0520057025607,
          315.9335188238149,
          1006.538212519353,
          1190.4450474504065,
          606.7835026338711,
          3414.135666905344,
          491.9988731800208,
          2139.4147362242093,
          3475.268707061964,
          3197.2133158574425,
          1154.102635537568,
          858.8248015575616,
          453.76405638540695,
          1189.0985673751427,
          4423.069263533409,
          269.38682633650205,
          878.710351016452,
          286.2749338525205,
          12179.565700635929,
          497.30759641341854,
          2308.205271075136,
          920.9146915862264,
          711.090355558886
         ],
         "yaxis": "y"
        },
        {
         "alignmentgroup": "True",
         "hovertemplate": "Type of Power Plant=nuclear_gen_ii<br>State=%{x}<br>Locational Marginal Price Per MWH=%{y}<extra></extra>",
         "legendgroup": "nuclear_gen_ii",
         "marker": {
          "color": "#D993D9",
          "pattern": {
           "shape": ""
          }
         },
         "name": "nuclear_gen_ii",
         "offsetgroup": "nuclear_gen_ii",
         "orientation": "v",
         "showlegend": true,
         "textposition": "auto",
         "type": "bar",
         "x": [
          "alabama",
          "arizona",
          "arkansas",
          "connecticut",
          "florida",
          "georgia",
          "illinois",
          "louisiana",
          "maryland",
          "michigan",
          "minnesota",
          "new_hampshire",
          "new_jersey",
          "new_york",
          "north_carolina",
          "ohio",
          "pennsylvania",
          "south_carolina",
          "tennessee",
          "texas",
          "virginia"
         ],
         "xaxis": "x",
         "y": [
          536.3331355708847,
          518.0149967318928,
          120.6903275421544,
          145.5041988716266,
          191.22824343877085,
          536.3331355708847,
          1163.1752165407393,
          149.98057113429974,
          208.8711431624409,
          381.3465973330007,
          197.20360131821212,
          163.0294582507417,
          417.7422863248818,
          370.1006664706284,
          548.3341163842701,
          181.53521017212103,
          1112.192987076367,
          457.18123125662333,
          337.854908790069,
          797.8780431369962,
          365.5560775895134
         ],
         "yaxis": "y"
        },
        {
         "alignmentgroup": "True",
         "hovertemplate": "Type of Power Plant=solar_pv_non_dist<br>State=%{x}<br>Locational Marginal Price Per MWH=%{y}<extra></extra>",
         "legendgroup": "solar_pv_non_dist",
         "marker": {
          "color": "#FF8B7D",
          "pattern": {
           "shape": ""
          }
         },
         "name": "solar_pv_non_dist",
         "offsetgroup": "solar_pv_non_dist",
         "orientation": "v",
         "showlegend": true,
         "textposition": "auto",
         "type": "bar",
         "x": [
          "alabama",
          "arizona",
          "arkansas",
          "california",
          "colorado",
          "connecticut",
          "delaware",
          "district_of_columbia",
          "florida",
          "georgia",
          "illinois",
          "indiana",
          "iowa",
          "kansas",
          "kentucky",
          "louisiana",
          "maine",
          "maryland",
          "massachusetts",
          "michigan",
          "minnesota",
          "mississippi",
          "missouri",
          "montana",
          "nevada",
          "new_hampshire",
          "new_jersey",
          "new_mexico",
          "new_york",
          "north_carolina",
          "ohio",
          "oklahoma",
          "oregon",
          "pennsylvania",
          "rhode_island",
          "south_carolina",
          "tennessee",
          "texas",
          "utah",
          "vermont",
          "virginia",
          "washington",
          "west_virginia",
          "wisconsin",
          "wyoming"
         ],
         "xaxis": "x",
         "y": [
          6405.158765466216,
          6694.025256943485,
          1593.5963069827392,
          28544.558223243148,
          1933.770782707755,
          1377.6714265656876,
          819.3678492802853,
          710.7486500697202,
          6627.140046292757,
          3767.740450274245,
          4269.488834376693,
          2264.329935045774,
          791.7616746786531,
          314.96221263853414,
          2641.7182575534034,
          7630.163891318922,
          365.5839676701125,
          3277.4713971211413,
          4821.849992979906,
          1954.8564339467239,
          649.6073399918942,
          3390.9664052468206,
          3398.1020458277767,
          757.0925167075072,
          4967.806287548191,
          362.5667452802035,
          10651.78204064371,
          1071.5368989091312,
          7661.496449317002,
          7216.268688791001,
          3019.106580061032,
          956.1577841896435,
          987.3402344422785,
          6835.444310352371,
          362.5667452802035,
          2783.5458400478797,
          1838.1259848718673,
          12274.33251997024,
          1364.5622783487624,
          313.8735351478681,
          4506.523171041569,
          970.6110151036889,
          1132.164967522887,
          2305.0930486988987,
          382.3349072525101
         ],
         "yaxis": "y"
        },
        {
         "alignmentgroup": "True",
         "hovertemplate": "Type of Power Plant=wind_onshore<br>State=%{x}<br>Locational Marginal Price Per MWH=%{y}<extra></extra>",
         "legendgroup": "wind_onshore",
         "marker": {
          "color": "#9BA4D6",
          "pattern": {
           "shape": ""
          }
         },
         "name": "wind_onshore",
         "offsetgroup": "wind_onshore",
         "orientation": "v",
         "showlegend": true,
         "textposition": "auto",
         "type": "bar",
         "x": [
          "alabama",
          "arizona",
          "arkansas",
          "california",
          "colorado",
          "connecticut",
          "florida",
          "idaho",
          "illinois",
          "indiana",
          "iowa",
          "kansas",
          "kentucky",
          "maine",
          "maryland",
          "massachusetts",
          "michigan",
          "minnesota",
          "missouri",
          "montana",
          "nebraska",
          "new_hampshire",
          "new_mexico",
          "new_york",
          "north_carolina",
          "north_dakota",
          "ohio",
          "oklahoma",
          "oregon",
          "pennsylvania",
          "south_carolina",
          "south_dakota",
          "tennessee",
          "texas",
          "utah",
          "washington",
          "west_virginia",
          "wisconsin",
          "wyoming"
         ],
         "xaxis": "x",
         "y": [
          291.7618671749243,
          572.9570554855866,
          234.08649294697204,
          3896.9412738180636,
          1666.470171392428,
          258.8890600293784,
          914.1013456267153,
          592.5330606459963,
          7295.291254548849,
          2053.757812160525,
          5591.562687930894,
          2069.721827484107,
          293.3939731657893,
          283.16309633830275,
          323.17103066186064,
          258.8890600293784,
          2134.555371618813,
          3106.423715517163,
          759.7415445597612,
          584.8564941717167,
          813.326604301785,
          276.74288971253816,
          542.6496077438022,
          2680.403047752464,
          295.6413389716649,
          1626.65320860357,
          1173.5758926631572,
          2809.0379153636645,
          1469.7992301297115,
          1901.7517627769882,
          226.806941928223,
          597.7826255859644,
          293.3939731657893,
          16202.66623753083,
          255.84564442339163,
          1900.57431186482,
          586.7879463315786,
          732.8574520945069,
          1195.9122708055663
         ],
         "yaxis": "y"
        },
        {
         "alignmentgroup": "True",
         "hovertemplate": "Type of Power Plant=solar_csp<br>State=%{x}<br>Locational Marginal Price Per MWH=%{y}<extra></extra>",
         "legendgroup": "solar_csp",
         "marker": {
          "color": "#BAE5E2",
          "pattern": {
           "shape": ""
          }
         },
         "name": "solar_csp",
         "offsetgroup": "solar_csp",
         "orientation": "v",
         "showlegend": true,
         "textposition": "auto",
         "type": "bar",
         "x": [
          "arizona",
          "california",
          "colorado",
          "florida",
          "montana",
          "nevada",
          "new_mexico",
          "oklahoma",
          "oregon",
          "texas",
          "utah",
          "washington",
          "wyoming"
         ],
         "xaxis": "x",
         "y": [
          865.7453694458771,
          2095.271023380076,
          240.17428766346023,
          2761.2669019337845,
          294.5718434357913,
          988.5487449232666,
          273.4373444782367,
          236.18932601391268,
          247.0590668375392,
          4391.342411201004,
          773.8455809950071,
          239.713910598497,
          301.0684614550849
         ],
         "yaxis": "y"
        },
        {
         "alignmentgroup": "True",
         "hovertemplate": "Type of Power Plant=biomass_conv_wo_ccs<br>State=%{x}<br>Locational Marginal Price Per MWH=%{y}<extra></extra>",
         "legendgroup": "biomass_conv_wo_ccs",
         "marker": {
          "color": "#9DC3E6",
          "pattern": {
           "shape": ""
          }
         },
         "name": "biomass_conv_wo_ccs",
         "offsetgroup": "biomass_conv_wo_ccs",
         "orientation": "v",
         "showlegend": true,
         "textposition": "auto",
         "type": "bar",
         "x": [
          "california",
          "connecticut",
          "florida",
          "maine",
          "new_hampshire",
          "new_york",
          "pennsylvania"
         ],
         "xaxis": "x",
         "y": [
          756.7635288904564,
          106.3817845412336,
          607.9244647764021,
          395.72166265346505,
          123.82532080622347,
          292.2593394833102,
          119.45334371526918
         ],
         "yaxis": "y"
        },
        {
         "alignmentgroup": "True",
         "hovertemplate": "Type of Power Plant=oil_ct_wo_ccs<br>State=%{x}<br>Locational Marginal Price Per MWH=%{y}<extra></extra>",
         "legendgroup": "oil_ct_wo_ccs",
         "marker": {
          "color": "#F4BFDB",
          "pattern": {
           "shape": ""
          }
         },
         "name": "oil_ct_wo_ccs",
         "offsetgroup": "oil_ct_wo_ccs",
         "orientation": "v",
         "showlegend": true,
         "textposition": "auto",
         "type": "bar",
         "x": [
          "california",
          "florida",
          "kentucky",
          "louisiana",
          "maryland",
          "montana",
          "new_york",
          "ohio",
          "pennsylvania",
          "texas",
          "virginia",
          "wisconsin"
         ],
         "xaxis": "x",
         "y": [
          418.8525114704295,
          7458.56006637268,
          1808.9720507294082,
          2115.326402478556,
          486.5661548435321,
          455.4163903643381,
          1377.5909074239396,
          904.4860253647041,
          486.5661548435321,
          471.6632607582556,
          973.1323096870642,
          405.75054263472646
         ],
         "yaxis": "y"
        }
       ],
       "layout": {
        "barmode": "relative",
        "font": {
         "color": "Black",
         "family": "Courier New",
         "size": 12
        },
        "legend": {
         "title": {
          "text": "Type of Power Plant"
         },
         "tracegroupgap": 0
        },
        "margin": {
         "t": 60
        },
        "plot_bgcolor": "rgb(240,240,240)",
        "template": {
         "data": {
          "bar": [
           {
            "error_x": {
             "color": "#2a3f5f"
            },
            "error_y": {
             "color": "#2a3f5f"
            },
            "marker": {
             "line": {
              "color": "#E5ECF6",
              "width": 0.5
             },
             "pattern": {
              "fillmode": "overlay",
              "size": 10,
              "solidity": 0.2
             }
            },
            "type": "bar"
           }
          ],
          "barpolar": [
           {
            "marker": {
             "line": {
              "color": "#E5ECF6",
              "width": 0.5
             },
             "pattern": {
              "fillmode": "overlay",
              "size": 10,
              "solidity": 0.2
             }
            },
            "type": "barpolar"
           }
          ],
          "carpet": [
           {
            "aaxis": {
             "endlinecolor": "#2a3f5f",
             "gridcolor": "white",
             "linecolor": "white",
             "minorgridcolor": "white",
             "startlinecolor": "#2a3f5f"
            },
            "baxis": {
             "endlinecolor": "#2a3f5f",
             "gridcolor": "white",
             "linecolor": "white",
             "minorgridcolor": "white",
             "startlinecolor": "#2a3f5f"
            },
            "type": "carpet"
           }
          ],
          "choropleth": [
           {
            "colorbar": {
             "outlinewidth": 0,
             "ticks": ""
            },
            "type": "choropleth"
           }
          ],
          "contour": [
           {
            "colorbar": {
             "outlinewidth": 0,
             "ticks": ""
            },
            "colorscale": [
             [
              0,
              "#0d0887"
             ],
             [
              0.1111111111111111,
              "#46039f"
             ],
             [
              0.2222222222222222,
              "#7201a8"
             ],
             [
              0.3333333333333333,
              "#9c179e"
             ],
             [
              0.4444444444444444,
              "#bd3786"
             ],
             [
              0.5555555555555556,
              "#d8576b"
             ],
             [
              0.6666666666666666,
              "#ed7953"
             ],
             [
              0.7777777777777778,
              "#fb9f3a"
             ],
             [
              0.8888888888888888,
              "#fdca26"
             ],
             [
              1,
              "#f0f921"
             ]
            ],
            "type": "contour"
           }
          ],
          "contourcarpet": [
           {
            "colorbar": {
             "outlinewidth": 0,
             "ticks": ""
            },
            "type": "contourcarpet"
           }
          ],
          "heatmap": [
           {
            "colorbar": {
             "outlinewidth": 0,
             "ticks": ""
            },
            "colorscale": [
             [
              0,
              "#0d0887"
             ],
             [
              0.1111111111111111,
              "#46039f"
             ],
             [
              0.2222222222222222,
              "#7201a8"
             ],
             [
              0.3333333333333333,
              "#9c179e"
             ],
             [
              0.4444444444444444,
              "#bd3786"
             ],
             [
              0.5555555555555556,
              "#d8576b"
             ],
             [
              0.6666666666666666,
              "#ed7953"
             ],
             [
              0.7777777777777778,
              "#fb9f3a"
             ],
             [
              0.8888888888888888,
              "#fdca26"
             ],
             [
              1,
              "#f0f921"
             ]
            ],
            "type": "heatmap"
           }
          ],
          "heatmapgl": [
           {
            "colorbar": {
             "outlinewidth": 0,
             "ticks": ""
            },
            "colorscale": [
             [
              0,
              "#0d0887"
             ],
             [
              0.1111111111111111,
              "#46039f"
             ],
             [
              0.2222222222222222,
              "#7201a8"
             ],
             [
              0.3333333333333333,
              "#9c179e"
             ],
             [
              0.4444444444444444,
              "#bd3786"
             ],
             [
              0.5555555555555556,
              "#d8576b"
             ],
             [
              0.6666666666666666,
              "#ed7953"
             ],
             [
              0.7777777777777778,
              "#fb9f3a"
             ],
             [
              0.8888888888888888,
              "#fdca26"
             ],
             [
              1,
              "#f0f921"
             ]
            ],
            "type": "heatmapgl"
           }
          ],
          "histogram": [
           {
            "marker": {
             "pattern": {
              "fillmode": "overlay",
              "size": 10,
              "solidity": 0.2
             }
            },
            "type": "histogram"
           }
          ],
          "histogram2d": [
           {
            "colorbar": {
             "outlinewidth": 0,
             "ticks": ""
            },
            "colorscale": [
             [
              0,
              "#0d0887"
             ],
             [
              0.1111111111111111,
              "#46039f"
             ],
             [
              0.2222222222222222,
              "#7201a8"
             ],
             [
              0.3333333333333333,
              "#9c179e"
             ],
             [
              0.4444444444444444,
              "#bd3786"
             ],
             [
              0.5555555555555556,
              "#d8576b"
             ],
             [
              0.6666666666666666,
              "#ed7953"
             ],
             [
              0.7777777777777778,
              "#fb9f3a"
             ],
             [
              0.8888888888888888,
              "#fdca26"
             ],
             [
              1,
              "#f0f921"
             ]
            ],
            "type": "histogram2d"
           }
          ],
          "histogram2dcontour": [
           {
            "colorbar": {
             "outlinewidth": 0,
             "ticks": ""
            },
            "colorscale": [
             [
              0,
              "#0d0887"
             ],
             [
              0.1111111111111111,
              "#46039f"
             ],
             [
              0.2222222222222222,
              "#7201a8"
             ],
             [
              0.3333333333333333,
              "#9c179e"
             ],
             [
              0.4444444444444444,
              "#bd3786"
             ],
             [
              0.5555555555555556,
              "#d8576b"
             ],
             [
              0.6666666666666666,
              "#ed7953"
             ],
             [
              0.7777777777777778,
              "#fb9f3a"
             ],
             [
              0.8888888888888888,
              "#fdca26"
             ],
             [
              1,
              "#f0f921"
             ]
            ],
            "type": "histogram2dcontour"
           }
          ],
          "mesh3d": [
           {
            "colorbar": {
             "outlinewidth": 0,
             "ticks": ""
            },
            "type": "mesh3d"
           }
          ],
          "parcoords": [
           {
            "line": {
             "colorbar": {
              "outlinewidth": 0,
              "ticks": ""
             }
            },
            "type": "parcoords"
           }
          ],
          "pie": [
           {
            "automargin": true,
            "type": "pie"
           }
          ],
          "scatter": [
           {
            "fillpattern": {
             "fillmode": "overlay",
             "size": 10,
             "solidity": 0.2
            },
            "type": "scatter"
           }
          ],
          "scatter3d": [
           {
            "line": {
             "colorbar": {
              "outlinewidth": 0,
              "ticks": ""
             }
            },
            "marker": {
             "colorbar": {
              "outlinewidth": 0,
              "ticks": ""
             }
            },
            "type": "scatter3d"
           }
          ],
          "scattercarpet": [
           {
            "marker": {
             "colorbar": {
              "outlinewidth": 0,
              "ticks": ""
             }
            },
            "type": "scattercarpet"
           }
          ],
          "scattergeo": [
           {
            "marker": {
             "colorbar": {
              "outlinewidth": 0,
              "ticks": ""
             }
            },
            "type": "scattergeo"
           }
          ],
          "scattergl": [
           {
            "marker": {
             "colorbar": {
              "outlinewidth": 0,
              "ticks": ""
             }
            },
            "type": "scattergl"
           }
          ],
          "scattermapbox": [
           {
            "marker": {
             "colorbar": {
              "outlinewidth": 0,
              "ticks": ""
             }
            },
            "type": "scattermapbox"
           }
          ],
          "scatterpolar": [
           {
            "marker": {
             "colorbar": {
              "outlinewidth": 0,
              "ticks": ""
             }
            },
            "type": "scatterpolar"
           }
          ],
          "scatterpolargl": [
           {
            "marker": {
             "colorbar": {
              "outlinewidth": 0,
              "ticks": ""
             }
            },
            "type": "scatterpolargl"
           }
          ],
          "scatterternary": [
           {
            "marker": {
             "colorbar": {
              "outlinewidth": 0,
              "ticks": ""
             }
            },
            "type": "scatterternary"
           }
          ],
          "surface": [
           {
            "colorbar": {
             "outlinewidth": 0,
             "ticks": ""
            },
            "colorscale": [
             [
              0,
              "#0d0887"
             ],
             [
              0.1111111111111111,
              "#46039f"
             ],
             [
              0.2222222222222222,
              "#7201a8"
             ],
             [
              0.3333333333333333,
              "#9c179e"
             ],
             [
              0.4444444444444444,
              "#bd3786"
             ],
             [
              0.5555555555555556,
              "#d8576b"
             ],
             [
              0.6666666666666666,
              "#ed7953"
             ],
             [
              0.7777777777777778,
              "#fb9f3a"
             ],
             [
              0.8888888888888888,
              "#fdca26"
             ],
             [
              1,
              "#f0f921"
             ]
            ],
            "type": "surface"
           }
          ],
          "table": [
           {
            "cells": {
             "fill": {
              "color": "#EBF0F8"
             },
             "line": {
              "color": "white"
             }
            },
            "header": {
             "fill": {
              "color": "#C8D4E3"
             },
             "line": {
              "color": "white"
             }
            },
            "type": "table"
           }
          ]
         },
         "layout": {
          "annotationdefaults": {
           "arrowcolor": "#2a3f5f",
           "arrowhead": 0,
           "arrowwidth": 1
          },
          "autotypenumbers": "strict",
          "coloraxis": {
           "colorbar": {
            "outlinewidth": 0,
            "ticks": ""
           }
          },
          "colorscale": {
           "diverging": [
            [
             0,
             "#8e0152"
            ],
            [
             0.1,
             "#c51b7d"
            ],
            [
             0.2,
             "#de77ae"
            ],
            [
             0.3,
             "#f1b6da"
            ],
            [
             0.4,
             "#fde0ef"
            ],
            [
             0.5,
             "#f7f7f7"
            ],
            [
             0.6,
             "#e6f5d0"
            ],
            [
             0.7,
             "#b8e186"
            ],
            [
             0.8,
             "#7fbc41"
            ],
            [
             0.9,
             "#4d9221"
            ],
            [
             1,
             "#276419"
            ]
           ],
           "sequential": [
            [
             0,
             "#0d0887"
            ],
            [
             0.1111111111111111,
             "#46039f"
            ],
            [
             0.2222222222222222,
             "#7201a8"
            ],
            [
             0.3333333333333333,
             "#9c179e"
            ],
            [
             0.4444444444444444,
             "#bd3786"
            ],
            [
             0.5555555555555556,
             "#d8576b"
            ],
            [
             0.6666666666666666,
             "#ed7953"
            ],
            [
             0.7777777777777778,
             "#fb9f3a"
            ],
            [
             0.8888888888888888,
             "#fdca26"
            ],
            [
             1,
             "#f0f921"
            ]
           ],
           "sequentialminus": [
            [
             0,
             "#0d0887"
            ],
            [
             0.1111111111111111,
             "#46039f"
            ],
            [
             0.2222222222222222,
             "#7201a8"
            ],
            [
             0.3333333333333333,
             "#9c179e"
            ],
            [
             0.4444444444444444,
             "#bd3786"
            ],
            [
             0.5555555555555556,
             "#d8576b"
            ],
            [
             0.6666666666666666,
             "#ed7953"
            ],
            [
             0.7777777777777778,
             "#fb9f3a"
            ],
            [
             0.8888888888888888,
             "#fdca26"
            ],
            [
             1,
             "#f0f921"
            ]
           ]
          },
          "colorway": [
           "#636efa",
           "#EF553B",
           "#00cc96",
           "#ab63fa",
           "#FFA15A",
           "#19d3f3",
           "#FF6692",
           "#B6E880",
           "#FF97FF",
           "#FECB52"
          ],
          "font": {
           "color": "#2a3f5f"
          },
          "geo": {
           "bgcolor": "white",
           "lakecolor": "white",
           "landcolor": "#E5ECF6",
           "showlakes": true,
           "showland": true,
           "subunitcolor": "white"
          },
          "hoverlabel": {
           "align": "left"
          },
          "hovermode": "closest",
          "mapbox": {
           "style": "light"
          },
          "paper_bgcolor": "white",
          "plot_bgcolor": "#E5ECF6",
          "polar": {
           "angularaxis": {
            "gridcolor": "white",
            "linecolor": "white",
            "ticks": ""
           },
           "bgcolor": "#E5ECF6",
           "radialaxis": {
            "gridcolor": "white",
            "linecolor": "white",
            "ticks": ""
           }
          },
          "scene": {
           "xaxis": {
            "backgroundcolor": "#E5ECF6",
            "gridcolor": "white",
            "gridwidth": 2,
            "linecolor": "white",
            "showbackground": true,
            "ticks": "",
            "zerolinecolor": "white"
           },
           "yaxis": {
            "backgroundcolor": "#E5ECF6",
            "gridcolor": "white",
            "gridwidth": 2,
            "linecolor": "white",
            "showbackground": true,
            "ticks": "",
            "zerolinecolor": "white"
           },
           "zaxis": {
            "backgroundcolor": "#E5ECF6",
            "gridcolor": "white",
            "gridwidth": 2,
            "linecolor": "white",
            "showbackground": true,
            "ticks": "",
            "zerolinecolor": "white"
           }
          },
          "shapedefaults": {
           "line": {
            "color": "#2a3f5f"
           }
          },
          "ternary": {
           "aaxis": {
            "gridcolor": "white",
            "linecolor": "white",
            "ticks": ""
           },
           "baxis": {
            "gridcolor": "white",
            "linecolor": "white",
            "ticks": ""
           },
           "bgcolor": "#E5ECF6",
           "caxis": {
            "gridcolor": "white",
            "linecolor": "white",
            "ticks": ""
           }
          },
          "title": {
           "x": 0.05
          },
          "xaxis": {
           "automargin": true,
           "gridcolor": "white",
           "linecolor": "white",
           "ticks": "",
           "title": {
            "standoff": 15
           },
           "zerolinecolor": "white",
           "zerolinewidth": 2
          },
          "yaxis": {
           "automargin": true,
           "gridcolor": "white",
           "linecolor": "white",
           "ticks": "",
           "title": {
            "standoff": 15
           },
           "zerolinecolor": "white",
           "zerolinewidth": 2
          }
         }
        },
        "title": {
         "text": "Locational Marginal Price by State and Type of Power Plant",
         "x": 0.42,
         "xanchor": "center",
         "y": 0.95,
         "yanchor": "top"
        },
        "xaxis": {
         "anchor": "y",
         "domain": [
          0,
          1
         ],
         "title": {
          "text": "State"
         }
        },
        "yaxis": {
         "anchor": "x",
         "domain": [
          0,
          1
         ],
         "title": {
          "text": "Locational Marginal Price Per MWH"
         }
        }
       }
      },
      "text/html": [
       "<div>                            <div id=\"07d3155a-64f6-4f9b-a052-8b393e4c1aed\" class=\"plotly-graph-div\" style=\"height:525px; width:100%;\"></div>            <script type=\"text/javascript\">                require([\"plotly\"], function(Plotly) {                    window.PLOTLYENV=window.PLOTLYENV || {};                                    if (document.getElementById(\"07d3155a-64f6-4f9b-a052-8b393e4c1aed\")) {                    Plotly.newPlot(                        \"07d3155a-64f6-4f9b-a052-8b393e4c1aed\",                        [{\"alignmentgroup\":\"True\",\"hovertemplate\":\"Type of Power Plant=coal_conv_pul_wo_ccs<br>State=%{x}<br>Locational Marginal Price Per MWH=%{y}<extra></extra>\",\"legendgroup\":\"coal_conv_pul_wo_ccs\",\"marker\":{\"color\":\"#F4B183\",\"pattern\":{\"shape\":\"\"}},\"name\":\"coal_conv_pul_wo_ccs\",\"offsetgroup\":\"coal_conv_pul_wo_ccs\",\"orientation\":\"v\",\"showlegend\":true,\"textposition\":\"auto\",\"x\":[\"alabama\",\"arizona\",\"arkansas\",\"colorado\",\"florida\",\"georgia\",\"illinois\",\"indiana\",\"iowa\",\"kansas\",\"kentucky\",\"louisiana\",\"maryland\",\"michigan\",\"minnesota\",\"mississippi\",\"missouri\",\"montana\",\"nebraska\",\"new_mexico\",\"north_carolina\",\"north_dakota\",\"ohio\",\"oklahoma\",\"pennsylvania\",\"south_carolina\",\"tennessee\",\"texas\",\"utah\",\"virginia\",\"west_virginia\",\"wisconsin\",\"wyoming\"],\"xaxis\":\"x\",\"y\":[1417.0116330003852,1514.0811290967008,497.57591862225183,829.6329445782784,1530.728571789359,1417.0116330003852,2980.024524680414,3218.868486661397,1584.9149867200945,572.1827038064416,2730.0917830616813,516.744268953585,228.8132101576732,2030.7806537576353,1193.5288063331982,157.4457370000428,2369.980335420291,628.6807567573783,958.4317063052788,274.0168963543834,1455.7739528658024,1232.2693366782157,3211.872685954919,597.0911023467022,2340.2619344776967,466.63529820117515,740.0196545244835,5716.3128484659555,970.4421774211488,647.0106457181344,2890.685417359427,1092.9540141293753,2151.098887502978],\"yaxis\":\"y\",\"type\":\"bar\"},{\"alignmentgroup\":\"True\",\"hovertemplate\":\"Type of Power Plant=gas_cc_w_ccs<br>State=%{x}<br>Locational Marginal Price Per MWH=%{y}<extra></extra>\",\"legendgroup\":\"gas_cc_w_ccs\",\"marker\":{\"color\":\"#FFE699\",\"pattern\":{\"shape\":\"\"}},\"name\":\"gas_cc_w_ccs\",\"offsetgroup\":\"gas_cc_w_ccs\",\"orientation\":\"v\",\"showlegend\":true,\"textposition\":\"auto\",\"x\":[\"alabama\",\"arizona\",\"arkansas\",\"california\",\"colorado\",\"connecticut\",\"delaware\",\"florida\",\"georgia\",\"idaho\",\"illinois\",\"indiana\",\"iowa\",\"kansas\",\"kentucky\",\"louisiana\",\"maine\",\"maryland\",\"massachusetts\",\"michigan\",\"minnesota\",\"mississippi\",\"missouri\",\"montana\",\"nebraska\",\"nevada\",\"new_hampshire\",\"new_jersey\",\"new_mexico\",\"new_york\",\"north_carolina\",\"north_dakota\",\"ohio\",\"oklahoma\",\"oregon\",\"pennsylvania\",\"rhode_island\",\"south_carolina\",\"tennessee\",\"texas\",\"utah\",\"vermont\",\"virginia\",\"washington\",\"west_virginia\",\"wisconsin\",\"wyoming\"],\"xaxis\":\"x\",\"y\":[6765.062859320536,3495.1311162760903,1605.0698163917336,6682.768296264319,1000.8462837837808,1186.4997680900062,390.0469879697041,13317.48168973765,5610.05212724142,172.27576400601504,6189.280787522663,3865.019251043308,1101.7708060800487,308.57296423135523,3024.797674729545,4506.505191835687,315.40977152952024,1365.1644578939645,1713.8329983522312,4596.236233493768,1285.3992737600568,4125.038328853985,2014.6803790091385,494.04104018401927,433.1558685397733,1996.022170172454,746.7020710779263,4485.540361651597,1011.290071749834,6513.32234266228,4568.431289337272,433.1558685397733,4873.285142619823,2140.0930885223115,1183.45299523268,8452.307084653148,448.0212426467558,2420.8705664568633,2419.8808103194574,24551.104050625872,1158.4512320539711,101.15215626585504,3722.4254950155546,992.2658732362507,2184.576098415783,1401.5838125796995,864.9943945086645],\"yaxis\":\"y\",\"type\":\"bar\"},{\"alignmentgroup\":\"True\",\"hovertemplate\":\"Type of Power Plant=gas_cc_wo_ccs<br>State=%{x}<br>Locational Marginal Price Per MWH=%{y}<extra></extra>\",\"legendgroup\":\"gas_cc_wo_ccs\",\"marker\":{\"color\":\"#AFABAB\",\"pattern\":{\"shape\":\"\"}},\"name\":\"gas_cc_wo_ccs\",\"offsetgroup\":\"gas_cc_wo_ccs\",\"orientation\":\"v\",\"showlegend\":true,\"textposition\":\"auto\",\"x\":[\"alabama\",\"arizona\",\"arkansas\",\"california\",\"colorado\",\"connecticut\",\"delaware\",\"florida\",\"georgia\",\"illinois\",\"indiana\",\"iowa\",\"kentucky\",\"louisiana\",\"maine\",\"maryland\",\"massachusetts\",\"michigan\",\"minnesota\",\"mississippi\",\"missouri\",\"nevada\",\"new_jersey\",\"new_york\",\"north_carolina\",\"ohio\",\"oklahoma\",\"oregon\",\"pennsylvania\",\"rhode_island\",\"south_carolina\",\"tennessee\",\"texas\",\"utah\",\"virginia\",\"washington\",\"wisconsin\"],\"xaxis\":\"x\",\"y\":[4267.669583631679,558.5811671190583,1134.4101409635173,1768.1021810165118,230.84559120118303,503.2691062596765,315.9335188238149,3569.7654565841262,2560.601750179008,910.1752539508066,572.549867705041,303.39175131693554,572.549867705041,4336.960436638127,276.0520057025607,315.9335188238149,1006.538212519353,1190.4450474504065,606.7835026338711,3414.135666905344,491.9988731800208,2139.4147362242093,3475.268707061964,3197.2133158574425,1154.102635537568,858.8248015575616,453.76405638540695,1189.0985673751427,4423.069263533409,269.38682633650205,878.710351016452,286.2749338525205,12179.565700635929,497.30759641341854,2308.205271075136,920.9146915862264,711.090355558886],\"yaxis\":\"y\",\"type\":\"bar\"},{\"alignmentgroup\":\"True\",\"hovertemplate\":\"Type of Power Plant=nuclear_gen_ii<br>State=%{x}<br>Locational Marginal Price Per MWH=%{y}<extra></extra>\",\"legendgroup\":\"nuclear_gen_ii\",\"marker\":{\"color\":\"#D993D9\",\"pattern\":{\"shape\":\"\"}},\"name\":\"nuclear_gen_ii\",\"offsetgroup\":\"nuclear_gen_ii\",\"orientation\":\"v\",\"showlegend\":true,\"textposition\":\"auto\",\"x\":[\"alabama\",\"arizona\",\"arkansas\",\"connecticut\",\"florida\",\"georgia\",\"illinois\",\"louisiana\",\"maryland\",\"michigan\",\"minnesota\",\"new_hampshire\",\"new_jersey\",\"new_york\",\"north_carolina\",\"ohio\",\"pennsylvania\",\"south_carolina\",\"tennessee\",\"texas\",\"virginia\"],\"xaxis\":\"x\",\"y\":[536.3331355708847,518.0149967318928,120.6903275421544,145.5041988716266,191.22824343877085,536.3331355708847,1163.1752165407393,149.98057113429974,208.8711431624409,381.3465973330007,197.20360131821212,163.0294582507417,417.7422863248818,370.1006664706284,548.3341163842701,181.53521017212103,1112.192987076367,457.18123125662333,337.854908790069,797.8780431369962,365.5560775895134],\"yaxis\":\"y\",\"type\":\"bar\"},{\"alignmentgroup\":\"True\",\"hovertemplate\":\"Type of Power Plant=solar_pv_non_dist<br>State=%{x}<br>Locational Marginal Price Per MWH=%{y}<extra></extra>\",\"legendgroup\":\"solar_pv_non_dist\",\"marker\":{\"color\":\"#FF8B7D\",\"pattern\":{\"shape\":\"\"}},\"name\":\"solar_pv_non_dist\",\"offsetgroup\":\"solar_pv_non_dist\",\"orientation\":\"v\",\"showlegend\":true,\"textposition\":\"auto\",\"x\":[\"alabama\",\"arizona\",\"arkansas\",\"california\",\"colorado\",\"connecticut\",\"delaware\",\"district_of_columbia\",\"florida\",\"georgia\",\"illinois\",\"indiana\",\"iowa\",\"kansas\",\"kentucky\",\"louisiana\",\"maine\",\"maryland\",\"massachusetts\",\"michigan\",\"minnesota\",\"mississippi\",\"missouri\",\"montana\",\"nevada\",\"new_hampshire\",\"new_jersey\",\"new_mexico\",\"new_york\",\"north_carolina\",\"ohio\",\"oklahoma\",\"oregon\",\"pennsylvania\",\"rhode_island\",\"south_carolina\",\"tennessee\",\"texas\",\"utah\",\"vermont\",\"virginia\",\"washington\",\"west_virginia\",\"wisconsin\",\"wyoming\"],\"xaxis\":\"x\",\"y\":[6405.158765466216,6694.025256943485,1593.5963069827392,28544.558223243148,1933.770782707755,1377.6714265656876,819.3678492802853,710.7486500697202,6627.140046292757,3767.740450274245,4269.488834376693,2264.329935045774,791.7616746786531,314.96221263853414,2641.7182575534034,7630.163891318922,365.5839676701125,3277.4713971211413,4821.849992979906,1954.8564339467239,649.6073399918942,3390.9664052468206,3398.1020458277767,757.0925167075072,4967.806287548191,362.5667452802035,10651.78204064371,1071.5368989091312,7661.496449317002,7216.268688791001,3019.106580061032,956.1577841896435,987.3402344422785,6835.444310352371,362.5667452802035,2783.5458400478797,1838.1259848718673,12274.33251997024,1364.5622783487624,313.8735351478681,4506.523171041569,970.6110151036889,1132.164967522887,2305.0930486988987,382.3349072525101],\"yaxis\":\"y\",\"type\":\"bar\"},{\"alignmentgroup\":\"True\",\"hovertemplate\":\"Type of Power Plant=wind_onshore<br>State=%{x}<br>Locational Marginal Price Per MWH=%{y}<extra></extra>\",\"legendgroup\":\"wind_onshore\",\"marker\":{\"color\":\"#9BA4D6\",\"pattern\":{\"shape\":\"\"}},\"name\":\"wind_onshore\",\"offsetgroup\":\"wind_onshore\",\"orientation\":\"v\",\"showlegend\":true,\"textposition\":\"auto\",\"x\":[\"alabama\",\"arizona\",\"arkansas\",\"california\",\"colorado\",\"connecticut\",\"florida\",\"idaho\",\"illinois\",\"indiana\",\"iowa\",\"kansas\",\"kentucky\",\"maine\",\"maryland\",\"massachusetts\",\"michigan\",\"minnesota\",\"missouri\",\"montana\",\"nebraska\",\"new_hampshire\",\"new_mexico\",\"new_york\",\"north_carolina\",\"north_dakota\",\"ohio\",\"oklahoma\",\"oregon\",\"pennsylvania\",\"south_carolina\",\"south_dakota\",\"tennessee\",\"texas\",\"utah\",\"washington\",\"west_virginia\",\"wisconsin\",\"wyoming\"],\"xaxis\":\"x\",\"y\":[291.7618671749243,572.9570554855866,234.08649294697204,3896.9412738180636,1666.470171392428,258.8890600293784,914.1013456267153,592.5330606459963,7295.291254548849,2053.757812160525,5591.562687930894,2069.721827484107,293.3939731657893,283.16309633830275,323.17103066186064,258.8890600293784,2134.555371618813,3106.423715517163,759.7415445597612,584.8564941717167,813.326604301785,276.74288971253816,542.6496077438022,2680.403047752464,295.6413389716649,1626.65320860357,1173.5758926631572,2809.0379153636645,1469.7992301297115,1901.7517627769882,226.806941928223,597.7826255859644,293.3939731657893,16202.66623753083,255.84564442339163,1900.57431186482,586.7879463315786,732.8574520945069,1195.9122708055663],\"yaxis\":\"y\",\"type\":\"bar\"},{\"alignmentgroup\":\"True\",\"hovertemplate\":\"Type of Power Plant=solar_csp<br>State=%{x}<br>Locational Marginal Price Per MWH=%{y}<extra></extra>\",\"legendgroup\":\"solar_csp\",\"marker\":{\"color\":\"#BAE5E2\",\"pattern\":{\"shape\":\"\"}},\"name\":\"solar_csp\",\"offsetgroup\":\"solar_csp\",\"orientation\":\"v\",\"showlegend\":true,\"textposition\":\"auto\",\"x\":[\"arizona\",\"california\",\"colorado\",\"florida\",\"montana\",\"nevada\",\"new_mexico\",\"oklahoma\",\"oregon\",\"texas\",\"utah\",\"washington\",\"wyoming\"],\"xaxis\":\"x\",\"y\":[865.7453694458771,2095.271023380076,240.17428766346023,2761.2669019337845,294.5718434357913,988.5487449232666,273.4373444782367,236.18932601391268,247.0590668375392,4391.342411201004,773.8455809950071,239.713910598497,301.0684614550849],\"yaxis\":\"y\",\"type\":\"bar\"},{\"alignmentgroup\":\"True\",\"hovertemplate\":\"Type of Power Plant=biomass_conv_wo_ccs<br>State=%{x}<br>Locational Marginal Price Per MWH=%{y}<extra></extra>\",\"legendgroup\":\"biomass_conv_wo_ccs\",\"marker\":{\"color\":\"#9DC3E6\",\"pattern\":{\"shape\":\"\"}},\"name\":\"biomass_conv_wo_ccs\",\"offsetgroup\":\"biomass_conv_wo_ccs\",\"orientation\":\"v\",\"showlegend\":true,\"textposition\":\"auto\",\"x\":[\"california\",\"connecticut\",\"florida\",\"maine\",\"new_hampshire\",\"new_york\",\"pennsylvania\"],\"xaxis\":\"x\",\"y\":[756.7635288904564,106.3817845412336,607.9244647764021,395.72166265346505,123.82532080622347,292.2593394833102,119.45334371526918],\"yaxis\":\"y\",\"type\":\"bar\"},{\"alignmentgroup\":\"True\",\"hovertemplate\":\"Type of Power Plant=oil_ct_wo_ccs<br>State=%{x}<br>Locational Marginal Price Per MWH=%{y}<extra></extra>\",\"legendgroup\":\"oil_ct_wo_ccs\",\"marker\":{\"color\":\"#F4BFDB\",\"pattern\":{\"shape\":\"\"}},\"name\":\"oil_ct_wo_ccs\",\"offsetgroup\":\"oil_ct_wo_ccs\",\"orientation\":\"v\",\"showlegend\":true,\"textposition\":\"auto\",\"x\":[\"california\",\"florida\",\"kentucky\",\"louisiana\",\"maryland\",\"montana\",\"new_york\",\"ohio\",\"pennsylvania\",\"texas\",\"virginia\",\"wisconsin\"],\"xaxis\":\"x\",\"y\":[418.8525114704295,7458.56006637268,1808.9720507294082,2115.326402478556,486.5661548435321,455.4163903643381,1377.5909074239396,904.4860253647041,486.5661548435321,471.6632607582556,973.1323096870642,405.75054263472646],\"yaxis\":\"y\",\"type\":\"bar\"}],                        {\"template\":{\"data\":{\"histogram2dcontour\":[{\"type\":\"histogram2dcontour\",\"colorbar\":{\"outlinewidth\":0,\"ticks\":\"\"},\"colorscale\":[[0.0,\"#0d0887\"],[0.1111111111111111,\"#46039f\"],[0.2222222222222222,\"#7201a8\"],[0.3333333333333333,\"#9c179e\"],[0.4444444444444444,\"#bd3786\"],[0.5555555555555556,\"#d8576b\"],[0.6666666666666666,\"#ed7953\"],[0.7777777777777778,\"#fb9f3a\"],[0.8888888888888888,\"#fdca26\"],[1.0,\"#f0f921\"]]}],\"choropleth\":[{\"type\":\"choropleth\",\"colorbar\":{\"outlinewidth\":0,\"ticks\":\"\"}}],\"histogram2d\":[{\"type\":\"histogram2d\",\"colorbar\":{\"outlinewidth\":0,\"ticks\":\"\"},\"colorscale\":[[0.0,\"#0d0887\"],[0.1111111111111111,\"#46039f\"],[0.2222222222222222,\"#7201a8\"],[0.3333333333333333,\"#9c179e\"],[0.4444444444444444,\"#bd3786\"],[0.5555555555555556,\"#d8576b\"],[0.6666666666666666,\"#ed7953\"],[0.7777777777777778,\"#fb9f3a\"],[0.8888888888888888,\"#fdca26\"],[1.0,\"#f0f921\"]]}],\"heatmap\":[{\"type\":\"heatmap\",\"colorbar\":{\"outlinewidth\":0,\"ticks\":\"\"},\"colorscale\":[[0.0,\"#0d0887\"],[0.1111111111111111,\"#46039f\"],[0.2222222222222222,\"#7201a8\"],[0.3333333333333333,\"#9c179e\"],[0.4444444444444444,\"#bd3786\"],[0.5555555555555556,\"#d8576b\"],[0.6666666666666666,\"#ed7953\"],[0.7777777777777778,\"#fb9f3a\"],[0.8888888888888888,\"#fdca26\"],[1.0,\"#f0f921\"]]}],\"heatmapgl\":[{\"type\":\"heatmapgl\",\"colorbar\":{\"outlinewidth\":0,\"ticks\":\"\"},\"colorscale\":[[0.0,\"#0d0887\"],[0.1111111111111111,\"#46039f\"],[0.2222222222222222,\"#7201a8\"],[0.3333333333333333,\"#9c179e\"],[0.4444444444444444,\"#bd3786\"],[0.5555555555555556,\"#d8576b\"],[0.6666666666666666,\"#ed7953\"],[0.7777777777777778,\"#fb9f3a\"],[0.8888888888888888,\"#fdca26\"],[1.0,\"#f0f921\"]]}],\"contourcarpet\":[{\"type\":\"contourcarpet\",\"colorbar\":{\"outlinewidth\":0,\"ticks\":\"\"}}],\"contour\":[{\"type\":\"contour\",\"colorbar\":{\"outlinewidth\":0,\"ticks\":\"\"},\"colorscale\":[[0.0,\"#0d0887\"],[0.1111111111111111,\"#46039f\"],[0.2222222222222222,\"#7201a8\"],[0.3333333333333333,\"#9c179e\"],[0.4444444444444444,\"#bd3786\"],[0.5555555555555556,\"#d8576b\"],[0.6666666666666666,\"#ed7953\"],[0.7777777777777778,\"#fb9f3a\"],[0.8888888888888888,\"#fdca26\"],[1.0,\"#f0f921\"]]}],\"surface\":[{\"type\":\"surface\",\"colorbar\":{\"outlinewidth\":0,\"ticks\":\"\"},\"colorscale\":[[0.0,\"#0d0887\"],[0.1111111111111111,\"#46039f\"],[0.2222222222222222,\"#7201a8\"],[0.3333333333333333,\"#9c179e\"],[0.4444444444444444,\"#bd3786\"],[0.5555555555555556,\"#d8576b\"],[0.6666666666666666,\"#ed7953\"],[0.7777777777777778,\"#fb9f3a\"],[0.8888888888888888,\"#fdca26\"],[1.0,\"#f0f921\"]]}],\"mesh3d\":[{\"type\":\"mesh3d\",\"colorbar\":{\"outlinewidth\":0,\"ticks\":\"\"}}],\"scatter\":[{\"fillpattern\":{\"fillmode\":\"overlay\",\"size\":10,\"solidity\":0.2},\"type\":\"scatter\"}],\"parcoords\":[{\"type\":\"parcoords\",\"line\":{\"colorbar\":{\"outlinewidth\":0,\"ticks\":\"\"}}}],\"scatterpolargl\":[{\"type\":\"scatterpolargl\",\"marker\":{\"colorbar\":{\"outlinewidth\":0,\"ticks\":\"\"}}}],\"bar\":[{\"error_x\":{\"color\":\"#2a3f5f\"},\"error_y\":{\"color\":\"#2a3f5f\"},\"marker\":{\"line\":{\"color\":\"#E5ECF6\",\"width\":0.5},\"pattern\":{\"fillmode\":\"overlay\",\"size\":10,\"solidity\":0.2}},\"type\":\"bar\"}],\"scattergeo\":[{\"type\":\"scattergeo\",\"marker\":{\"colorbar\":{\"outlinewidth\":0,\"ticks\":\"\"}}}],\"scatterpolar\":[{\"type\":\"scatterpolar\",\"marker\":{\"colorbar\":{\"outlinewidth\":0,\"ticks\":\"\"}}}],\"histogram\":[{\"marker\":{\"pattern\":{\"fillmode\":\"overlay\",\"size\":10,\"solidity\":0.2}},\"type\":\"histogram\"}],\"scattergl\":[{\"type\":\"scattergl\",\"marker\":{\"colorbar\":{\"outlinewidth\":0,\"ticks\":\"\"}}}],\"scatter3d\":[{\"type\":\"scatter3d\",\"line\":{\"colorbar\":{\"outlinewidth\":0,\"ticks\":\"\"}},\"marker\":{\"colorbar\":{\"outlinewidth\":0,\"ticks\":\"\"}}}],\"scattermapbox\":[{\"type\":\"scattermapbox\",\"marker\":{\"colorbar\":{\"outlinewidth\":0,\"ticks\":\"\"}}}],\"scatterternary\":[{\"type\":\"scatterternary\",\"marker\":{\"colorbar\":{\"outlinewidth\":0,\"ticks\":\"\"}}}],\"scattercarpet\":[{\"type\":\"scattercarpet\",\"marker\":{\"colorbar\":{\"outlinewidth\":0,\"ticks\":\"\"}}}],\"carpet\":[{\"aaxis\":{\"endlinecolor\":\"#2a3f5f\",\"gridcolor\":\"white\",\"linecolor\":\"white\",\"minorgridcolor\":\"white\",\"startlinecolor\":\"#2a3f5f\"},\"baxis\":{\"endlinecolor\":\"#2a3f5f\",\"gridcolor\":\"white\",\"linecolor\":\"white\",\"minorgridcolor\":\"white\",\"startlinecolor\":\"#2a3f5f\"},\"type\":\"carpet\"}],\"table\":[{\"cells\":{\"fill\":{\"color\":\"#EBF0F8\"},\"line\":{\"color\":\"white\"}},\"header\":{\"fill\":{\"color\":\"#C8D4E3\"},\"line\":{\"color\":\"white\"}},\"type\":\"table\"}],\"barpolar\":[{\"marker\":{\"line\":{\"color\":\"#E5ECF6\",\"width\":0.5},\"pattern\":{\"fillmode\":\"overlay\",\"size\":10,\"solidity\":0.2}},\"type\":\"barpolar\"}],\"pie\":[{\"automargin\":true,\"type\":\"pie\"}]},\"layout\":{\"autotypenumbers\":\"strict\",\"colorway\":[\"#636efa\",\"#EF553B\",\"#00cc96\",\"#ab63fa\",\"#FFA15A\",\"#19d3f3\",\"#FF6692\",\"#B6E880\",\"#FF97FF\",\"#FECB52\"],\"font\":{\"color\":\"#2a3f5f\"},\"hovermode\":\"closest\",\"hoverlabel\":{\"align\":\"left\"},\"paper_bgcolor\":\"white\",\"plot_bgcolor\":\"#E5ECF6\",\"polar\":{\"bgcolor\":\"#E5ECF6\",\"angularaxis\":{\"gridcolor\":\"white\",\"linecolor\":\"white\",\"ticks\":\"\"},\"radialaxis\":{\"gridcolor\":\"white\",\"linecolor\":\"white\",\"ticks\":\"\"}},\"ternary\":{\"bgcolor\":\"#E5ECF6\",\"aaxis\":{\"gridcolor\":\"white\",\"linecolor\":\"white\",\"ticks\":\"\"},\"baxis\":{\"gridcolor\":\"white\",\"linecolor\":\"white\",\"ticks\":\"\"},\"caxis\":{\"gridcolor\":\"white\",\"linecolor\":\"white\",\"ticks\":\"\"}},\"coloraxis\":{\"colorbar\":{\"outlinewidth\":0,\"ticks\":\"\"}},\"colorscale\":{\"sequential\":[[0.0,\"#0d0887\"],[0.1111111111111111,\"#46039f\"],[0.2222222222222222,\"#7201a8\"],[0.3333333333333333,\"#9c179e\"],[0.4444444444444444,\"#bd3786\"],[0.5555555555555556,\"#d8576b\"],[0.6666666666666666,\"#ed7953\"],[0.7777777777777778,\"#fb9f3a\"],[0.8888888888888888,\"#fdca26\"],[1.0,\"#f0f921\"]],\"sequentialminus\":[[0.0,\"#0d0887\"],[0.1111111111111111,\"#46039f\"],[0.2222222222222222,\"#7201a8\"],[0.3333333333333333,\"#9c179e\"],[0.4444444444444444,\"#bd3786\"],[0.5555555555555556,\"#d8576b\"],[0.6666666666666666,\"#ed7953\"],[0.7777777777777778,\"#fb9f3a\"],[0.8888888888888888,\"#fdca26\"],[1.0,\"#f0f921\"]],\"diverging\":[[0,\"#8e0152\"],[0.1,\"#c51b7d\"],[0.2,\"#de77ae\"],[0.3,\"#f1b6da\"],[0.4,\"#fde0ef\"],[0.5,\"#f7f7f7\"],[0.6,\"#e6f5d0\"],[0.7,\"#b8e186\"],[0.8,\"#7fbc41\"],[0.9,\"#4d9221\"],[1,\"#276419\"]]},\"xaxis\":{\"gridcolor\":\"white\",\"linecolor\":\"white\",\"ticks\":\"\",\"title\":{\"standoff\":15},\"zerolinecolor\":\"white\",\"automargin\":true,\"zerolinewidth\":2},\"yaxis\":{\"gridcolor\":\"white\",\"linecolor\":\"white\",\"ticks\":\"\",\"title\":{\"standoff\":15},\"zerolinecolor\":\"white\",\"automargin\":true,\"zerolinewidth\":2},\"scene\":{\"xaxis\":{\"backgroundcolor\":\"#E5ECF6\",\"gridcolor\":\"white\",\"linecolor\":\"white\",\"showbackground\":true,\"ticks\":\"\",\"zerolinecolor\":\"white\",\"gridwidth\":2},\"yaxis\":{\"backgroundcolor\":\"#E5ECF6\",\"gridcolor\":\"white\",\"linecolor\":\"white\",\"showbackground\":true,\"ticks\":\"\",\"zerolinecolor\":\"white\",\"gridwidth\":2},\"zaxis\":{\"backgroundcolor\":\"#E5ECF6\",\"gridcolor\":\"white\",\"linecolor\":\"white\",\"showbackground\":true,\"ticks\":\"\",\"zerolinecolor\":\"white\",\"gridwidth\":2}},\"shapedefaults\":{\"line\":{\"color\":\"#2a3f5f\"}},\"annotationdefaults\":{\"arrowcolor\":\"#2a3f5f\",\"arrowhead\":0,\"arrowwidth\":1},\"geo\":{\"bgcolor\":\"white\",\"landcolor\":\"#E5ECF6\",\"subunitcolor\":\"white\",\"showland\":true,\"showlakes\":true,\"lakecolor\":\"white\"},\"title\":{\"x\":0.05},\"mapbox\":{\"style\":\"light\"}}},\"xaxis\":{\"anchor\":\"y\",\"domain\":[0.0,1.0],\"title\":{\"text\":\"State\"}},\"yaxis\":{\"anchor\":\"x\",\"domain\":[0.0,1.0],\"title\":{\"text\":\"Locational Marginal Price Per MWH\"}},\"legend\":{\"title\":{\"text\":\"Type of Power Plant\"},\"tracegroupgap\":0},\"margin\":{\"t\":60},\"barmode\":\"relative\",\"title\":{\"text\":\"Locational Marginal Price by State and Type of Power Plant\",\"y\":0.95,\"x\":0.42,\"xanchor\":\"center\",\"yanchor\":\"top\"},\"font\":{\"family\":\"Courier New\",\"size\":12,\"color\":\"Black\"},\"plot_bgcolor\":\"rgb(240,240,240)\"},                        {\"responsive\": true}                    ).then(function(){\n",
       "                            \n",
       "var gd = document.getElementById('07d3155a-64f6-4f9b-a052-8b393e4c1aed');\n",
       "var x = new MutationObserver(function (mutations, observer) {{\n",
       "        var display = window.getComputedStyle(gd).display;\n",
       "        if (!display || display === 'none') {{\n",
       "            console.log([gd, 'removed!']);\n",
       "            Plotly.purge(gd);\n",
       "            observer.disconnect();\n",
       "        }}\n",
       "}});\n",
       "\n",
       "// Listen for the removal of the full notebook cells\n",
       "var notebookContainer = gd.closest('#notebook-container');\n",
       "if (notebookContainer) {{\n",
       "    x.observe(notebookContainer, {childList: true});\n",
       "}}\n",
       "\n",
       "// Listen for the clearing of the current output cell\n",
       "var outputEl = gd.closest('.output');\n",
       "if (outputEl) {{\n",
       "    x.observe(outputEl, {childList: true});\n",
       "}}\n",
       "\n",
       "                        })                };                });            </script>        </div>"
      ]
     },
     "metadata": {},
     "output_type": "display_data"
    }
   ],
   "source": [
    "fig = px.bar(sum_df, x=\"region_name\", \n",
    "             y=\"locational_marginal_price_usd_per_mwh\", \n",
    "             color=\"tech_name\",\n",
    "            labels ={\n",
    "                \"tech_name\": \"Type of Power Plant\",\n",
    "                \"y\": \"Amount\", \n",
    "                \"region_name\":\"State\",\n",
    "                \"locational_marginal_price_usd_per_mwh\":\"Locational Marginal Price Per MWH\"\n",
    "                 },\n",
    "            color_discrete_map={\"biomass_conv_wo_ccs\": \"#9DC3E6\", \n",
    "                                  \"gas_cc_w_ccs\": \"#FFE699\",\n",
    "                                  \"gas_cc_wo_ccs\":\"#AFABAB\",\n",
    "                                  \"oil_ct_wo_ccs\":\"#F4BFDB\",\n",
    "                                 \"solar_csp\":\"#BAE5E2\",\n",
    "                                  \"solar_pv_non_dist\":\"#FF8B7D\",\n",
    "                                  \"wind_onshore\":\"#9BA4D6\",\n",
    "                                 \"biomass_igcc_wo_ccs\":\"#C5E0B4\",\n",
    "                                 \"coal_conv_pul_wo_ccs\":\"#F4B183\",\n",
    "                                 \"nuclear_gen_iii\":\"#AB7BFF\",\n",
    "                                 \"nuclear_gen_ii\":\"#D993D9\"} \n",
    "\n",
    ")\n",
    "fig.update_layout(\n",
    "    title={\n",
    "        'text': \"Locational Marginal Price by State and Type of Power Plant\",\n",
    "        'y':.95,\n",
    "        'x':0.42,\n",
    "        'xanchor': 'center',\n",
    "        'yanchor': 'top'},\n",
    "    font = dict(\n",
    "        family=\"Courier New\",\n",
    "        size=12,\n",
    "        color=\"Black\"\n",
    "    ),\n",
    "    plot_bgcolor='rgb(240,240,240)'\n",
    "\n",
    ")\n",
    "\n",
    "fig.show()"
   ]
  },
  {
   "cell_type": "code",
   "execution_count": null,
   "id": "f5b736d6",
   "metadata": {},
   "outputs": [],
   "source": []
  },
  {
   "cell_type": "code",
   "execution_count": null,
   "id": "cef8340e",
   "metadata": {},
   "outputs": [],
   "source": []
  }
 ],
 "metadata": {
  "kernelspec": {
   "display_name": "Python 3 (ipykernel)",
   "language": "python",
   "name": "python3"
  },
  "language_info": {
   "codemirror_mode": {
    "name": "ipython",
    "version": 3
   },
   "file_extension": ".py",
   "mimetype": "text/x-python",
   "name": "python",
   "nbconvert_exporter": "python",
   "pygments_lexer": "ipython3",
   "version": "3.9.12"
  }
 },
 "nbformat": 4,
 "nbformat_minor": 5
}
